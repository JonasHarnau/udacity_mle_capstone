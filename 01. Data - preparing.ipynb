{
 "cells": [
  {
   "cell_type": "markdown",
   "metadata": {},
   "source": [
    "# Figuring out what data we want.\n",
    "The *turtle* parent category has WnID *n01662784*, see http://www.image-net.org/synset?wnid=n01662784"
   ]
  },
  {
   "cell_type": "code",
   "execution_count": 1,
   "metadata": {},
   "outputs": [],
   "source": [
    "import pandas as pd"
   ]
  },
  {
   "cell_type": "code",
   "execution_count": 2,
   "metadata": {},
   "outputs": [],
   "source": [
    "WnID_parent_child = pd.read_csv('./data/WnID_parent_child_relations.txt', header=None, sep=' ').rename(columns={0: 'parent', 1: 'child'})"
   ]
  },
  {
   "cell_type": "code",
   "execution_count": 3,
   "metadata": {},
   "outputs": [],
   "source": [
    "turtle_children = WnID_parent_child.loc[WnID_parent_child['parent'] == 'n01662784']\n",
    "turtle_grandchildren = WnID_parent_child.loc[WnID_parent_child['parent'].isin(\n",
    "    turtle_children['child'])].rename(columns={'parent': 'child', 'child': 'grandchild'})\n",
    "turtle_grandgrandchildren = WnID_parent_child.loc[WnID_parent_child['parent'].isin(\n",
    "    turtle_grandchildren['grandchild'])].rename(columns={'parent': 'grandchild', 'child': 'grandgrandchild'})"
   ]
  },
  {
   "cell_type": "code",
   "execution_count": 4,
   "metadata": {},
   "outputs": [
    {
     "name": "stdout",
     "output_type": "stream",
     "text": [
      "There are no grand-grand-grand-children:\n"
     ]
    },
    {
     "data": {
      "text/html": [
       "<div>\n",
       "<style>\n",
       "    .dataframe thead tr:only-child th {\n",
       "        text-align: right;\n",
       "    }\n",
       "\n",
       "    .dataframe thead th {\n",
       "        text-align: left;\n",
       "    }\n",
       "\n",
       "    .dataframe tbody tr th {\n",
       "        vertical-align: top;\n",
       "    }\n",
       "</style>\n",
       "<table border=\"1\" class=\"dataframe\">\n",
       "  <thead>\n",
       "    <tr style=\"text-align: right;\">\n",
       "      <th></th>\n",
       "      <th>grandgrandchild</th>\n",
       "      <th>grandgrandgrandchild</th>\n",
       "    </tr>\n",
       "  </thead>\n",
       "  <tbody>\n",
       "  </tbody>\n",
       "</table>\n",
       "</div>"
      ],
      "text/plain": [
       "Empty DataFrame\n",
       "Columns: [grandgrandchild, grandgrandgrandchild]\n",
       "Index: []"
      ]
     },
     "metadata": {},
     "output_type": "display_data"
    }
   ],
   "source": [
    "print('There are no grand-grand-grand-children:')\n",
    "turtle_grandgrandgrandchildren = WnID_parent_child.loc[WnID_parent_child['parent'].isin(\n",
    "    turtle_grandgrandchildren['grandgrandchild'])].rename(columns={'parent': 'grandgrandchild', 'child': 'grandgrandgrandchild'})\n",
    "display(turtle_grandgrandgrandchildren)"
   ]
  },
  {
   "cell_type": "code",
   "execution_count": 5,
   "metadata": {},
   "outputs": [
    {
     "data": {
      "text/html": [
       "<div>\n",
       "<style>\n",
       "    .dataframe thead tr:only-child th {\n",
       "        text-align: right;\n",
       "    }\n",
       "\n",
       "    .dataframe thead th {\n",
       "        text-align: left;\n",
       "    }\n",
       "\n",
       "    .dataframe tbody tr th {\n",
       "        vertical-align: top;\n",
       "    }\n",
       "</style>\n",
       "<table border=\"1\" class=\"dataframe\">\n",
       "  <thead>\n",
       "    <tr style=\"text-align: right;\">\n",
       "      <th></th>\n",
       "      <th></th>\n",
       "      <th></th>\n",
       "      <th></th>\n",
       "    </tr>\n",
       "    <tr>\n",
       "      <th>parent</th>\n",
       "      <th>child</th>\n",
       "      <th>grandchild</th>\n",
       "      <th>grandgrandchild</th>\n",
       "    </tr>\n",
       "  </thead>\n",
       "  <tbody>\n",
       "    <tr>\n",
       "      <th rowspan=\"22\" valign=\"top\">n01662784</th>\n",
       "      <th rowspan=\"6\" valign=\"top\">n01663401</th>\n",
       "      <th>n01664065</th>\n",
       "      <th>NaN</th>\n",
       "    </tr>\n",
       "    <tr>\n",
       "      <th>n01663782</th>\n",
       "      <th>NaN</th>\n",
       "    </tr>\n",
       "    <tr>\n",
       "      <th rowspan=\"2\" valign=\"top\">n01664369</th>\n",
       "      <th>n01664674</th>\n",
       "    </tr>\n",
       "    <tr>\n",
       "      <th>n01664492</th>\n",
       "    </tr>\n",
       "    <tr>\n",
       "      <th>n01664990</th>\n",
       "      <th>NaN</th>\n",
       "    </tr>\n",
       "    <tr>\n",
       "      <th>n01665541</th>\n",
       "      <th>NaN</th>\n",
       "    </tr>\n",
       "    <tr>\n",
       "      <th rowspan=\"2\" valign=\"top\">n01665932</th>\n",
       "      <th>n01666228</th>\n",
       "      <th>NaN</th>\n",
       "    </tr>\n",
       "    <tr>\n",
       "      <th>n01666585</th>\n",
       "      <th>NaN</th>\n",
       "    </tr>\n",
       "    <tr>\n",
       "      <th>n01667114</th>\n",
       "      <th>n01667432</th>\n",
       "      <th>NaN</th>\n",
       "    </tr>\n",
       "    <tr>\n",
       "      <th>n01667778</th>\n",
       "      <th>n01668091</th>\n",
       "      <th>NaN</th>\n",
       "    </tr>\n",
       "    <tr>\n",
       "      <th>n01668436</th>\n",
       "      <th>NaN</th>\n",
       "      <th>NaN</th>\n",
       "    </tr>\n",
       "    <tr>\n",
       "      <th>n01668665</th>\n",
       "      <th>NaN</th>\n",
       "      <th>NaN</th>\n",
       "    </tr>\n",
       "    <tr>\n",
       "      <th>n01668892</th>\n",
       "      <th>NaN</th>\n",
       "      <th>NaN</th>\n",
       "    </tr>\n",
       "    <tr>\n",
       "      <th>n01669191</th>\n",
       "      <th>n01669372</th>\n",
       "      <th>NaN</th>\n",
       "    </tr>\n",
       "    <tr>\n",
       "      <th>n01669654</th>\n",
       "      <th>NaN</th>\n",
       "      <th>NaN</th>\n",
       "    </tr>\n",
       "    <tr>\n",
       "      <th rowspan=\"5\" valign=\"top\">n01670092</th>\n",
       "      <th>n01670535</th>\n",
       "      <th>NaN</th>\n",
       "    </tr>\n",
       "    <tr>\n",
       "      <th>n01670802</th>\n",
       "      <th>NaN</th>\n",
       "    </tr>\n",
       "    <tr>\n",
       "      <th>n01671125</th>\n",
       "      <th>NaN</th>\n",
       "    </tr>\n",
       "    <tr>\n",
       "      <th>n01671479</th>\n",
       "      <th>NaN</th>\n",
       "    </tr>\n",
       "    <tr>\n",
       "      <th>n01671705</th>\n",
       "      <th>NaN</th>\n",
       "    </tr>\n",
       "    <tr>\n",
       "      <th rowspan=\"2\" valign=\"top\">n01672032</th>\n",
       "      <th>n01672432</th>\n",
       "      <th>NaN</th>\n",
       "    </tr>\n",
       "    <tr>\n",
       "      <th>n01672611</th>\n",
       "      <th>NaN</th>\n",
       "    </tr>\n",
       "  </tbody>\n",
       "</table>\n",
       "</div>"
      ],
      "text/plain": [
       "Empty DataFrame\n",
       "Columns: []\n",
       "Index: [(n01662784, n01663401, n01664065, nan), (n01662784, n01663401, n01663782, nan), (n01662784, n01663401, n01664369, n01664674), (n01662784, n01663401, n01664369, n01664492), (n01662784, n01663401, n01664990, nan), (n01662784, n01663401, n01665541, nan), (n01662784, n01665932, n01666228, nan), (n01662784, n01665932, n01666585, nan), (n01662784, n01667114, n01667432, nan), (n01662784, n01667778, n01668091, nan), (n01662784, n01668436, nan, nan), (n01662784, n01668665, nan, nan), (n01662784, n01668892, nan, nan), (n01662784, n01669191, n01669372, nan), (n01662784, n01669654, nan, nan), (n01662784, n01670092, n01670535, nan), (n01662784, n01670092, n01670802, nan), (n01662784, n01670092, n01671125, nan), (n01662784, n01670092, n01671479, nan), (n01662784, n01670092, n01671705, nan), (n01662784, n01672032, n01672432, nan), (n01662784, n01672032, n01672611, nan)]"
      ]
     },
     "metadata": {},
     "output_type": "display_data"
    }
   ],
   "source": [
    "turtle_lineage = pd.merge(pd.merge(turtle_children, turtle_grandchildren, on='child', how='left'), \n",
    "                          turtle_grandgrandchildren, on='grandchild', how='left')\n",
    "display(turtle_lineage.set_index(['parent', 'child', 'grandchild', 'grandgrandchild']))"
   ]
  },
  {
   "cell_type": "markdown",
   "metadata": {},
   "source": [
    "For parents with a single child, we decided to go with the parent class. An example for this is the WnID *n01667778*: this refers to *Terrapin* (http://www.image-net.org/synset?wnid=n01667778) which has only the *Diamondback Terrapin* as a child. This will also be useful for the bounding box data since if boxes are available they are available for the parent in such cases, but not the child."
   ]
  },
  {
   "cell_type": "code",
   "execution_count": 6,
   "metadata": {},
   "outputs": [],
   "source": [
    "kept_WnIDs = turtle_lineage['grandgrandchild']\n",
    "kept_WnIDs.loc[~turtle_lineage['grandchild'].duplicated(keep=False)] = turtle_lineage['grandchild'][~turtle_lineage['grandchild'].duplicated(keep=False)]\n",
    "kept_WnIDs.loc[~turtle_lineage['child'].duplicated(keep=False)] = turtle_lineage['child'][~turtle_lineage['child'].duplicated(keep=False)]"
   ]
  },
  {
   "cell_type": "markdown",
   "metadata": {},
   "source": [
    "Now we can take a look at the associated species."
   ]
  },
  {
   "cell_type": "code",
   "execution_count": 7,
   "metadata": {},
   "outputs": [],
   "source": [
    "WnID_imagenet_class_relation = pd.read_csv(\n",
    "    './data/WnID_to_classname.txt', header=None, sep='\t').rename(columns={0: 'WnID', 1: 'Label'}).set_index('WnID')\n",
    "WnID_turtle_species_relation = WnID_imagenet_class_relation.loc[kept_WnIDs.values]\n",
    "WnID_turtle_species_relation = WnID_turtle_species_relation['Label'].str.split(',', expand=True)[0].str.title()\n",
    "turtle_information = WnID_turtle_species_relation.rename('Species').reset_index().set_index('Species')"
   ]
  },
  {
   "cell_type": "code",
   "execution_count": 8,
   "metadata": {},
   "outputs": [
    {
     "name": "stdout",
     "output_type": "stream",
     "text": [
      "We have data for 22 species.\n"
     ]
    },
    {
     "data": {
      "text/html": [
       "<div>\n",
       "<style>\n",
       "    .dataframe thead tr:only-child th {\n",
       "        text-align: right;\n",
       "    }\n",
       "\n",
       "    .dataframe thead th {\n",
       "        text-align: left;\n",
       "    }\n",
       "\n",
       "    .dataframe tbody tr th {\n",
       "        vertical-align: top;\n",
       "    }\n",
       "</style>\n",
       "<table border=\"1\" class=\"dataframe\">\n",
       "  <thead>\n",
       "    <tr style=\"text-align: right;\">\n",
       "      <th></th>\n",
       "      <th>WnID</th>\n",
       "    </tr>\n",
       "    <tr>\n",
       "      <th>Species</th>\n",
       "      <th></th>\n",
       "    </tr>\n",
       "  </thead>\n",
       "  <tbody>\n",
       "    <tr>\n",
       "      <th>Loggerhead</th>\n",
       "      <td>n01664065</td>\n",
       "    </tr>\n",
       "    <tr>\n",
       "      <th>Green Turtle</th>\n",
       "      <td>n01663782</td>\n",
       "    </tr>\n",
       "    <tr>\n",
       "      <th>Pacific Ridley</th>\n",
       "      <td>n01664674</td>\n",
       "    </tr>\n",
       "    <tr>\n",
       "      <th>Atlantic Ridley</th>\n",
       "      <td>n01664492</td>\n",
       "    </tr>\n",
       "    <tr>\n",
       "      <th>Hawksbill Turtle</th>\n",
       "      <td>n01664990</td>\n",
       "    </tr>\n",
       "    <tr>\n",
       "      <th>Leatherback Turtle</th>\n",
       "      <td>n01665541</td>\n",
       "    </tr>\n",
       "    <tr>\n",
       "      <th>Common Snapping Turtle</th>\n",
       "      <td>n01666228</td>\n",
       "    </tr>\n",
       "    <tr>\n",
       "      <th>Alligator Snapping Turtle</th>\n",
       "      <td>n01666585</td>\n",
       "    </tr>\n",
       "    <tr>\n",
       "      <th>Mud Turtle</th>\n",
       "      <td>n01667114</td>\n",
       "    </tr>\n",
       "    <tr>\n",
       "      <th>Terrapin</th>\n",
       "      <td>n01667778</td>\n",
       "    </tr>\n",
       "    <tr>\n",
       "      <th>Red-Bellied Terrapin</th>\n",
       "      <td>n01668436</td>\n",
       "    </tr>\n",
       "    <tr>\n",
       "      <th>Slider</th>\n",
       "      <td>n01668665</td>\n",
       "    </tr>\n",
       "    <tr>\n",
       "      <th>Cooter</th>\n",
       "      <td>n01668892</td>\n",
       "    </tr>\n",
       "    <tr>\n",
       "      <th>Box Turtle</th>\n",
       "      <td>n01669191</td>\n",
       "    </tr>\n",
       "    <tr>\n",
       "      <th>Painted Turtle</th>\n",
       "      <td>n01669654</td>\n",
       "    </tr>\n",
       "    <tr>\n",
       "      <th>European Tortoise</th>\n",
       "      <td>n01670535</td>\n",
       "    </tr>\n",
       "    <tr>\n",
       "      <th>Giant Tortoise</th>\n",
       "      <td>n01670802</td>\n",
       "    </tr>\n",
       "    <tr>\n",
       "      <th>Gopher Tortoise</th>\n",
       "      <td>n01671125</td>\n",
       "    </tr>\n",
       "    <tr>\n",
       "      <th>Desert Tortoise</th>\n",
       "      <td>n01671479</td>\n",
       "    </tr>\n",
       "    <tr>\n",
       "      <th>Texas Tortoise</th>\n",
       "      <td>n01671705</td>\n",
       "    </tr>\n",
       "    <tr>\n",
       "      <th>Spiny Softshell</th>\n",
       "      <td>n01672432</td>\n",
       "    </tr>\n",
       "    <tr>\n",
       "      <th>Smooth Softshell</th>\n",
       "      <td>n01672611</td>\n",
       "    </tr>\n",
       "  </tbody>\n",
       "</table>\n",
       "</div>"
      ],
      "text/plain": [
       "                                WnID\n",
       "Species                             \n",
       "Loggerhead                 n01664065\n",
       "Green Turtle               n01663782\n",
       "Pacific Ridley             n01664674\n",
       "Atlantic Ridley            n01664492\n",
       "Hawksbill Turtle           n01664990\n",
       "Leatherback Turtle         n01665541\n",
       "Common Snapping Turtle     n01666228\n",
       "Alligator Snapping Turtle  n01666585\n",
       "Mud Turtle                 n01667114\n",
       "Terrapin                   n01667778\n",
       "Red-Bellied Terrapin       n01668436\n",
       "Slider                     n01668665\n",
       "Cooter                     n01668892\n",
       "Box Turtle                 n01669191\n",
       "Painted Turtle             n01669654\n",
       "European Tortoise          n01670535\n",
       "Giant Tortoise             n01670802\n",
       "Gopher Tortoise            n01671125\n",
       "Desert Tortoise            n01671479\n",
       "Texas Tortoise             n01671705\n",
       "Spiny Softshell            n01672432\n",
       "Smooth Softshell           n01672611"
      ]
     },
     "metadata": {},
     "output_type": "display_data"
    }
   ],
   "source": [
    "print('We have data for {} species.'.format(len(turtle_information)))\n",
    "display(turtle_information)"
   ]
  },
  {
   "cell_type": "markdown",
   "metadata": {},
   "source": [
    "We downloaded the tar files for these WnIDs. The files are provided in ``./data/archives/images``."
   ]
  },
  {
   "cell_type": "markdown",
   "metadata": {},
   "source": [
    "## Now we look at bounding boxes"
   ]
  },
  {
   "cell_type": "code",
   "execution_count": 9,
   "metadata": {},
   "outputs": [],
   "source": [
    "with open('./data/WnID_bounding_boxes.txt', 'r') as f:\n",
    "    bounding_box_WnIDs = [line.strip() for line in f.readlines() if line.strip() in kept_WnIDs.values]"
   ]
  },
  {
   "cell_type": "code",
   "execution_count": 10,
   "metadata": {},
   "outputs": [],
   "source": [
    "turtle_information['bboxes'] = False\n",
    "turtle_information.loc[turtle_information['WnID'].isin(bounding_box_WnIDs), 'bboxes'] = True"
   ]
  },
  {
   "cell_type": "code",
   "execution_count": 11,
   "metadata": {},
   "outputs": [
    {
     "name": "stdout",
     "output_type": "stream",
     "text": [
      "We have bounding boxes for 5 species\n",
      "Specifically, the following species.\n"
     ]
    },
    {
     "data": {
      "text/html": [
       "<div>\n",
       "<style>\n",
       "    .dataframe thead tr:only-child th {\n",
       "        text-align: right;\n",
       "    }\n",
       "\n",
       "    .dataframe thead th {\n",
       "        text-align: left;\n",
       "    }\n",
       "\n",
       "    .dataframe tbody tr th {\n",
       "        vertical-align: top;\n",
       "    }\n",
       "</style>\n",
       "<table border=\"1\" class=\"dataframe\">\n",
       "  <thead>\n",
       "    <tr style=\"text-align: right;\">\n",
       "      <th></th>\n",
       "      <th>WnID</th>\n",
       "      <th>bboxes</th>\n",
       "    </tr>\n",
       "    <tr>\n",
       "      <th>Species</th>\n",
       "      <th></th>\n",
       "      <th></th>\n",
       "    </tr>\n",
       "  </thead>\n",
       "  <tbody>\n",
       "    <tr>\n",
       "      <th>Loggerhead</th>\n",
       "      <td>n01664065</td>\n",
       "      <td>True</td>\n",
       "    </tr>\n",
       "    <tr>\n",
       "      <th>Leatherback Turtle</th>\n",
       "      <td>n01665541</td>\n",
       "      <td>True</td>\n",
       "    </tr>\n",
       "    <tr>\n",
       "      <th>Mud Turtle</th>\n",
       "      <td>n01667114</td>\n",
       "      <td>True</td>\n",
       "    </tr>\n",
       "    <tr>\n",
       "      <th>Terrapin</th>\n",
       "      <td>n01667778</td>\n",
       "      <td>True</td>\n",
       "    </tr>\n",
       "    <tr>\n",
       "      <th>Box Turtle</th>\n",
       "      <td>n01669191</td>\n",
       "      <td>True</td>\n",
       "    </tr>\n",
       "  </tbody>\n",
       "</table>\n",
       "</div>"
      ],
      "text/plain": [
       "                         WnID  bboxes\n",
       "Species                              \n",
       "Loggerhead          n01664065    True\n",
       "Leatherback Turtle  n01665541    True\n",
       "Mud Turtle          n01667114    True\n",
       "Terrapin            n01667778    True\n",
       "Box Turtle          n01669191    True"
      ]
     },
     "metadata": {},
     "output_type": "display_data"
    }
   ],
   "source": [
    "print('We have bounding boxes for {} species'.format(len(bounding_box_WnIDs)))\n",
    "print('Specifically, the following species.')\n",
    "display(turtle_information.loc[turtle_information['bboxes']])"
   ]
  },
  {
   "cell_type": "markdown",
   "metadata": {},
   "source": [
    "We downloaded the tar.gz files for these bounding boxes. The files are provided in ``./data/archives/bounding_boxes``."
   ]
  },
  {
   "cell_type": "markdown",
   "metadata": {},
   "source": [
    "# Train-test-validation split and file extraction"
   ]
  },
  {
   "cell_type": "code",
   "execution_count": 12,
   "metadata": {},
   "outputs": [],
   "source": [
    "import tarfile\n",
    "import os"
   ]
  },
  {
   "cell_type": "markdown",
   "metadata": {},
   "source": [
    "Before extracting the files, we put together a tabel of what we got."
   ]
  },
  {
   "cell_type": "code",
   "execution_count": 13,
   "metadata": {},
   "outputs": [],
   "source": [
    "image_level_information = list()\n",
    "for img_archive in os.listdir('./data/archives/images'):\n",
    "    with tarfile.open('./data/archives/images/' + img_archive) as tar:\n",
    "        for member in tar:\n",
    "            image_level_information.append(member.name)"
   ]
  },
  {
   "cell_type": "code",
   "execution_count": 14,
   "metadata": {},
   "outputs": [],
   "source": [
    "bbox_information = list()\n",
    "for img_archive in os.listdir('./data/archives/bounding_boxes'):\n",
    "    with tarfile.open('./data/archives/bounding_boxes/' + img_archive) as tar:\n",
    "        for member in tar:\n",
    "            if member.name.endswith('.xml'):\n",
    "                bbox_information.append(member.name)\n",
    "            else:\n",
    "                continue"
   ]
  },
  {
   "cell_type": "code",
   "execution_count": 15,
   "metadata": {},
   "outputs": [
    {
     "name": "stdout",
     "output_type": "stream",
     "text": [
      "We have a total of 21643 images and bounding box data for 2437 images.\n"
     ]
    }
   ],
   "source": [
    "print('We have a total of {} images and bounding box data for {} images.'.format(\n",
    "    len(image_level_information), len(bbox_information)))"
   ]
  },
  {
   "cell_type": "code",
   "execution_count": 16,
   "metadata": {},
   "outputs": [],
   "source": [
    "image_level_statistics = pd.DataFrame(image_level_information, columns=['img_name'])\n",
    "image_level_statistics = pd.DataFrame(image_level_statistics['img_name'].str.rstrip('.JPEG'))\n",
    "image_level_statistics['WnID'] = image_level_statistics['img_name'].str.split('_', expand=True)[0]\n",
    "image_level_statistics.set_index('img_name', inplace=True)\n",
    "img_with_bbox = pd.Series(bbox_information).str.split('/', expand=True)[2].str.rstrip('.xml').str.strip().values\n",
    "image_level_statistics['bboxes'] = False\n",
    "image_level_statistics.loc[image_level_statistics.index.isin(img_with_bbox), 'bboxes'] = True"
   ]
  },
  {
   "cell_type": "code",
   "execution_count": 17,
   "metadata": {},
   "outputs": [
    {
     "name": "stdout",
     "output_type": "stream",
     "text": [
      "We do not have an image for every bounding box. We could make the connection for 2151 images.\n"
     ]
    }
   ],
   "source": [
    "print('We do not have an image for every bounding box. We could make the connection for {} images.'.format(\n",
    "    image_level_statistics['bboxes'].sum()))"
   ]
  },
  {
   "cell_type": "code",
   "execution_count": 18,
   "metadata": {},
   "outputs": [],
   "source": [
    "# merge the image count per species\n",
    "turtle_information = pd.merge(turtle_information.reset_index(), \n",
    "                              image_level_statistics.groupby('WnID').count().rename(columns={'bboxes': 'n_images'}).reset_index(),\n",
    "                              on='WnID')\n",
    "# mergeturtle_information the count of images with bboxes per species\n",
    "turtle_information = pd.merge(turtle_information, \n",
    "                             image_level_statistics.groupby('WnID').sum().rename(columns={'bboxes': 'n_bbox_imgs'}).reset_index(),\n",
    "                             on='WnID')\n",
    "\n",
    "turtle_information.set_index('Species', inplace=True)"
   ]
  },
  {
   "cell_type": "code",
   "execution_count": 19,
   "metadata": {},
   "outputs": [
    {
     "name": "stdout",
     "output_type": "stream",
     "text": [
      "Number of images per species\n"
     ]
    },
    {
     "data": {
      "text/plain": [
       "Species\n",
       "Loggerhead                   1208\n",
       "Green Turtle                 1199\n",
       "Pacific Ridley               1121\n",
       "Atlantic Ridley              1001\n",
       "Hawksbill Turtle             1195\n",
       "Leatherback Turtle            969\n",
       "Common Snapping Turtle       1172\n",
       "Alligator Snapping Turtle     773\n",
       "Mud Turtle                    940\n",
       "Terrapin                     1056\n",
       "Red-Bellied Terrapin          615\n",
       "Slider                       1288\n",
       "Cooter                       1213\n",
       "Box Turtle                   1328\n",
       "Painted Turtle               1192\n",
       "European Tortoise            1079\n",
       "Giant Tortoise               1183\n",
       "Gopher Tortoise              1264\n",
       "Desert Tortoise              1163\n",
       "Texas Tortoise                356\n",
       "Spiny Softshell               160\n",
       "Smooth Softshell              168\n",
       "Name: n_images, dtype: int64"
      ]
     },
     "metadata": {},
     "output_type": "display_data"
    },
    {
     "name": "stdout",
     "output_type": "stream",
     "text": [
      "------\n",
      "\n",
      "Number of images with bounding boxes\n"
     ]
    },
    {
     "data": {
      "text/plain": [
       "Species\n",
       "Loggerhead            436\n",
       "Leatherback Turtle    415\n",
       "Mud Turtle            408\n",
       "Terrapin              414\n",
       "Box Turtle            478\n",
       "Name: n_bbox_imgs, dtype: int64"
      ]
     },
     "metadata": {},
     "output_type": "display_data"
    }
   ],
   "source": [
    "print('Number of images per species')\n",
    "display(turtle_information['n_images'])\n",
    "print('------\\n')\n",
    "print('Number of images with bounding boxes')\n",
    "display(turtle_information.loc[turtle_information['bboxes'],'n_bbox_imgs'].astype(int))"
   ]
  },
  {
   "cell_type": "markdown",
   "metadata": {},
   "source": [
    "## Now we decide for each image whether it is supposed to go into train, validation, or test set.\n",
    "Since the final evaluation metric is top-1 and top-3 error, we do not need bounding boxes in the test set. Since bounding boxes are not only not for all species, but also not for all images within a species available, this is helpful. \n",
    "\n",
    "We are aiming want a stratified 60-20-20 split across all images. Meanwhile, the bounding box images should have a 80-20-0 split."
   ]
  },
  {
   "cell_type": "code",
   "execution_count": 20,
   "metadata": {},
   "outputs": [],
   "source": [
    "image_level_statistics['sample'] = 'train'"
   ]
  },
  {
   "cell_type": "markdown",
   "metadata": {},
   "source": [
    "First we do the split stratified by bounding boxes. Only have to set 20% to validation here within species."
   ]
  },
  {
   "cell_type": "code",
   "execution_count": 21,
   "metadata": {},
   "outputs": [],
   "source": [
    "for wnid in bounding_box_WnIDs:\n",
    "    seed = 91420171 # date and first seed.\n",
    "    filt = image_level_statistics['bboxes'] & (image_level_statistics['WnID'] == wnid)\n",
    "    draw = image_level_statistics.loc[filt].sample(frac=0.2, random_state=seed).index\n",
    "    image_level_statistics.loc[draw, 'sample']= 'val'"
   ]
  },
  {
   "cell_type": "markdown",
   "metadata": {},
   "source": [
    "Next, we have to take 20% of the images per species and put them in the test sample, making sure that we only draw from those that are not annotated"
   ]
  },
  {
   "cell_type": "code",
   "execution_count": 22,
   "metadata": {},
   "outputs": [],
   "source": [
    "for wnid in image_level_statistics['WnID'].unique():\n",
    "    # Now we take the train data for which we don't have boxes and split it to get an overall 60% train \n",
    "    # and 20% test set. Thus, the test set is 25% of the train set(0.25*0.8 = 0.2) corresponding to\n",
    "    # 0.25 * n_total_train_images. We take test images only from the not annotated images, so \n",
    "    # the proportion from these is 0.25 * n_total_train_images / n_not_annotated_train_images\n",
    "    seed = 91420172\n",
    "    filt_non_bb = ~image_level_statistics['bboxes'] \n",
    "    filt_wnid = (image_level_statistics['WnID'] == wnid)\n",
    "    frac = 0.2 * (filt_wnid.sum()/ (filt_wnid & filt_non_bb).sum())\n",
    "    draw = image_level_statistics.loc[filt_non_bb & filt_wnid].sample(frac=frac, random_state=seed).index\n",
    "    image_level_statistics.loc[draw, 'sample']= 'test'\n",
    "    \n",
    "    # Now we have to balance the validation set so that we have a 60-20-20 split while maintaining the \n",
    "    # 80-20-0 split for the bounding box annotated images. We first count the number of images already\n",
    "    # in the validation set and then adjust.\n",
    "    seed = 91420173\n",
    "    filt_training = (image_level_statistics['sample'] == 'train')\n",
    "    filt_validation = (image_level_statistics['sample'] == 'val')\n",
    "    n_add_to_validation = int(0.2 * filt_wnid.sum() - (filt_wnid & filt_validation).sum())\n",
    "    draw = image_level_statistics.loc[filt_non_bb & filt_wnid & filt_training].sample(\n",
    "        n=n_add_to_validation, random_state=seed).index\n",
    "    image_level_statistics.loc[draw, 'sample']= 'val'"
   ]
  },
  {
   "cell_type": "markdown",
   "metadata": {},
   "source": [
    "Now we have to check that this all worked."
   ]
  },
  {
   "cell_type": "code",
   "execution_count": 23,
   "metadata": {},
   "outputs": [
    {
     "name": "stdout",
     "output_type": "stream",
     "text": [
      "The 80-20 training validation split for the bounding box data worked well\n"
     ]
    },
    {
     "data": {
      "text/html": [
       "<div>\n",
       "<style>\n",
       "    .dataframe thead tr:only-child th {\n",
       "        text-align: right;\n",
       "    }\n",
       "\n",
       "    .dataframe thead th {\n",
       "        text-align: left;\n",
       "    }\n",
       "\n",
       "    .dataframe tbody tr th {\n",
       "        vertical-align: top;\n",
       "    }\n",
       "</style>\n",
       "<table border=\"1\" class=\"dataframe\">\n",
       "  <thead>\n",
       "    <tr style=\"text-align: right;\">\n",
       "      <th></th>\n",
       "      <th>training</th>\n",
       "      <th>validation</th>\n",
       "    </tr>\n",
       "    <tr>\n",
       "      <th>WnID</th>\n",
       "      <th></th>\n",
       "      <th></th>\n",
       "    </tr>\n",
       "  </thead>\n",
       "  <tbody>\n",
       "    <tr>\n",
       "      <th>n01664065</th>\n",
       "      <td>0.800459</td>\n",
       "      <td>0.199541</td>\n",
       "    </tr>\n",
       "    <tr>\n",
       "      <th>n01665541</th>\n",
       "      <td>0.800000</td>\n",
       "      <td>0.200000</td>\n",
       "    </tr>\n",
       "    <tr>\n",
       "      <th>n01667114</th>\n",
       "      <td>0.799020</td>\n",
       "      <td>0.200980</td>\n",
       "    </tr>\n",
       "    <tr>\n",
       "      <th>n01667778</th>\n",
       "      <td>0.799517</td>\n",
       "      <td>0.200483</td>\n",
       "    </tr>\n",
       "    <tr>\n",
       "      <th>n01669191</th>\n",
       "      <td>0.799163</td>\n",
       "      <td>0.200837</td>\n",
       "    </tr>\n",
       "  </tbody>\n",
       "</table>\n",
       "</div>"
      ],
      "text/plain": [
       "           training  validation\n",
       "WnID                           \n",
       "n01664065  0.800459    0.199541\n",
       "n01665541  0.800000    0.200000\n",
       "n01667114  0.799020    0.200980\n",
       "n01667778  0.799517    0.200483\n",
       "n01669191  0.799163    0.200837"
      ]
     },
     "execution_count": 23,
     "metadata": {},
     "output_type": "execute_result"
    }
   ],
   "source": [
    "print('The 80-20 training validation split for the bounding box data worked well')\n",
    "pd.concat([\n",
    "    image_level_statistics.loc[\n",
    "        image_level_statistics['bboxes'] & (image_level_statistics['sample'] == 'train')\n",
    "    ].groupby('WnID')['sample'].count().rename('training'),\n",
    "    image_level_statistics.loc[\n",
    "        image_level_statistics['bboxes'] & (image_level_statistics['sample'] == 'val')\n",
    "    ].groupby('WnID')['sample'].count().rename('validation')\n",
    "], axis=1\n",
    ").divide(\n",
    "    image_level_statistics.loc[\n",
    "        image_level_statistics['bboxes']].groupby('WnID')['sample'].count(), axis='index'\n",
    ").rename(\n",
    "    columns={})"
   ]
  },
  {
   "cell_type": "code",
   "execution_count": 24,
   "metadata": {},
   "outputs": [
    {
     "name": "stdout",
     "output_type": "stream",
     "text": [
      "...and so did the overall 60-20-20 split\n"
     ]
    },
    {
     "data": {
      "text/html": [
       "<div>\n",
       "<style>\n",
       "    .dataframe thead tr:only-child th {\n",
       "        text-align: right;\n",
       "    }\n",
       "\n",
       "    .dataframe thead th {\n",
       "        text-align: left;\n",
       "    }\n",
       "\n",
       "    .dataframe tbody tr th {\n",
       "        vertical-align: top;\n",
       "    }\n",
       "</style>\n",
       "<table border=\"1\" class=\"dataframe\">\n",
       "  <thead>\n",
       "    <tr style=\"text-align: right;\">\n",
       "      <th></th>\n",
       "      <th>training</th>\n",
       "      <th>validation</th>\n",
       "      <th>test</th>\n",
       "    </tr>\n",
       "    <tr>\n",
       "      <th>WnID</th>\n",
       "      <th></th>\n",
       "      <th></th>\n",
       "      <th></th>\n",
       "    </tr>\n",
       "  </thead>\n",
       "  <tbody>\n",
       "    <tr>\n",
       "      <th>n01663782</th>\n",
       "      <td>0.600500</td>\n",
       "      <td>0.199333</td>\n",
       "      <td>0.200167</td>\n",
       "    </tr>\n",
       "    <tr>\n",
       "      <th>n01664065</th>\n",
       "      <td>0.600166</td>\n",
       "      <td>0.199503</td>\n",
       "      <td>0.200331</td>\n",
       "    </tr>\n",
       "    <tr>\n",
       "      <th>n01664492</th>\n",
       "      <td>0.600400</td>\n",
       "      <td>0.199800</td>\n",
       "      <td>0.199800</td>\n",
       "    </tr>\n",
       "    <tr>\n",
       "      <th>n01664674</th>\n",
       "      <td>0.600357</td>\n",
       "      <td>0.199822</td>\n",
       "      <td>0.199822</td>\n",
       "    </tr>\n",
       "    <tr>\n",
       "      <th>n01664990</th>\n",
       "      <td>0.600000</td>\n",
       "      <td>0.200000</td>\n",
       "      <td>0.200000</td>\n",
       "    </tr>\n",
       "    <tr>\n",
       "      <th>n01665541</th>\n",
       "      <td>0.600619</td>\n",
       "      <td>0.199174</td>\n",
       "      <td>0.200206</td>\n",
       "    </tr>\n",
       "    <tr>\n",
       "      <th>n01666228</th>\n",
       "      <td>0.600683</td>\n",
       "      <td>0.199659</td>\n",
       "      <td>0.199659</td>\n",
       "    </tr>\n",
       "    <tr>\n",
       "      <th>n01666585</th>\n",
       "      <td>0.600259</td>\n",
       "      <td>0.199224</td>\n",
       "      <td>0.200517</td>\n",
       "    </tr>\n",
       "    <tr>\n",
       "      <th>n01667114</th>\n",
       "      <td>0.600000</td>\n",
       "      <td>0.200000</td>\n",
       "      <td>0.200000</td>\n",
       "    </tr>\n",
       "    <tr>\n",
       "      <th>n01667778</th>\n",
       "      <td>0.600379</td>\n",
       "      <td>0.199811</td>\n",
       "      <td>0.199811</td>\n",
       "    </tr>\n",
       "    <tr>\n",
       "      <th>n01668436</th>\n",
       "      <td>0.600000</td>\n",
       "      <td>0.200000</td>\n",
       "      <td>0.200000</td>\n",
       "    </tr>\n",
       "    <tr>\n",
       "      <th>n01668665</th>\n",
       "      <td>0.600155</td>\n",
       "      <td>0.199534</td>\n",
       "      <td>0.200311</td>\n",
       "    </tr>\n",
       "    <tr>\n",
       "      <th>n01668892</th>\n",
       "      <td>0.600165</td>\n",
       "      <td>0.199505</td>\n",
       "      <td>0.200330</td>\n",
       "    </tr>\n",
       "    <tr>\n",
       "      <th>n01669191</th>\n",
       "      <td>0.600151</td>\n",
       "      <td>0.199548</td>\n",
       "      <td>0.200301</td>\n",
       "    </tr>\n",
       "    <tr>\n",
       "      <th>n01669654</th>\n",
       "      <td>0.600671</td>\n",
       "      <td>0.199664</td>\n",
       "      <td>0.199664</td>\n",
       "    </tr>\n",
       "    <tr>\n",
       "      <th>n01670535</th>\n",
       "      <td>0.600556</td>\n",
       "      <td>0.199259</td>\n",
       "      <td>0.200185</td>\n",
       "    </tr>\n",
       "    <tr>\n",
       "      <th>n01670802</th>\n",
       "      <td>0.600169</td>\n",
       "      <td>0.199493</td>\n",
       "      <td>0.200338</td>\n",
       "    </tr>\n",
       "    <tr>\n",
       "      <th>n01671125</th>\n",
       "      <td>0.600475</td>\n",
       "      <td>0.199367</td>\n",
       "      <td>0.200158</td>\n",
       "    </tr>\n",
       "    <tr>\n",
       "      <th>n01671479</th>\n",
       "      <td>0.600172</td>\n",
       "      <td>0.199484</td>\n",
       "      <td>0.200344</td>\n",
       "    </tr>\n",
       "    <tr>\n",
       "      <th>n01671705</th>\n",
       "      <td>0.601124</td>\n",
       "      <td>0.199438</td>\n",
       "      <td>0.199438</td>\n",
       "    </tr>\n",
       "    <tr>\n",
       "      <th>n01672432</th>\n",
       "      <td>0.600000</td>\n",
       "      <td>0.200000</td>\n",
       "      <td>0.200000</td>\n",
       "    </tr>\n",
       "    <tr>\n",
       "      <th>n01672611</th>\n",
       "      <td>0.601190</td>\n",
       "      <td>0.196429</td>\n",
       "      <td>0.202381</td>\n",
       "    </tr>\n",
       "  </tbody>\n",
       "</table>\n",
       "</div>"
      ],
      "text/plain": [
       "           training  validation      test\n",
       "WnID                                     \n",
       "n01663782  0.600500    0.199333  0.200167\n",
       "n01664065  0.600166    0.199503  0.200331\n",
       "n01664492  0.600400    0.199800  0.199800\n",
       "n01664674  0.600357    0.199822  0.199822\n",
       "n01664990  0.600000    0.200000  0.200000\n",
       "n01665541  0.600619    0.199174  0.200206\n",
       "n01666228  0.600683    0.199659  0.199659\n",
       "n01666585  0.600259    0.199224  0.200517\n",
       "n01667114  0.600000    0.200000  0.200000\n",
       "n01667778  0.600379    0.199811  0.199811\n",
       "n01668436  0.600000    0.200000  0.200000\n",
       "n01668665  0.600155    0.199534  0.200311\n",
       "n01668892  0.600165    0.199505  0.200330\n",
       "n01669191  0.600151    0.199548  0.200301\n",
       "n01669654  0.600671    0.199664  0.199664\n",
       "n01670535  0.600556    0.199259  0.200185\n",
       "n01670802  0.600169    0.199493  0.200338\n",
       "n01671125  0.600475    0.199367  0.200158\n",
       "n01671479  0.600172    0.199484  0.200344\n",
       "n01671705  0.601124    0.199438  0.199438\n",
       "n01672432  0.600000    0.200000  0.200000\n",
       "n01672611  0.601190    0.196429  0.202381"
      ]
     },
     "execution_count": 24,
     "metadata": {},
     "output_type": "execute_result"
    }
   ],
   "source": [
    "print('...and so did the overall 60-20-20 split')\n",
    "pd.concat([\n",
    "    image_level_statistics.loc[\n",
    "        (image_level_statistics['sample'] == 'train')\n",
    "    ].groupby('WnID')['sample'].count().rename('training'),\n",
    "    image_level_statistics.loc[\n",
    "        (image_level_statistics['sample'] == 'val')\n",
    "    ].groupby('WnID')['sample'].count().rename('validation'),\n",
    "    image_level_statistics.loc[\n",
    "        (image_level_statistics['sample'] == 'test')\n",
    "    ].groupby('WnID')['sample'].count().rename('test'),\n",
    "], axis=1\n",
    ").divide(\n",
    "    image_level_statistics.groupby('WnID')['sample'].count(), axis='index'\n",
    ").rename(\n",
    "    columns={})"
   ]
  },
  {
   "cell_type": "markdown",
   "metadata": {},
   "source": [
    "With this, we can move on to extract the files into their appropriate destinations."
   ]
  },
  {
   "cell_type": "code",
   "execution_count": 25,
   "metadata": {},
   "outputs": [],
   "source": [
    "os.mkdir('./data/images/train')\n",
    "os.mkdir('./data/images/val')\n",
    "os.mkdir('./data/images/test')\n",
    "\n",
    "def get_sample(member):\n",
    "    return image_level_statistics.loc[member.name.rstrip('.JPEG'), 'sample']\n",
    "\n",
    "for tar_file in os.listdir('./data/archives/images'):\n",
    "    wnid = tar_file.rstrip('.tar')\n",
    "    os.mkdir(os.path.join('./data/images/train', wnid))\n",
    "    os.mkdir(os.path.join('./data/images/val', wnid))\n",
    "    os.mkdir(os.path.join('./data/images/test', wnid))\n",
    "    with tarfile.open(os.path.join('./data/archives/images',tar_file)) as tar:\n",
    "        for member in tar:\n",
    "            tar.extract(member, \n",
    "                        os.path.join('./data/images', get_sample(member), wnid))"
   ]
  },
  {
   "cell_type": "markdown",
   "metadata": {},
   "source": [
    "Quick check that this worked"
   ]
  },
  {
   "cell_type": "code",
   "execution_count": 26,
   "metadata": {},
   "outputs": [],
   "source": [
    "import numpy as np"
   ]
  },
  {
   "cell_type": "code",
   "execution_count": 27,
   "metadata": {},
   "outputs": [
    {
     "name": "stdout",
     "output_type": "stream",
     "text": [
      "n01664674\n",
      "[ 0.60035682  0.19982159  0.19982159]\n",
      "n01665541\n",
      "[ 0.6006192   0.19917441  0.2002064 ]\n",
      "n01664065\n",
      "[ 0.60016556  0.19950331  0.20033113]\n",
      "n01668665\n",
      "[ 0.60015528  0.19953416  0.20031056]\n",
      "n01666228\n",
      "[ 0.60068259  0.1996587   0.1996587 ]\n",
      "n01664492\n",
      "[ 0.6003996  0.1998002  0.1998002]\n",
      "n01670802\n",
      "[ 0.60016906  0.19949281  0.20033812]\n",
      "n01672611\n",
      "[ 0.60119048  0.19642857  0.20238095]\n",
      "n01672432\n",
      "[ 0.6  0.2  0.2]\n",
      "n01670535\n",
      "[ 0.60055607  0.19925857  0.20018536]\n",
      "n01668436\n",
      "[ 0.6  0.2  0.2]\n",
      "n01663782\n",
      "[ 0.60050042  0.19933278  0.20016681]\n",
      "n01671125\n",
      "[ 0.60047468  0.19936709  0.20015823]\n",
      "n01667778\n",
      "[ 0.60037879  0.19981061  0.19981061]\n",
      "n01666585\n",
      "[ 0.60025873  0.1992238   0.20051746]\n",
      "n01671705\n",
      "[ 0.6011236  0.1994382  0.1994382]\n",
      "n01668892\n",
      "[ 0.60016488  0.19950536  0.20032976]\n",
      "n01667114\n",
      "[ 0.6  0.2  0.2]\n",
      "n01671479\n",
      "[ 0.60017197  0.19948409  0.20034394]\n",
      "n01669191\n",
      "[ 0.6001506   0.19954819  0.2003012 ]\n",
      "n01664990\n",
      "[ 0.6  0.2  0.2]\n",
      "n01669654\n",
      "[ 0.60067114  0.19966443  0.19966443]\n"
     ]
    }
   ],
   "source": [
    "for wnid in image_level_statistics['WnID'].unique():\n",
    "    folder_size = np.array(\n",
    "        [len(os.listdir('./data/images/train/' + wnid)),\n",
    "         len(os.listdir('./data/images/val/' + wnid)),\n",
    "         len(os.listdir('./data/images/test/' + wnid))])\n",
    "    print(wnid)\n",
    "    print(folder_size/np.sum(folder_size))"
   ]
  },
  {
   "cell_type": "markdown",
   "metadata": {},
   "source": [
    "Looks good!"
   ]
  },
  {
   "cell_type": "markdown",
   "metadata": {},
   "source": [
    "Finally, extract the bounding box data"
   ]
  },
  {
   "cell_type": "code",
   "execution_count": 28,
   "metadata": {},
   "outputs": [],
   "source": [
    "os.mkdir('./data/bounding_boxes/train')\n",
    "os.mkdir('./data/bounding_boxes/val')\n",
    "\n",
    "def get_sample(img_name):\n",
    "    return image_level_statistics.loc[img_name, 'sample']\n",
    "\n",
    "for tar_file in os.listdir('./data/archives/bounding_boxes'):\n",
    "    wnid = tar_file.rstrip('.tar.gz')\n",
    "    os.mkdir(os.path.join('./data/bounding_boxes/train', wnid))\n",
    "    os.mkdir(os.path.join('./data/bounding_boxes/val', wnid))\n",
    "    with tarfile.open(os.path.join('./data/archives/bounding_boxes',tar_file)) as tar:\n",
    "        for member in tar:\n",
    "            img_name = member.name.split('/')[-1].rstrip('.xml')\n",
    "            member.name = img_name + '.xml'\n",
    "            if img_name in image_level_statistics.index:\n",
    "                tar.extract(member, \n",
    "                            os.path.join('./data/bounding_boxes', get_sample(img_name), wnid))\n",
    "            else:\n",
    "                continue"
   ]
  },
  {
   "cell_type": "markdown",
   "metadata": {},
   "source": [
    "Check whether this worked as well"
   ]
  },
  {
   "cell_type": "code",
   "execution_count": 29,
   "metadata": {},
   "outputs": [
    {
     "name": "stdout",
     "output_type": "stream",
     "text": [
      "n01665541\n",
      "[ 0.8  0.2]\n",
      "n01664065\n",
      "[ 0.80045872  0.19954128]\n",
      "n01667778\n",
      "[ 0.79951691  0.20048309]\n",
      "n01667114\n",
      "[ 0.79901961  0.20098039]\n",
      "n01669191\n",
      "[ 0.79916318  0.20083682]\n"
     ]
    }
   ],
   "source": [
    "for wnid in image_level_statistics.loc[image_level_statistics['bboxes'],'WnID'].unique():\n",
    "    folder_size = np.array(\n",
    "        [len(os.listdir('./data/bounding_boxes/train/' + wnid)),\n",
    "         len(os.listdir('./data/bounding_boxes/val/' + wnid))])\n",
    "    print(wnid)\n",
    "    print(folder_size/np.sum(folder_size))"
   ]
  },
  {
   "cell_type": "markdown",
   "metadata": {},
   "source": [
    "Nice :)"
   ]
  },
  {
   "cell_type": "markdown",
   "metadata": {},
   "source": [
    "# Get some more statistic for the images."
   ]
  },
  {
   "cell_type": "markdown",
   "metadata": {},
   "source": [
    "### Check for broken data"
   ]
  },
  {
   "cell_type": "code",
   "execution_count": 30,
   "metadata": {},
   "outputs": [],
   "source": [
    "from PIL import Image"
   ]
  },
  {
   "cell_type": "code",
   "execution_count": 31,
   "metadata": {},
   "outputs": [
    {
     "name": "stdout",
     "output_type": "stream",
     "text": [
      "We have 4 broken images.\n",
      "{'data/images/train/n01664674/n01664674_3751.JPEG': UserWarning('Possibly corrupt EXIF data.  Expecting to read 4718592 bytes but only got 0. Skipping tag 0',), 'data/images/train/n01664492/n01664492_10783.JPEG': UserWarning('Possibly corrupt EXIF data.  Expecting to read 4718592 bytes but only got 0. Skipping tag 0',), 'data/images/train/n01664492/n01664492_1155.JPEG': UserWarning('Possibly corrupt EXIF data.  Expecting to read 4718592 bytes but only got 0. Skipping tag 0',), 'data/images/test/n01664674/n01664674_1260.JPEG': UserWarning('Possibly corrupt EXIF data.  Expecting to read 3145728 bytes but only got 0. Skipping tag 19788',)}\n"
     ]
    }
   ],
   "source": [
    "import warnings\n",
    "broken_data = dict()\n",
    "\n",
    "for sample in ('train', 'val', 'test'):\n",
    "    for wnid in image_level_statistics['WnID'].unique():\n",
    "        path = os.path.join('data', 'images', sample, wnid)\n",
    "        imgs = os.listdir(path)\n",
    "        for img in imgs:\n",
    "            with warnings.catch_warnings():\n",
    "                warnings.filterwarnings('error')\n",
    "                try:\n",
    "                    im = Image.open(os.path.join(path,img))\n",
    "                except Warning as e:\n",
    "                    broken_data[os.path.join(path,img)] = e\n",
    "\n",
    "print('We have {} broken images.'.format(len(broken_data)))\n",
    "print(broken_data)"
   ]
  },
  {
   "cell_type": "markdown",
   "metadata": {},
   "source": [
    "Since we have so few broken images, we are just going to delete them."
   ]
  },
  {
   "cell_type": "code",
   "execution_count": 36,
   "metadata": {},
   "outputs": [
    {
     "name": "stdout",
     "output_type": "stream",
     "text": [
      "Dropped and deleted n01664674_3751\n",
      "Dropped and deleted n01664492_10783\n",
      "Dropped and deleted n01664492_1155\n",
      "Dropped and deleted n01664674_1260\n"
     ]
    }
   ],
   "source": [
    "for path in broken_data.keys():\n",
    "    img_name = path.split('/')[-1].rstrip('.JPEG')\n",
    "    image_level_statistics.drop(img_name, inplace=True)\n",
    "    os.remove(path)\n",
    "    print('Dropped and deleted {}'.format(img_name))"
   ]
  },
  {
   "cell_type": "markdown",
   "metadata": {},
   "source": [
    "### Look at image resolutions"
   ]
  },
  {
   "cell_type": "code",
   "execution_count": 40,
   "metadata": {},
   "outputs": [],
   "source": [
    "image_level_statistics['pixel_w'] = None\n",
    "image_level_statistics['pixel_h'] = None"
   ]
  },
  {
   "cell_type": "code",
   "execution_count": 41,
   "metadata": {},
   "outputs": [],
   "source": [
    "def get_resolution(sample, wnid, img_name):\n",
    "    path = os.path.join('./data/images/', sample, wnid, img_name + '.JPEG')\n",
    "    im = Image.open(path)\n",
    "    return(im.size)"
   ]
  },
  {
   "cell_type": "code",
   "execution_count": 42,
   "metadata": {},
   "outputs": [],
   "source": [
    "for row in image_level_statistics.reset_index().iterrows():\n",
    "    row = row[1] #dont want the index\n",
    "    image_level_statistics.loc[\n",
    "        row['img_name'],['pixel_w', 'pixel_h']\n",
    "    ] = get_resolution(row['sample'], row['WnID'], row['img_name'])"
   ]
  },
  {
   "cell_type": "code",
   "execution_count": 98,
   "metadata": {},
   "outputs": [],
   "source": [
    "image_level_statistics[['pixel_w', 'pixel_h']] = image_level_statistics[\n",
    "    ['pixel_w', 'pixel_h']].astype(int)"
   ]
  },
  {
   "cell_type": "code",
   "execution_count": 99,
   "metadata": {},
   "outputs": [
    {
     "name": "stdout",
     "output_type": "stream",
     "text": [
      "Descriptives width and height\n"
     ]
    },
    {
     "data": {
      "text/html": [
       "<div>\n",
       "<style>\n",
       "    .dataframe thead tr:only-child th {\n",
       "        text-align: right;\n",
       "    }\n",
       "\n",
       "    .dataframe thead th {\n",
       "        text-align: left;\n",
       "    }\n",
       "\n",
       "    .dataframe tbody tr th {\n",
       "        vertical-align: top;\n",
       "    }\n",
       "</style>\n",
       "<table border=\"1\" class=\"dataframe\">\n",
       "  <thead>\n",
       "    <tr style=\"text-align: right;\">\n",
       "      <th></th>\n",
       "      <th>pixel_w</th>\n",
       "      <th>pixel_h</th>\n",
       "    </tr>\n",
       "  </thead>\n",
       "  <tbody>\n",
       "    <tr>\n",
       "      <th>count</th>\n",
       "      <td>21639</td>\n",
       "      <td>21639</td>\n",
       "    </tr>\n",
       "    <tr>\n",
       "      <th>mean</th>\n",
       "      <td>461</td>\n",
       "      <td>347</td>\n",
       "    </tr>\n",
       "    <tr>\n",
       "      <th>std</th>\n",
       "      <td>223</td>\n",
       "      <td>174</td>\n",
       "    </tr>\n",
       "    <tr>\n",
       "      <th>min</th>\n",
       "      <td>48</td>\n",
       "      <td>38</td>\n",
       "    </tr>\n",
       "    <tr>\n",
       "      <th>25%</th>\n",
       "      <td>375</td>\n",
       "      <td>286</td>\n",
       "    </tr>\n",
       "    <tr>\n",
       "      <th>50%</th>\n",
       "      <td>500</td>\n",
       "      <td>357</td>\n",
       "    </tr>\n",
       "    <tr>\n",
       "      <th>75%</th>\n",
       "      <td>500</td>\n",
       "      <td>375</td>\n",
       "    </tr>\n",
       "    <tr>\n",
       "      <th>max</th>\n",
       "      <td>4000</td>\n",
       "      <td>3658</td>\n",
       "    </tr>\n",
       "  </tbody>\n",
       "</table>\n",
       "</div>"
      ],
      "text/plain": [
       "       pixel_w  pixel_h\n",
       "count    21639    21639\n",
       "mean       461      347\n",
       "std        223      174\n",
       "min         48       38\n",
       "25%        375      286\n",
       "50%        500      357\n",
       "75%        500      375\n",
       "max       4000     3658"
      ]
     },
     "execution_count": 99,
     "metadata": {},
     "output_type": "execute_result"
    }
   ],
   "source": [
    "print('Descriptives width and height')\n",
    "image_level_statistics[['pixel_w', 'pixel_h']].describe().astype(int)"
   ]
  },
  {
   "cell_type": "markdown",
   "metadata": {},
   "source": [
    "Do the same by species."
   ]
  },
  {
   "cell_type": "code",
   "execution_count": 87,
   "metadata": {},
   "outputs": [],
   "source": [
    "# append species\n",
    "image_level_statistics = pd.merge(\n",
    "    image_level_statistics.reset_index(), \n",
    "    turtle_information.reset_index()[['WnID', 'Species']],\n",
    "    how='left', on='WnID')"
   ]
  },
  {
   "cell_type": "code",
   "execution_count": 102,
   "metadata": {},
   "outputs": [
    {
     "data": {
      "text/html": [
       "<div>\n",
       "<style>\n",
       "    .dataframe thead tr:only-child th {\n",
       "        text-align: right;\n",
       "    }\n",
       "\n",
       "    .dataframe thead th {\n",
       "        text-align: left;\n",
       "    }\n",
       "\n",
       "    .dataframe tbody tr th {\n",
       "        vertical-align: top;\n",
       "    }\n",
       "</style>\n",
       "<table border=\"1\" class=\"dataframe\">\n",
       "  <thead>\n",
       "    <tr>\n",
       "      <th></th>\n",
       "      <th colspan=\"8\" halign=\"left\">pixel_w</th>\n",
       "      <th colspan=\"8\" halign=\"left\">pixel_h</th>\n",
       "    </tr>\n",
       "    <tr>\n",
       "      <th></th>\n",
       "      <th>count</th>\n",
       "      <th>mean</th>\n",
       "      <th>std</th>\n",
       "      <th>min</th>\n",
       "      <th>25%</th>\n",
       "      <th>50%</th>\n",
       "      <th>75%</th>\n",
       "      <th>max</th>\n",
       "      <th>count</th>\n",
       "      <th>mean</th>\n",
       "      <th>std</th>\n",
       "      <th>min</th>\n",
       "      <th>25%</th>\n",
       "      <th>50%</th>\n",
       "      <th>75%</th>\n",
       "      <th>max</th>\n",
       "    </tr>\n",
       "    <tr>\n",
       "      <th>Species</th>\n",
       "      <th></th>\n",
       "      <th></th>\n",
       "      <th></th>\n",
       "      <th></th>\n",
       "      <th></th>\n",
       "      <th></th>\n",
       "      <th></th>\n",
       "      <th></th>\n",
       "      <th></th>\n",
       "      <th></th>\n",
       "      <th></th>\n",
       "      <th></th>\n",
       "      <th></th>\n",
       "      <th></th>\n",
       "      <th></th>\n",
       "      <th></th>\n",
       "    </tr>\n",
       "  </thead>\n",
       "  <tbody>\n",
       "    <tr>\n",
       "      <th>Alligator Snapping Turtle</th>\n",
       "      <td>773</td>\n",
       "      <td>453</td>\n",
       "      <td>241</td>\n",
       "      <td>64</td>\n",
       "      <td>320</td>\n",
       "      <td>500</td>\n",
       "      <td>500</td>\n",
       "      <td>2560</td>\n",
       "      <td>773</td>\n",
       "      <td>345</td>\n",
       "      <td>184</td>\n",
       "      <td>45</td>\n",
       "      <td>242</td>\n",
       "      <td>350</td>\n",
       "      <td>375</td>\n",
       "      <td>1920</td>\n",
       "    </tr>\n",
       "    <tr>\n",
       "      <th>Atlantic Ridley</th>\n",
       "      <td>999</td>\n",
       "      <td>421</td>\n",
       "      <td>233</td>\n",
       "      <td>55</td>\n",
       "      <td>272</td>\n",
       "      <td>500</td>\n",
       "      <td>500</td>\n",
       "      <td>3264</td>\n",
       "      <td>999</td>\n",
       "      <td>319</td>\n",
       "      <td>209</td>\n",
       "      <td>42</td>\n",
       "      <td>200</td>\n",
       "      <td>375</td>\n",
       "      <td>376</td>\n",
       "      <td>3658</td>\n",
       "    </tr>\n",
       "    <tr>\n",
       "      <th>Box Turtle</th>\n",
       "      <td>1328</td>\n",
       "      <td>486</td>\n",
       "      <td>68</td>\n",
       "      <td>140</td>\n",
       "      <td>500</td>\n",
       "      <td>500</td>\n",
       "      <td>500</td>\n",
       "      <td>1342</td>\n",
       "      <td>1328</td>\n",
       "      <td>367</td>\n",
       "      <td>64</td>\n",
       "      <td>120</td>\n",
       "      <td>333</td>\n",
       "      <td>375</td>\n",
       "      <td>375</td>\n",
       "      <td>967</td>\n",
       "    </tr>\n",
       "    <tr>\n",
       "      <th>Common Snapping Turtle</th>\n",
       "      <td>1172</td>\n",
       "      <td>468</td>\n",
       "      <td>210</td>\n",
       "      <td>60</td>\n",
       "      <td>375</td>\n",
       "      <td>500</td>\n",
       "      <td>500</td>\n",
       "      <td>2272</td>\n",
       "      <td>1172</td>\n",
       "      <td>350</td>\n",
       "      <td>172</td>\n",
       "      <td>60</td>\n",
       "      <td>277</td>\n",
       "      <td>352</td>\n",
       "      <td>375</td>\n",
       "      <td>2048</td>\n",
       "    </tr>\n",
       "    <tr>\n",
       "      <th>Cooter</th>\n",
       "      <td>1213</td>\n",
       "      <td>437</td>\n",
       "      <td>279</td>\n",
       "      <td>60</td>\n",
       "      <td>225</td>\n",
       "      <td>500</td>\n",
       "      <td>500</td>\n",
       "      <td>3361</td>\n",
       "      <td>1213</td>\n",
       "      <td>322</td>\n",
       "      <td>202</td>\n",
       "      <td>38</td>\n",
       "      <td>165</td>\n",
       "      <td>333</td>\n",
       "      <td>386</td>\n",
       "      <td>2112</td>\n",
       "    </tr>\n",
       "    <tr>\n",
       "      <th>Desert Tortoise</th>\n",
       "      <td>1163</td>\n",
       "      <td>483</td>\n",
       "      <td>235</td>\n",
       "      <td>87</td>\n",
       "      <td>473</td>\n",
       "      <td>500</td>\n",
       "      <td>500</td>\n",
       "      <td>3072</td>\n",
       "      <td>1163</td>\n",
       "      <td>364</td>\n",
       "      <td>193</td>\n",
       "      <td>72</td>\n",
       "      <td>333</td>\n",
       "      <td>375</td>\n",
       "      <td>375</td>\n",
       "      <td>3072</td>\n",
       "    </tr>\n",
       "    <tr>\n",
       "      <th>European Tortoise</th>\n",
       "      <td>1079</td>\n",
       "      <td>430</td>\n",
       "      <td>293</td>\n",
       "      <td>55</td>\n",
       "      <td>209</td>\n",
       "      <td>400</td>\n",
       "      <td>524</td>\n",
       "      <td>3264</td>\n",
       "      <td>1079</td>\n",
       "      <td>331</td>\n",
       "      <td>232</td>\n",
       "      <td>55</td>\n",
       "      <td>170</td>\n",
       "      <td>301</td>\n",
       "      <td>432</td>\n",
       "      <td>2448</td>\n",
       "    </tr>\n",
       "    <tr>\n",
       "      <th>Giant Tortoise</th>\n",
       "      <td>1183</td>\n",
       "      <td>485</td>\n",
       "      <td>119</td>\n",
       "      <td>96</td>\n",
       "      <td>500</td>\n",
       "      <td>500</td>\n",
       "      <td>500</td>\n",
       "      <td>1920</td>\n",
       "      <td>1183</td>\n",
       "      <td>373</td>\n",
       "      <td>109</td>\n",
       "      <td>72</td>\n",
       "      <td>333</td>\n",
       "      <td>375</td>\n",
       "      <td>375</td>\n",
       "      <td>2560</td>\n",
       "    </tr>\n",
       "    <tr>\n",
       "      <th>Gopher Tortoise</th>\n",
       "      <td>1264</td>\n",
       "      <td>483</td>\n",
       "      <td>284</td>\n",
       "      <td>67</td>\n",
       "      <td>400</td>\n",
       "      <td>500</td>\n",
       "      <td>500</td>\n",
       "      <td>3264</td>\n",
       "      <td>1264</td>\n",
       "      <td>357</td>\n",
       "      <td>210</td>\n",
       "      <td>72</td>\n",
       "      <td>296</td>\n",
       "      <td>363</td>\n",
       "      <td>375</td>\n",
       "      <td>2448</td>\n",
       "    </tr>\n",
       "    <tr>\n",
       "      <th>Green Turtle</th>\n",
       "      <td>1199</td>\n",
       "      <td>465</td>\n",
       "      <td>213</td>\n",
       "      <td>87</td>\n",
       "      <td>400</td>\n",
       "      <td>500</td>\n",
       "      <td>500</td>\n",
       "      <td>2560</td>\n",
       "      <td>1199</td>\n",
       "      <td>356</td>\n",
       "      <td>154</td>\n",
       "      <td>61</td>\n",
       "      <td>320</td>\n",
       "      <td>375</td>\n",
       "      <td>377</td>\n",
       "      <td>1712</td>\n",
       "    </tr>\n",
       "    <tr>\n",
       "      <th>Hawksbill Turtle</th>\n",
       "      <td>1195</td>\n",
       "      <td>494</td>\n",
       "      <td>260</td>\n",
       "      <td>82</td>\n",
       "      <td>461</td>\n",
       "      <td>500</td>\n",
       "      <td>500</td>\n",
       "      <td>3008</td>\n",
       "      <td>1195</td>\n",
       "      <td>373</td>\n",
       "      <td>194</td>\n",
       "      <td>63</td>\n",
       "      <td>332</td>\n",
       "      <td>375</td>\n",
       "      <td>375</td>\n",
       "      <td>1960</td>\n",
       "    </tr>\n",
       "    <tr>\n",
       "      <th>Leatherback Turtle</th>\n",
       "      <td>969</td>\n",
       "      <td>451</td>\n",
       "      <td>235</td>\n",
       "      <td>100</td>\n",
       "      <td>333</td>\n",
       "      <td>500</td>\n",
       "      <td>500</td>\n",
       "      <td>4000</td>\n",
       "      <td>969</td>\n",
       "      <td>341</td>\n",
       "      <td>201</td>\n",
       "      <td>100</td>\n",
       "      <td>258</td>\n",
       "      <td>333</td>\n",
       "      <td>375</td>\n",
       "      <td>3264</td>\n",
       "    </tr>\n",
       "    <tr>\n",
       "      <th>Loggerhead</th>\n",
       "      <td>1208</td>\n",
       "      <td>467</td>\n",
       "      <td>159</td>\n",
       "      <td>131</td>\n",
       "      <td>435</td>\n",
       "      <td>500</td>\n",
       "      <td>500</td>\n",
       "      <td>2048</td>\n",
       "      <td>1208</td>\n",
       "      <td>349</td>\n",
       "      <td>125</td>\n",
       "      <td>100</td>\n",
       "      <td>328</td>\n",
       "      <td>366</td>\n",
       "      <td>375</td>\n",
       "      <td>1600</td>\n",
       "    </tr>\n",
       "    <tr>\n",
       "      <th>Mud Turtle</th>\n",
       "      <td>940</td>\n",
       "      <td>480</td>\n",
       "      <td>191</td>\n",
       "      <td>130</td>\n",
       "      <td>400</td>\n",
       "      <td>500</td>\n",
       "      <td>500</td>\n",
       "      <td>2592</td>\n",
       "      <td>940</td>\n",
       "      <td>358</td>\n",
       "      <td>143</td>\n",
       "      <td>100</td>\n",
       "      <td>322</td>\n",
       "      <td>333</td>\n",
       "      <td>375</td>\n",
       "      <td>1944</td>\n",
       "    </tr>\n",
       "    <tr>\n",
       "      <th>Pacific Ridley</th>\n",
       "      <td>1119</td>\n",
       "      <td>372</td>\n",
       "      <td>253</td>\n",
       "      <td>75</td>\n",
       "      <td>200</td>\n",
       "      <td>322</td>\n",
       "      <td>500</td>\n",
       "      <td>3872</td>\n",
       "      <td>1119</td>\n",
       "      <td>275</td>\n",
       "      <td>197</td>\n",
       "      <td>49</td>\n",
       "      <td>148</td>\n",
       "      <td>240</td>\n",
       "      <td>375</td>\n",
       "      <td>2592</td>\n",
       "    </tr>\n",
       "    <tr>\n",
       "      <th>Painted Turtle</th>\n",
       "      <td>1192</td>\n",
       "      <td>494</td>\n",
       "      <td>125</td>\n",
       "      <td>98</td>\n",
       "      <td>500</td>\n",
       "      <td>500</td>\n",
       "      <td>500</td>\n",
       "      <td>3072</td>\n",
       "      <td>1192</td>\n",
       "      <td>367</td>\n",
       "      <td>102</td>\n",
       "      <td>68</td>\n",
       "      <td>333</td>\n",
       "      <td>375</td>\n",
       "      <td>375</td>\n",
       "      <td>2304</td>\n",
       "    </tr>\n",
       "    <tr>\n",
       "      <th>Red-Bellied Terrapin</th>\n",
       "      <td>615</td>\n",
       "      <td>415</td>\n",
       "      <td>292</td>\n",
       "      <td>48</td>\n",
       "      <td>164</td>\n",
       "      <td>400</td>\n",
       "      <td>500</td>\n",
       "      <td>2592</td>\n",
       "      <td>615</td>\n",
       "      <td>303</td>\n",
       "      <td>213</td>\n",
       "      <td>48</td>\n",
       "      <td>129</td>\n",
       "      <td>297</td>\n",
       "      <td>378</td>\n",
       "      <td>1944</td>\n",
       "    </tr>\n",
       "    <tr>\n",
       "      <th>Slider</th>\n",
       "      <td>1288</td>\n",
       "      <td>477</td>\n",
       "      <td>151</td>\n",
       "      <td>98</td>\n",
       "      <td>500</td>\n",
       "      <td>500</td>\n",
       "      <td>500</td>\n",
       "      <td>2304</td>\n",
       "      <td>1288</td>\n",
       "      <td>358</td>\n",
       "      <td>120</td>\n",
       "      <td>51</td>\n",
       "      <td>333</td>\n",
       "      <td>375</td>\n",
       "      <td>375</td>\n",
       "      <td>1735</td>\n",
       "    </tr>\n",
       "    <tr>\n",
       "      <th>Smooth Softshell</th>\n",
       "      <td>168</td>\n",
       "      <td>365</td>\n",
       "      <td>262</td>\n",
       "      <td>75</td>\n",
       "      <td>177</td>\n",
       "      <td>286</td>\n",
       "      <td>500</td>\n",
       "      <td>2084</td>\n",
       "      <td>168</td>\n",
       "      <td>263</td>\n",
       "      <td>185</td>\n",
       "      <td>60</td>\n",
       "      <td>140</td>\n",
       "      <td>224</td>\n",
       "      <td>334</td>\n",
       "      <td>1476</td>\n",
       "    </tr>\n",
       "    <tr>\n",
       "      <th>Spiny Softshell</th>\n",
       "      <td>160</td>\n",
       "      <td>402</td>\n",
       "      <td>321</td>\n",
       "      <td>75</td>\n",
       "      <td>199</td>\n",
       "      <td>337</td>\n",
       "      <td>500</td>\n",
       "      <td>2500</td>\n",
       "      <td>160</td>\n",
       "      <td>293</td>\n",
       "      <td>228</td>\n",
       "      <td>67</td>\n",
       "      <td>149</td>\n",
       "      <td>237</td>\n",
       "      <td>375</td>\n",
       "      <td>1704</td>\n",
       "    </tr>\n",
       "    <tr>\n",
       "      <th>Terrapin</th>\n",
       "      <td>1056</td>\n",
       "      <td>489</td>\n",
       "      <td>229</td>\n",
       "      <td>120</td>\n",
       "      <td>436</td>\n",
       "      <td>500</td>\n",
       "      <td>500</td>\n",
       "      <td>3872</td>\n",
       "      <td>1056</td>\n",
       "      <td>366</td>\n",
       "      <td>171</td>\n",
       "      <td>104</td>\n",
       "      <td>327</td>\n",
       "      <td>360</td>\n",
       "      <td>375</td>\n",
       "      <td>2592</td>\n",
       "    </tr>\n",
       "    <tr>\n",
       "      <th>Texas Tortoise</th>\n",
       "      <td>356</td>\n",
       "      <td>453</td>\n",
       "      <td>239</td>\n",
       "      <td>87</td>\n",
       "      <td>300</td>\n",
       "      <td>500</td>\n",
       "      <td>500</td>\n",
       "      <td>1848</td>\n",
       "      <td>356</td>\n",
       "      <td>338</td>\n",
       "      <td>183</td>\n",
       "      <td>60</td>\n",
       "      <td>227</td>\n",
       "      <td>333</td>\n",
       "      <td>375</td>\n",
       "      <td>1356</td>\n",
       "    </tr>\n",
       "  </tbody>\n",
       "</table>\n",
       "</div>"
      ],
      "text/plain": [
       "                          pixel_w                                     pixel_h  \\\n",
       "                            count mean  std  min  25%  50%  75%   max   count   \n",
       "Species                                                                         \n",
       "Alligator Snapping Turtle     773  453  241   64  320  500  500  2560     773   \n",
       "Atlantic Ridley               999  421  233   55  272  500  500  3264     999   \n",
       "Box Turtle                   1328  486   68  140  500  500  500  1342    1328   \n",
       "Common Snapping Turtle       1172  468  210   60  375  500  500  2272    1172   \n",
       "Cooter                       1213  437  279   60  225  500  500  3361    1213   \n",
       "Desert Tortoise              1163  483  235   87  473  500  500  3072    1163   \n",
       "European Tortoise            1079  430  293   55  209  400  524  3264    1079   \n",
       "Giant Tortoise               1183  485  119   96  500  500  500  1920    1183   \n",
       "Gopher Tortoise              1264  483  284   67  400  500  500  3264    1264   \n",
       "Green Turtle                 1199  465  213   87  400  500  500  2560    1199   \n",
       "Hawksbill Turtle             1195  494  260   82  461  500  500  3008    1195   \n",
       "Leatherback Turtle            969  451  235  100  333  500  500  4000     969   \n",
       "Loggerhead                   1208  467  159  131  435  500  500  2048    1208   \n",
       "Mud Turtle                    940  480  191  130  400  500  500  2592     940   \n",
       "Pacific Ridley               1119  372  253   75  200  322  500  3872    1119   \n",
       "Painted Turtle               1192  494  125   98  500  500  500  3072    1192   \n",
       "Red-Bellied Terrapin          615  415  292   48  164  400  500  2592     615   \n",
       "Slider                       1288  477  151   98  500  500  500  2304    1288   \n",
       "Smooth Softshell              168  365  262   75  177  286  500  2084     168   \n",
       "Spiny Softshell               160  402  321   75  199  337  500  2500     160   \n",
       "Terrapin                     1056  489  229  120  436  500  500  3872    1056   \n",
       "Texas Tortoise                356  453  239   87  300  500  500  1848     356   \n",
       "\n",
       "                                                               \n",
       "                          mean  std  min  25%  50%  75%   max  \n",
       "Species                                                        \n",
       "Alligator Snapping Turtle  345  184   45  242  350  375  1920  \n",
       "Atlantic Ridley            319  209   42  200  375  376  3658  \n",
       "Box Turtle                 367   64  120  333  375  375   967  \n",
       "Common Snapping Turtle     350  172   60  277  352  375  2048  \n",
       "Cooter                     322  202   38  165  333  386  2112  \n",
       "Desert Tortoise            364  193   72  333  375  375  3072  \n",
       "European Tortoise          331  232   55  170  301  432  2448  \n",
       "Giant Tortoise             373  109   72  333  375  375  2560  \n",
       "Gopher Tortoise            357  210   72  296  363  375  2448  \n",
       "Green Turtle               356  154   61  320  375  377  1712  \n",
       "Hawksbill Turtle           373  194   63  332  375  375  1960  \n",
       "Leatherback Turtle         341  201  100  258  333  375  3264  \n",
       "Loggerhead                 349  125  100  328  366  375  1600  \n",
       "Mud Turtle                 358  143  100  322  333  375  1944  \n",
       "Pacific Ridley             275  197   49  148  240  375  2592  \n",
       "Painted Turtle             367  102   68  333  375  375  2304  \n",
       "Red-Bellied Terrapin       303  213   48  129  297  378  1944  \n",
       "Slider                     358  120   51  333  375  375  1735  \n",
       "Smooth Softshell           263  185   60  140  224  334  1476  \n",
       "Spiny Softshell            293  228   67  149  237  375  1704  \n",
       "Terrapin                   366  171  104  327  360  375  2592  \n",
       "Texas Tortoise             338  183   60  227  333  375  1356  "
      ]
     },
     "execution_count": 102,
     "metadata": {},
     "output_type": "execute_result"
    }
   ],
   "source": [
    "image_level_statistics.groupby('Species')[\n",
    "    ['pixel_w', 'pixel_h']].describe().astype(int)"
   ]
  },
  {
   "cell_type": "markdown",
   "metadata": {},
   "source": [
    "# Read the bounding box information from the xml files"
   ]
  },
  {
   "cell_type": "code",
   "execution_count": 138,
   "metadata": {},
   "outputs": [],
   "source": [
    "import xml.etree.ElementTree as ET\n",
    "\n",
    "def get_box_coordinates_from_xml(wnid, sample, img_name):\n",
    "    xml_path = os.path.join('./data/bounding_boxes/', sample, wnid,\n",
    "                            img_name + '.xml') \n",
    "    tree = ET.parse(xml_path)\n",
    "    objects = tree.findall('object')\n",
    "    boxes = []\n",
    "    for object in objects:\n",
    "        bbox = object.find('bndbox')\n",
    "        box_coords = [str(child.text) for child in bbox]\n",
    "        boxes.append(box_coords)\n",
    "    return boxes"
   ]
  },
  {
   "cell_type": "code",
   "execution_count": 150,
   "metadata": {},
   "outputs": [],
   "source": [
    "bounding_boxes_by_img = image_level_statistics.loc[\n",
    "    image_level_statistics['bboxes']].apply(\n",
    "    lambda row: get_box_coordinates_from_xml(row['WnID'], \n",
    "                                             row['sample'],\n",
    "                                             row['img_name']), \n",
    "    axis=1).rename('box_coords')"
   ]
  },
  {
   "cell_type": "code",
   "execution_count": 151,
   "metadata": {},
   "outputs": [
    {
     "name": "stdout",
     "output_type": "stream",
     "text": [
      "We encounter the following number of boxes per image:\n",
      "[1 2 3 4 6 5]\n"
     ]
    }
   ],
   "source": [
    "print('We encounter the following number of boxes per image:')\n",
    "print(bounding_boxes_by_img.apply(len).unique())"
   ]
  },
  {
   "cell_type": "code",
   "execution_count": 153,
   "metadata": {},
   "outputs": [],
   "source": [
    "image_level_statistics = pd.concat(\n",
    "    [image_level_statistics, bounding_boxes_by_img], axis=1)"
   ]
  },
  {
   "cell_type": "code",
   "execution_count": 163,
   "metadata": {},
   "outputs": [],
   "source": [
    "image_level_statistics = pd.concat(\n",
    "    [image_level_statistics,\n",
    "     image_level_statistics.loc[image_level_statistics['bboxes'],  \n",
    "                                'box_coords'].apply(len).rename('n_boxes')], \n",
    "    axis=1)"
   ]
  },
  {
   "cell_type": "code",
   "execution_count": 168,
   "metadata": {},
   "outputs": [
    {
     "name": "stdout",
     "output_type": "stream",
     "text": [
      "Let's look at the number of boxes by species\n"
     ]
    },
    {
     "data": {
      "text/html": [
       "<div>\n",
       "<style>\n",
       "    .dataframe thead tr:only-child th {\n",
       "        text-align: right;\n",
       "    }\n",
       "\n",
       "    .dataframe thead th {\n",
       "        text-align: left;\n",
       "    }\n",
       "\n",
       "    .dataframe tbody tr th {\n",
       "        vertical-align: top;\n",
       "    }\n",
       "</style>\n",
       "<table border=\"1\" class=\"dataframe\">\n",
       "  <thead>\n",
       "    <tr style=\"text-align: right;\">\n",
       "      <th></th>\n",
       "      <th>count</th>\n",
       "      <th>mean</th>\n",
       "      <th>std</th>\n",
       "      <th>min</th>\n",
       "      <th>25%</th>\n",
       "      <th>50%</th>\n",
       "      <th>75%</th>\n",
       "      <th>max</th>\n",
       "    </tr>\n",
       "    <tr>\n",
       "      <th>Species</th>\n",
       "      <th></th>\n",
       "      <th></th>\n",
       "      <th></th>\n",
       "      <th></th>\n",
       "      <th></th>\n",
       "      <th></th>\n",
       "      <th></th>\n",
       "      <th></th>\n",
       "    </tr>\n",
       "  </thead>\n",
       "  <tbody>\n",
       "    <tr>\n",
       "      <th>Box Turtle</th>\n",
       "      <td>478.0</td>\n",
       "      <td>1.008368</td>\n",
       "      <td>0.091190</td>\n",
       "      <td>1.0</td>\n",
       "      <td>1.0</td>\n",
       "      <td>1.0</td>\n",
       "      <td>1.0</td>\n",
       "      <td>2.0</td>\n",
       "    </tr>\n",
       "    <tr>\n",
       "      <th>Leatherback Turtle</th>\n",
       "      <td>415.0</td>\n",
       "      <td>1.031325</td>\n",
       "      <td>0.200198</td>\n",
       "      <td>1.0</td>\n",
       "      <td>1.0</td>\n",
       "      <td>1.0</td>\n",
       "      <td>1.0</td>\n",
       "      <td>3.0</td>\n",
       "    </tr>\n",
       "    <tr>\n",
       "      <th>Loggerhead</th>\n",
       "      <td>436.0</td>\n",
       "      <td>1.004587</td>\n",
       "      <td>0.067651</td>\n",
       "      <td>1.0</td>\n",
       "      <td>1.0</td>\n",
       "      <td>1.0</td>\n",
       "      <td>1.0</td>\n",
       "      <td>2.0</td>\n",
       "    </tr>\n",
       "    <tr>\n",
       "      <th>Mud Turtle</th>\n",
       "      <td>408.0</td>\n",
       "      <td>1.029412</td>\n",
       "      <td>0.219711</td>\n",
       "      <td>1.0</td>\n",
       "      <td>1.0</td>\n",
       "      <td>1.0</td>\n",
       "      <td>1.0</td>\n",
       "      <td>4.0</td>\n",
       "    </tr>\n",
       "    <tr>\n",
       "      <th>Terrapin</th>\n",
       "      <td>414.0</td>\n",
       "      <td>1.176329</td>\n",
       "      <td>0.590744</td>\n",
       "      <td>1.0</td>\n",
       "      <td>1.0</td>\n",
       "      <td>1.0</td>\n",
       "      <td>1.0</td>\n",
       "      <td>6.0</td>\n",
       "    </tr>\n",
       "  </tbody>\n",
       "</table>\n",
       "</div>"
      ],
      "text/plain": [
       "                    count      mean       std  min  25%  50%  75%  max\n",
       "Species                                                               \n",
       "Box Turtle          478.0  1.008368  0.091190  1.0  1.0  1.0  1.0  2.0\n",
       "Leatherback Turtle  415.0  1.031325  0.200198  1.0  1.0  1.0  1.0  3.0\n",
       "Loggerhead          436.0  1.004587  0.067651  1.0  1.0  1.0  1.0  2.0\n",
       "Mud Turtle          408.0  1.029412  0.219711  1.0  1.0  1.0  1.0  4.0\n",
       "Terrapin            414.0  1.176329  0.590744  1.0  1.0  1.0  1.0  6.0"
      ]
     },
     "execution_count": 168,
     "metadata": {},
     "output_type": "execute_result"
    }
   ],
   "source": [
    "print('Let\\'s look at the number of boxes by species')\n",
    "image_level_statistics[image_level_statistics['bboxes']].groupby('Species')['n_boxes'].describe()"
   ]
  },
  {
   "cell_type": "markdown",
   "metadata": {},
   "source": [
    "There are few images with more than one box: the 75% for each species is still a single box!"
   ]
  },
  {
   "cell_type": "code",
   "execution_count": 172,
   "metadata": {},
   "outputs": [
    {
     "name": "stdout",
     "output_type": "stream",
     "text": [
      "Looking at this in more detail, we have the following number of images with more than one box.\n"
     ]
    },
    {
     "data": {
      "text/plain": [
       "Species\n",
       "Box Turtle             4\n",
       "Leatherback Turtle    11\n",
       "Loggerhead             2\n",
       "Mud Turtle             9\n",
       "Terrapin              49\n",
       "Name: n_boxes, dtype: int64"
      ]
     },
     "execution_count": 172,
     "metadata": {},
     "output_type": "execute_result"
    }
   ],
   "source": [
    "print('Looking at this in more detail, we have the following number of images with more than one box.')\n",
    "image_level_statistics[image_level_statistics['n_boxes'] > 1].groupby('Species')['n_boxes'].count()"
   ]
  },
  {
   "cell_type": "code",
   "execution_count": 187,
   "metadata": {},
   "outputs": [
    {
     "name": "stdout",
     "output_type": "stream",
     "text": [
      "The total number of boxes available is 2255\n"
     ]
    }
   ],
   "source": [
    "print('The total number of boxes available is {}'.format(\n",
    "    int(image_level_statistics['n_boxes'].sum())))"
   ]
  },
  {
   "cell_type": "code",
   "execution_count": 170,
   "metadata": {},
   "outputs": [],
   "source": [
    "image_level_statistics.to_csv(\n",
    "    './results/data_analysis/image_level_statistics.csv')"
   ]
  },
  {
   "cell_type": "markdown",
   "metadata": {},
   "source": [
    "# Finally, we prepare a txt file that we use for training the F-RCNN\n",
    "This matches the structure for the *simple-parser*: `filepath,x1,y1,x2,y2,class_name,imageset`.\n",
    "The first stage trains merely for the distinction of turtletoise vs background. Thus, we only have a single class: *turtletoise*!"
   ]
  },
  {
   "cell_type": "code",
   "execution_count": 190,
   "metadata": {},
   "outputs": [],
   "source": [
    "simple_parse = []\n",
    "for row in image_level_statistics[\n",
    "    image_level_statistics['bboxes']].iterrows():\n",
    "    sample = row[1]['sample']\n",
    "    wnid = row[1]['WnID']\n",
    "    img_file = row[1]['img_name'] + '.JPEG'\n",
    "    boxes = row[1]['box_coords']\n",
    "    filepath = os.path.join('./data/images/', sample, wnid,\n",
    "                           img_file)\n",
    "    for box in boxes:\n",
    "        simple_parse.append(','.join([filepath, ','.join(box),\n",
    "                                       'turtletoise', sample]) + '\\n')"
   ]
  },
  {
   "cell_type": "code",
   "execution_count": 191,
   "metadata": {},
   "outputs": [],
   "source": [
    "with open('./f_rcnn_simple_parser_first_stage.txt', 'w') as f:\n",
    "    f.writelines(simple_parse)"
   ]
  },
  {
   "cell_type": "markdown",
   "metadata": {},
   "source": [
    "# Looking at a specific example for the train-validation-test split"
   ]
  },
  {
   "cell_type": "code",
   "execution_count": 1,
   "metadata": {},
   "outputs": [],
   "source": [
    "import pandas as pd\n",
    "image_level_statistics = pd.read_csv('./results/data_analysis/image_level_statistics.csv')"
   ]
  },
  {
   "cell_type": "code",
   "execution_count": 15,
   "metadata": {},
   "outputs": [],
   "source": [
    "leatherback_n_imgs = image_level_statistics.loc[image_level_statistics.Species == 'Leatherback Turtle', 'bboxes'].count()\n",
    "leatherback_n_bbox_imgs = image_level_statistics.loc[(image_level_statistics.Species == 'Leatherback Turtle') \n",
    "                                                 & image_level_statistics.bboxes, 'bboxes'].count()"
   ]
  },
  {
   "cell_type": "code",
   "execution_count": 21,
   "metadata": {},
   "outputs": [
    {
     "name": "stdout",
     "output_type": "stream",
     "text": [
      "For Leatherbacks, we have 969 images total, 415 of which also have bounding boxes\n"
     ]
    }
   ],
   "source": [
    "print('For Leatherbacks, we have {} images total, {} of which also have bounding boxes'.format(leatherback_n_imgs, leatherback_n_bbox_imgs))"
   ]
  },
  {
   "cell_type": "code",
   "execution_count": 11,
   "metadata": {},
   "outputs": [],
   "source": [
    "leatherback_train_test_val = image_level_statistics[\n",
    "    image_level_statistics.Species == 'Leatherback Turtle'].groupby('sample')['bboxes'].agg(['count', 'sum'])"
   ]
  },
  {
   "cell_type": "code",
   "execution_count": 19,
   "metadata": {},
   "outputs": [
    {
     "data": {
      "text/html": [
       "<div>\n",
       "<style>\n",
       "    .dataframe thead tr:only-child th {\n",
       "        text-align: right;\n",
       "    }\n",
       "\n",
       "    .dataframe thead th {\n",
       "        text-align: left;\n",
       "    }\n",
       "\n",
       "    .dataframe tbody tr th {\n",
       "        vertical-align: top;\n",
       "    }\n",
       "</style>\n",
       "<table border=\"1\" class=\"dataframe\">\n",
       "  <thead>\n",
       "    <tr style=\"text-align: right;\">\n",
       "      <th></th>\n",
       "      <th>count</th>\n",
       "      <th>sum</th>\n",
       "    </tr>\n",
       "    <tr>\n",
       "      <th>sample</th>\n",
       "      <th></th>\n",
       "      <th></th>\n",
       "    </tr>\n",
       "  </thead>\n",
       "  <tbody>\n",
       "    <tr>\n",
       "      <th>test</th>\n",
       "      <td>194</td>\n",
       "      <td>0.0</td>\n",
       "    </tr>\n",
       "    <tr>\n",
       "      <th>train</th>\n",
       "      <td>582</td>\n",
       "      <td>332.0</td>\n",
       "    </tr>\n",
       "    <tr>\n",
       "      <th>val</th>\n",
       "      <td>193</td>\n",
       "      <td>83.0</td>\n",
       "    </tr>\n",
       "  </tbody>\n",
       "</table>\n",
       "</div>"
      ],
      "text/plain": [
       "        count    sum\n",
       "sample              \n",
       "test      194    0.0\n",
       "train     582  332.0\n",
       "val       193   83.0"
      ]
     },
     "execution_count": 19,
     "metadata": {},
     "output_type": "execute_result"
    }
   ],
   "source": [
    "leatherback_train_test_val"
   ]
  },
  {
   "cell_type": "code",
   "execution_count": 20,
   "metadata": {},
   "outputs": [
    {
     "name": "stdout",
     "output_type": "stream",
     "text": [
      "In percent\n"
     ]
    },
    {
     "data": {
      "text/html": [
       "<div>\n",
       "<style>\n",
       "    .dataframe thead tr:only-child th {\n",
       "        text-align: right;\n",
       "    }\n",
       "\n",
       "    .dataframe thead th {\n",
       "        text-align: left;\n",
       "    }\n",
       "\n",
       "    .dataframe tbody tr th {\n",
       "        vertical-align: top;\n",
       "    }\n",
       "</style>\n",
       "<table border=\"1\" class=\"dataframe\">\n",
       "  <thead>\n",
       "    <tr style=\"text-align: right;\">\n",
       "      <th></th>\n",
       "      <th>count</th>\n",
       "      <th>sum</th>\n",
       "    </tr>\n",
       "    <tr>\n",
       "      <th>sample</th>\n",
       "      <th></th>\n",
       "      <th></th>\n",
       "    </tr>\n",
       "  </thead>\n",
       "  <tbody>\n",
       "    <tr>\n",
       "      <th>test</th>\n",
       "      <td>20.020640</td>\n",
       "      <td>0.0</td>\n",
       "    </tr>\n",
       "    <tr>\n",
       "      <th>train</th>\n",
       "      <td>60.061920</td>\n",
       "      <td>80.0</td>\n",
       "    </tr>\n",
       "    <tr>\n",
       "      <th>val</th>\n",
       "      <td>19.917441</td>\n",
       "      <td>20.0</td>\n",
       "    </tr>\n",
       "  </tbody>\n",
       "</table>\n",
       "</div>"
      ],
      "text/plain": [
       "            count   sum\n",
       "sample                 \n",
       "test    20.020640   0.0\n",
       "train   60.061920  80.0\n",
       "val     19.917441  20.0"
      ]
     },
     "execution_count": 20,
     "metadata": {},
     "output_type": "execute_result"
    }
   ],
   "source": [
    "print('In percent')\n",
    "pd.concat([leatherback_train_test_val['count']/leatherback_n_imgs,\n",
    "           leatherback_train_test_val['sum']/leatherback_n_bbox_imgs], axis=1) * 100   "
   ]
  },
  {
   "cell_type": "code",
   "execution_count": 23,
   "metadata": {},
   "outputs": [
    {
     "data": {
      "text/plain": [
       "360"
      ]
     },
     "execution_count": 23,
     "metadata": {},
     "output_type": "execute_result"
    }
   ],
   "source": [
    "leatherback_n_imgs - leatherback_n_bbox_imgs - 194"
   ]
  },
  {
   "cell_type": "code",
   "execution_count": 24,
   "metadata": {},
   "outputs": [
    {
     "data": {
      "text/plain": [
       "250"
      ]
     },
     "execution_count": 24,
     "metadata": {},
     "output_type": "execute_result"
    }
   ],
   "source": [
    "582-332"
   ]
  }
 ],
 "metadata": {
  "kernelspec": {
   "display_name": "Python 3",
   "language": "python",
   "name": "python3"
  },
  "language_info": {
   "codemirror_mode": {
    "name": "ipython",
    "version": 3
   },
   "file_extension": ".py",
   "mimetype": "text/x-python",
   "name": "python",
   "nbconvert_exporter": "python",
   "pygments_lexer": "ipython3",
   "version": "3.6.2"
  }
 },
 "nbformat": 4,
 "nbformat_minor": 2
}
