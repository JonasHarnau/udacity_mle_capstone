{
 "cells": [
  {
   "cell_type": "code",
   "execution_count": 10,
   "metadata": {},
   "outputs": [
    {
     "name": "stderr",
     "output_type": "stream",
     "text": [
      "Using TensorFlow backend.\n"
     ]
    }
   ],
   "source": [
    "from keras.models import load_model\n",
    "from keras.applications.imagenet_utils import preprocess_input\n",
    "from keras.preprocessing.image import ImageDataGenerator"
   ]
  },
  {
   "cell_type": "code",
   "execution_count": 11,
   "metadata": {
    "collapsed": true
   },
   "outputs": [],
   "source": [
    "from keras.metrics import top_k_categorical_accuracy\n",
    "def top_1_error(y_true, y_pred):\n",
    "    return 1-top_k_categorical_accuracy(y_true, y_pred, k=1)\n",
    "\n",
    "def top_3_error(y_true, y_pred):\n",
    "    return 1-top_k_categorical_accuracy(y_true, y_pred, k=3)"
   ]
  },
  {
   "cell_type": "code",
   "execution_count": 12,
   "metadata": {
    "collapsed": true
   },
   "outputs": [],
   "source": [
    "def preprocess_img(img):\n",
    "    import numpy as np\n",
    "    img = np.expand_dims(img, axis=0)\n",
    "    return preprocess_input(img)\n",
    "\n",
    "datagen_test = ImageDataGenerator(preprocessing_function=preprocess_img)\n",
    "\n",
    "def test_generator(batch_size, path):\n",
    "    return datagen_test.flow_from_directory(path, target_size=(224, 224),\n",
    "                                           batch_size=batch_size, \n",
    "                                           class_mode='categorical', \n",
    "                                           shuffle=False)"
   ]
  },
  {
   "cell_type": "code",
   "execution_count": 13,
   "metadata": {},
   "outputs": [
    {
     "name": "stdout",
     "output_type": "stream",
     "text": [
      "We have 4330 test images\n"
     ]
    }
   ],
   "source": [
    "import pandas as pd\n",
    "image_level_statistics = pd.read_csv('./results/data_analysis/image_level_statistics.csv')\n",
    "n_test_images = (image_level_statistics['sample'] == 'test').sum()\n",
    "print('We have {} test images'.format(n_test_images))"
   ]
  },
  {
   "cell_type": "code",
   "execution_count": 14,
   "metadata": {
    "collapsed": true
   },
   "outputs": [],
   "source": [
    "batch_size = 10"
   ]
  },
  {
   "cell_type": "markdown",
   "metadata": {},
   "source": [
    "# First, we investigate the benchmark performance on the test set."
   ]
  },
  {
   "cell_type": "markdown",
   "metadata": {},
   "source": [
    "## Last layer"
   ]
  },
  {
   "cell_type": "code",
   "execution_count": 6,
   "metadata": {},
   "outputs": [
    {
     "name": "stdout",
     "output_type": "stream",
     "text": [
      "Found 4330 images belonging to 22 classes.\n",
      "Validation loss: 2.010500\n",
      "Validation top-1-error rate: 51.69%\n",
      "Validation top-3-error rate: 24.94%\n"
     ]
    }
   ],
   "source": [
    "bm_last = load_model('./saved_models/benchmark/weights_vgg16_top_only.hdf5', \n",
    "                     custom_objects={'top_1_error': top_1_error, \n",
    "                                     'top_3_error': top_3_error})\n",
    "\n",
    "test_performance_bm_last = bm_last.evaluate_generator(\n",
    "    test_generator(batch_size, path='./data/images/test'), \n",
    "    steps = n_test_images/batch_size)\n",
    "print('Validation loss: {:2f}'.format(test_performance_bm_last[0]))\n",
    "print('Validation top-1-error rate: {:.2f}%'.format(100*test_performance_bm_last[1]))\n",
    "print('Validation top-3-error rate: {:.2f}%'.format(100*test_performance_bm_last[2]))"
   ]
  },
  {
   "cell_type": "markdown",
   "metadata": {},
   "source": [
    "## Dense layers"
   ]
  },
  {
   "cell_type": "code",
   "execution_count": 7,
   "metadata": {},
   "outputs": [
    {
     "name": "stdout",
     "output_type": "stream",
     "text": [
      "Found 4330 images belonging to 22 classes.\n",
      "Validation loss: 1.561630\n",
      "Validation top-1-error rate: 46.37%\n",
      "Validation top-3-error rate: 22.40%\n"
     ]
    }
   ],
   "source": [
    "bm_dense = load_model('./saved_models/benchmark/weights_vgg16_dense.hdf5', \n",
    "                     custom_objects={'top_1_error': top_1_error, \n",
    "                                     'top_3_error': top_3_error})\n",
    "\n",
    "test_performance_bm_dense = bm_dense.evaluate_generator(\n",
    "    test_generator(batch_size, path='./data/images/test'), \n",
    "    steps = n_test_images/batch_size)\n",
    "print('Validation loss: {:2f}'.format(test_performance_bm_dense[0]))\n",
    "print('Validation top-1-error rate: {:.2f}%'.format(100*test_performance_bm_dense[1]))\n",
    "print('Validation top-3-error rate: {:.2f}%'.format(100*test_performance_bm_dense[2]))"
   ]
  },
  {
   "cell_type": "markdown",
   "metadata": {},
   "source": [
    "## Last convolutional block and dense"
   ]
  },
  {
   "cell_type": "code",
   "execution_count": 8,
   "metadata": {},
   "outputs": [
    {
     "name": "stdout",
     "output_type": "stream",
     "text": [
      "Found 4330 images belonging to 22 classes.\n",
      "Validation loss: 1.502480\n",
      "Validation top-1-error rate: 41.99%\n",
      "Validation top-3-error rate: 18.48%\n"
     ]
    }
   ],
   "source": [
    "bm_conv_and_dense = load_model('./saved_models/benchmark/weights_vgg16_conv_and_dense.hdf5', \n",
    "                     custom_objects={'top_1_error': top_1_error, \n",
    "                                     'top_3_error': top_3_error})\n",
    "\n",
    "test_performance_bm_conv_and_dense = bm_conv_and_dense.evaluate_generator(\n",
    "    test_generator(batch_size, path='./data/images/test'), \n",
    "    steps = n_test_images/batch_size)\n",
    "print('Validation loss: {:2f}'.format(test_performance_bm_conv_and_dense[0]))\n",
    "print('Validation top-1-error rate: {:.2f}%'.format(100*test_performance_bm_conv_and_dense[1]))\n",
    "print('Validation top-3-error rate: {:.2f}%'.format(100*test_performance_bm_conv_and_dense[2]))"
   ]
  },
  {
   "cell_type": "markdown",
   "metadata": {},
   "source": [
    "# Now we look at the two-stage model"
   ]
  },
  {
   "cell_type": "markdown",
   "metadata": {},
   "source": [
    "## We have already cropped the images for the first stage in 5.\n",
    "(That is all we need)"
   ]
  },
  {
   "cell_type": "markdown",
   "metadata": {},
   "source": [
    "## Next, run the second stage"
   ]
  },
  {
   "cell_type": "markdown",
   "metadata": {},
   "source": [
    "### Last layer"
   ]
  },
  {
   "cell_type": "code",
   "execution_count": 15,
   "metadata": {},
   "outputs": [
    {
     "name": "stdout",
     "output_type": "stream",
     "text": [
      "Found 4330 images belonging to 22 classes.\n",
      "Validation loss: 1.913339\n",
      "Validation top-1-error rate: 48.73%\n",
      "Validation top-3-error rate: 24.06%\n"
     ]
    }
   ],
   "source": [
    "two_stage_last = load_model('./saved_models/f_rcnn/second_stage/weights_vgg16_top_only.hdf5', \n",
    "                     custom_objects={'top_1_error': top_1_error, \n",
    "                                     'top_3_error': top_3_error})\n",
    "\n",
    "test_performance_two_stage_last = two_stage_last.evaluate_generator(\n",
    "    test_generator(batch_size, path='./data/f_rcnn_second_stage/test'), \n",
    "    steps = n_test_images/batch_size)\n",
    "print('Validation loss: {:2f}'.format(test_performance_two_stage_last[0]))\n",
    "print('Validation top-1-error rate: {:.2f}%'.format(100*test_performance_two_stage_last[1]))\n",
    "print('Validation top-3-error rate: {:.2f}%'.format(100*test_performance_two_stage_last[2]))"
   ]
  },
  {
   "cell_type": "markdown",
   "metadata": {},
   "source": [
    "### Dense layers"
   ]
  },
  {
   "cell_type": "code",
   "execution_count": 16,
   "metadata": {},
   "outputs": [
    {
     "name": "stdout",
     "output_type": "stream",
     "text": [
      "Found 4330 images belonging to 22 classes.\n",
      "Validation loss: 1.504728\n",
      "Validation top-1-error rate: 44.67%\n",
      "Validation top-3-error rate: 20.62%\n"
     ]
    }
   ],
   "source": [
    "two_stage_dense = load_model('./saved_models/f_rcnn/second_stage/weights_vgg16_dense.hdf5', \n",
    "                     custom_objects={'top_1_error': top_1_error, \n",
    "                                     'top_3_error': top_3_error})\n",
    "\n",
    "test_performance_two_stage_dense = two_stage_dense.evaluate_generator(\n",
    "    test_generator(batch_size, path='./data/f_rcnn_second_stage/test'), \n",
    "    steps = n_test_images/batch_size)\n",
    "print('Validation loss: {:2f}'.format(test_performance_two_stage_dense[0]))\n",
    "print('Validation top-1-error rate: {:.2f}%'.format(100*test_performance_two_stage_dense[1]))\n",
    "print('Validation top-3-error rate: {:.2f}%'.format(100*test_performance_two_stage_dense[2]))"
   ]
  },
  {
   "cell_type": "markdown",
   "metadata": {},
   "source": [
    "### Last convolutional block and dense"
   ]
  },
  {
   "cell_type": "code",
   "execution_count": 17,
   "metadata": {},
   "outputs": [
    {
     "name": "stdout",
     "output_type": "stream",
     "text": [
      "Found 4330 images belonging to 22 classes.\n",
      "Validation loss: 1.370984\n",
      "Validation top-1-error rate: 40.07%\n",
      "Validation top-3-error rate: 17.25%\n"
     ]
    }
   ],
   "source": [
    "two_stage_conv_and_dense = load_model('./saved_models/f_rcnn/second_stage/weights_vgg16_conv_and_dense.hdf5', \n",
    "                     custom_objects={'top_1_error': top_1_error, \n",
    "                                     'top_3_error': top_3_error})\n",
    "\n",
    "test_performance_two_stage_conv_and_dense = two_stage_conv_and_dense.evaluate_generator(\n",
    "    test_generator(batch_size, path='./data/f_rcnn_second_stage/test'), \n",
    "    steps = n_test_images/batch_size)\n",
    "print('Validation loss: {:2f}'.format(test_performance_two_stage_conv_and_dense[0]))\n",
    "print('Validation top-1-error rate: {:.2f}%'.format(100*test_performance_two_stage_conv_and_dense[1]))\n",
    "print('Validation top-3-error rate: {:.2f}%'.format(100*test_performance_two_stage_conv_and_dense[2]))"
   ]
  }
 ],
 "metadata": {
  "kernelspec": {
   "display_name": "Python 3",
   "language": "python",
   "name": "python3"
  },
  "language_info": {
   "codemirror_mode": {
    "name": "ipython",
    "version": 3
   },
   "file_extension": ".py",
   "mimetype": "text/x-python",
   "name": "python",
   "nbconvert_exporter": "python",
   "pygments_lexer": "ipython3",
   "version": "3.6.2"
  }
 },
 "nbformat": 4,
 "nbformat_minor": 2
}
