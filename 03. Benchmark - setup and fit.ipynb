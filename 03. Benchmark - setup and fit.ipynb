{
 "cells": [
  {
   "cell_type": "code",
   "execution_count": 1,
   "metadata": {},
   "outputs": [
    {
     "name": "stderr",
     "output_type": "stream",
     "text": [
      "Using TensorFlow backend.\n"
     ]
    }
   ],
   "source": [
    "from keras.applications.vgg16 import VGG16, preprocess_input\n",
    "from keras.preprocessing.image import ImageDataGenerator\n",
    "import numpy as np"
   ]
  },
  {
   "cell_type": "code",
   "execution_count": 2,
   "metadata": {
    "collapsed": true
   },
   "outputs": [],
   "source": [
    "base_vgg16 = VGG16(weights='imagenet')"
   ]
  },
  {
   "cell_type": "markdown",
   "metadata": {},
   "source": [
    "# Benchmark 1: VGG16 with replaced last layer"
   ]
  },
  {
   "cell_type": "code",
   "execution_count": 3,
   "metadata": {
    "collapsed": true
   },
   "outputs": [],
   "source": [
    "from keras.models import Model\n",
    "from keras.layers import Dense"
   ]
  },
  {
   "cell_type": "markdown",
   "metadata": {},
   "source": [
    "Replace the layer"
   ]
  },
  {
   "cell_type": "code",
   "execution_count": 4,
   "metadata": {
    "collapsed": true
   },
   "outputs": [],
   "source": [
    "final_layer = Dense(22, activation='softmax')(base_vgg16.get_layer('fc2').output)\n",
    "benchmark_last_layer = Model(base_vgg16.input, final_layer)"
   ]
  },
  {
   "cell_type": "code",
   "execution_count": 5,
   "metadata": {},
   "outputs": [
    {
     "name": "stdout",
     "output_type": "stream",
     "text": [
      "_________________________________________________________________\n",
      "Layer (type)                 Output Shape              Param #   \n",
      "=================================================================\n",
      "input_1 (InputLayer)         (None, 224, 224, 3)       0         \n",
      "_________________________________________________________________\n",
      "block1_conv1 (Conv2D)        (None, 224, 224, 64)      1792      \n",
      "_________________________________________________________________\n",
      "block1_conv2 (Conv2D)        (None, 224, 224, 64)      36928     \n",
      "_________________________________________________________________\n",
      "block1_pool (MaxPooling2D)   (None, 112, 112, 64)      0         \n",
      "_________________________________________________________________\n",
      "block2_conv1 (Conv2D)        (None, 112, 112, 128)     73856     \n",
      "_________________________________________________________________\n",
      "block2_conv2 (Conv2D)        (None, 112, 112, 128)     147584    \n",
      "_________________________________________________________________\n",
      "block2_pool (MaxPooling2D)   (None, 56, 56, 128)       0         \n",
      "_________________________________________________________________\n",
      "block3_conv1 (Conv2D)        (None, 56, 56, 256)       295168    \n",
      "_________________________________________________________________\n",
      "block3_conv2 (Conv2D)        (None, 56, 56, 256)       590080    \n",
      "_________________________________________________________________\n",
      "block3_conv3 (Conv2D)        (None, 56, 56, 256)       590080    \n",
      "_________________________________________________________________\n",
      "block3_pool (MaxPooling2D)   (None, 28, 28, 256)       0         \n",
      "_________________________________________________________________\n",
      "block4_conv1 (Conv2D)        (None, 28, 28, 512)       1180160   \n",
      "_________________________________________________________________\n",
      "block4_conv2 (Conv2D)        (None, 28, 28, 512)       2359808   \n",
      "_________________________________________________________________\n",
      "block4_conv3 (Conv2D)        (None, 28, 28, 512)       2359808   \n",
      "_________________________________________________________________\n",
      "block4_pool (MaxPooling2D)   (None, 14, 14, 512)       0         \n",
      "_________________________________________________________________\n",
      "block5_conv1 (Conv2D)        (None, 14, 14, 512)       2359808   \n",
      "_________________________________________________________________\n",
      "block5_conv2 (Conv2D)        (None, 14, 14, 512)       2359808   \n",
      "_________________________________________________________________\n",
      "block5_conv3 (Conv2D)        (None, 14, 14, 512)       2359808   \n",
      "_________________________________________________________________\n",
      "block5_pool (MaxPooling2D)   (None, 7, 7, 512)         0         \n",
      "_________________________________________________________________\n",
      "flatten (Flatten)            (None, 25088)             0         \n",
      "_________________________________________________________________\n",
      "fc1 (Dense)                  (None, 4096)              102764544 \n",
      "_________________________________________________________________\n",
      "fc2 (Dense)                  (None, 4096)              16781312  \n",
      "_________________________________________________________________\n",
      "dense_1 (Dense)              (None, 22)                90134     \n",
      "=================================================================\n",
      "Total params: 134,350,678\n",
      "Trainable params: 134,350,678\n",
      "Non-trainable params: 0\n",
      "_________________________________________________________________\n"
     ]
    }
   ],
   "source": [
    "benchmark_last_layer.summary()"
   ]
  },
  {
   "cell_type": "markdown",
   "metadata": {},
   "source": [
    "Make all other layers not trainable"
   ]
  },
  {
   "cell_type": "code",
   "execution_count": 6,
   "metadata": {
    "collapsed": true
   },
   "outputs": [],
   "source": [
    "for layer in benchmark_last_layer.layers[:-1]:\n",
    "    layer.trainable = False"
   ]
  },
  {
   "cell_type": "code",
   "execution_count": 7,
   "metadata": {
    "collapsed": true
   },
   "outputs": [],
   "source": [
    "from keras.metrics import top_k_categorical_accuracy\n",
    "def top_1_error(y_true, y_pred):\n",
    "    return 1-top_k_categorical_accuracy(y_true, y_pred, k=1)\n",
    "\n",
    "def top_3_error(y_true, y_pred):\n",
    "    return 1-top_k_categorical_accuracy(y_true, y_pred, k=3)"
   ]
  },
  {
   "cell_type": "code",
   "execution_count": 8,
   "metadata": {
    "collapsed": true
   },
   "outputs": [],
   "source": [
    "benchmark_last_layer.compile(loss='categorical_crossentropy', optimizer='adam',\n",
    "                            metrics=[top_1_error, top_3_error]) "
   ]
  },
  {
   "cell_type": "markdown",
   "metadata": {},
   "source": [
    "Data generators for preprocessed data"
   ]
  },
  {
   "cell_type": "code",
   "execution_count": 9,
   "metadata": {},
   "outputs": [],
   "source": [
    "def preprocess_img(img):\n",
    "    img = np.expand_dims(img, axis=0)\n",
    "    return preprocess_input(img)\n",
    "\n",
    "datagen_train = ImageDataGenerator(preprocessing_function=preprocess_img,\n",
    "                                   horizontal_flip=True)\n",
    "\n",
    "def generator_train(batch_size):\n",
    "    return datagen_train.flow_from_directory(\n",
    "        './data/images/train', target_size=(224, 224),\n",
    "        batch_size=batch_size, class_mode='categorical')\n",
    "\n",
    "datagen_val = ImageDataGenerator(preprocessing_function=preprocess_img)\n",
    "\n",
    "def generator_val(batch_size, shuffle=True):\n",
    "    return datagen_val.flow_from_directory(\n",
    "        './data/images/val', target_size=(224, 224),\n",
    "        batch_size=batch_size, class_mode='categorical', \n",
    "        shuffle=shuffle)"
   ]
  },
  {
   "cell_type": "code",
   "execution_count": 10,
   "metadata": {
    "collapsed": true
   },
   "outputs": [],
   "source": [
    "import pandas as pd\n",
    "image_level_statistics = pd.read_csv('./results/data_analysis/image_level_statistics.csv')\n",
    "n_train_images = (image_level_statistics['sample'] == 'train').sum()\n",
    "n_val_images = (image_level_statistics['sample'] == 'val').sum()"
   ]
  },
  {
   "cell_type": "markdown",
   "metadata": {},
   "source": [
    "Some callbacks. We save the model with the lowest validation loss, stop if there was no decrease in 20 epochs, and track the history of losses and errors."
   ]
  },
  {
   "cell_type": "code",
   "execution_count": 11,
   "metadata": {
    "collapsed": true
   },
   "outputs": [],
   "source": [
    "from keras.callbacks import ModelCheckpoint, EarlyStopping, LambdaCallback\n",
    "checkpointer = ModelCheckpoint(filepath='./saved_models/benchmark/weights_vgg16_top_only.hdf5', \n",
    "                               verbose=1, save_best_only=True)\n",
    "stopper = EarlyStopping(monitor='val_loss', min_delta=0, patience=20, verbose=1, mode='auto')"
   ]
  },
  {
   "cell_type": "code",
   "execution_count": 12,
   "metadata": {
    "collapsed": true
   },
   "outputs": [],
   "source": [
    "history_last_layer = list()\n",
    "def get_history(history_dict):\n",
    "    historian = LambdaCallback(\n",
    "        on_epoch_end=lambda epoch, logs:  history_dict.append(\n",
    "            {'loss': logs['loss'], \n",
    "             'top_1_error': logs['top_1_error'],\n",
    "             'top_3_error': logs['top_3_error'], \n",
    "             'val_loss': logs['val_loss'],  \n",
    "             'val_top_1_error': logs['val_top_1_error'], \n",
    "             'val_top_3_error': logs['val_top_3_error']}\n",
    "        )\n",
    "    )\n",
    "    return historian"
   ]
  },
  {
   "cell_type": "code",
   "execution_count": 13,
   "metadata": {},
   "outputs": [],
   "source": [
    "epochs = 100"
   ]
  },
  {
   "cell_type": "code",
   "execution_count": 14,
   "metadata": {},
   "outputs": [],
   "source": [
    "batch_size = 32"
   ]
  },
  {
   "cell_type": "code",
   "execution_count": 15,
   "metadata": {},
   "outputs": [
    {
     "name": "stdout",
     "output_type": "stream",
     "text": [
      "Found 12990 images belonging to 22 classes.\n",
      "Found 4319 images belonging to 22 classes.\n",
      "Epoch 1/100\n",
      "Epoch 00000: val_loss improved from inf to 2.62567, saving model to ./saved_models/benchmark/weights_vgg16_top_only.hdf5\n",
      "34s - loss: 2.6499 - top_1_error: 0.6589 - top_3_error: 0.3960 - val_loss: 2.6257 - val_top_1_error: 0.6285 - val_top_3_error: 0.3391\n",
      "Epoch 2/100\n",
      "Epoch 00001: val_loss improved from 2.62567 to 2.13961, saving model to ./saved_models/benchmark/weights_vgg16_top_only.hdf5\n",
      "32s - loss: 2.2188 - top_1_error: 0.5667 - top_3_error: 0.3034 - val_loss: 2.1396 - val_top_1_error: 0.5382 - val_top_3_error: 0.2755\n",
      "Epoch 3/100\n",
      "Epoch 00002: val_loss improved from 2.13961 to 2.07717, saving model to ./saved_models/benchmark/weights_vgg16_top_only.hdf5\n",
      "32s - loss: 2.1111 - top_1_error: 0.5541 - top_3_error: 0.2843 - val_loss: 2.0772 - val_top_1_error: 0.5625 - val_top_3_error: 0.2419\n",
      "Epoch 4/100\n",
      "Epoch 00003: val_loss improved from 2.07717 to 1.95054, saving model to ./saved_models/benchmark/weights_vgg16_top_only.hdf5\n",
      "34s - loss: 2.1710 - top_1_error: 0.5541 - top_3_error: 0.2729 - val_loss: 1.9505 - val_top_1_error: 0.5203 - val_top_3_error: 0.2526\n",
      "Epoch 5/100\n",
      "Epoch 00004: val_loss improved from 1.95054 to 1.93588, saving model to ./saved_models/benchmark/weights_vgg16_top_only.hdf5\n",
      "34s - loss: 2.1220 - top_1_error: 0.5523 - top_3_error: 0.2772 - val_loss: 1.9359 - val_top_1_error: 0.5127 - val_top_3_error: 0.2500\n",
      "Epoch 6/100\n",
      "Epoch 00005: val_loss did not improve\n",
      "32s - loss: 1.5102 - top_1_error: 0.4379 - top_3_error: 0.1707 - val_loss: 2.0555 - val_top_1_error: 0.5104 - val_top_3_error: 0.2465\n",
      "Epoch 7/100\n",
      "Epoch 00006: val_loss did not improve\n",
      "32s - loss: 1.5066 - top_1_error: 0.4276 - top_3_error: 0.1711 - val_loss: 1.9791 - val_top_1_error: 0.5324 - val_top_3_error: 0.2442\n",
      "Epoch 8/100\n",
      "Epoch 00007: val_loss did not improve\n",
      "32s - loss: 1.5542 - top_1_error: 0.4398 - top_3_error: 0.1894 - val_loss: 2.3284 - val_top_1_error: 0.5875 - val_top_3_error: 0.2781\n",
      "Epoch 9/100\n",
      "Epoch 00008: val_loss improved from 1.93588 to 1.91687, saving model to ./saved_models/benchmark/weights_vgg16_top_only.hdf5\n",
      "33s - loss: 1.6476 - top_1_error: 0.4588 - top_3_error: 0.1963 - val_loss: 1.9169 - val_top_1_error: 0.5012 - val_top_3_error: 0.2211\n",
      "Epoch 10/100\n",
      "Epoch 00009: val_loss did not improve\n",
      "32s - loss: 1.5662 - top_1_error: 0.4416 - top_3_error: 0.1826 - val_loss: 1.9643 - val_top_1_error: 0.5046 - val_top_3_error: 0.2477\n",
      "Epoch 11/100\n",
      "Epoch 00010: val_loss did not improve\n",
      "32s - loss: 1.1938 - top_1_error: 0.3571 - top_3_error: 0.1189 - val_loss: 2.1208 - val_top_1_error: 0.5162 - val_top_3_error: 0.2685\n",
      "Epoch 12/100\n",
      "Epoch 00011: val_loss did not improve\n",
      "32s - loss: 1.2256 - top_1_error: 0.3704 - top_3_error: 0.1280 - val_loss: 2.1249 - val_top_1_error: 0.5127 - val_top_3_error: 0.2616\n",
      "Epoch 13/100\n",
      "Epoch 00012: val_loss did not improve\n",
      "32s - loss: 1.2970 - top_1_error: 0.3761 - top_3_error: 0.1376 - val_loss: 2.0926 - val_top_1_error: 0.5023 - val_top_3_error: 0.2245\n",
      "Epoch 14/100\n",
      "Epoch 00013: val_loss did not improve\n",
      "32s - loss: 1.3794 - top_1_error: 0.3925 - top_3_error: 0.1521 - val_loss: 2.1940 - val_top_1_error: 0.5046 - val_top_3_error: 0.2674\n",
      "Epoch 15/100\n",
      "Epoch 00014: val_loss did not improve\n",
      "32s - loss: 1.3867 - top_1_error: 0.3916 - top_3_error: 0.1491 - val_loss: 1.9982 - val_top_1_error: 0.5168 - val_top_3_error: 0.2260\n",
      "Epoch 16/100\n",
      "Epoch 00015: val_loss did not improve\n",
      "32s - loss: 0.9922 - top_1_error: 0.3087 - top_3_error: 0.0983 - val_loss: 2.3033 - val_top_1_error: 0.5162 - val_top_3_error: 0.2535\n",
      "Epoch 17/100\n",
      "Epoch 00016: val_loss did not improve\n",
      "32s - loss: 1.0654 - top_1_error: 0.3323 - top_3_error: 0.1021 - val_loss: 2.0600 - val_top_1_error: 0.5069 - val_top_3_error: 0.2431\n",
      "Epoch 18/100\n",
      "Epoch 00017: val_loss did not improve\n",
      "32s - loss: 1.1285 - top_1_error: 0.3399 - top_3_error: 0.1059 - val_loss: 2.3314 - val_top_1_error: 0.5139 - val_top_3_error: 0.2535\n",
      "Epoch 19/100\n",
      "Epoch 00018: val_loss did not improve\n",
      "32s - loss: 1.1038 - top_1_error: 0.3426 - top_3_error: 0.1094 - val_loss: 2.1405 - val_top_1_error: 0.5064 - val_top_3_error: 0.2178\n",
      "Epoch 20/100\n",
      "Epoch 00019: val_loss did not improve\n",
      "32s - loss: 1.1238 - top_1_error: 0.3380 - top_3_error: 0.1084 - val_loss: 2.2032 - val_top_1_error: 0.5139 - val_top_3_error: 0.2454\n",
      "Epoch 21/100\n",
      "Epoch 00020: val_loss did not improve\n",
      "32s - loss: 0.8339 - top_1_error: 0.2603 - top_3_error: 0.0694 - val_loss: 2.2942 - val_top_1_error: 0.5046 - val_top_3_error: 0.2500\n",
      "Epoch 22/100\n",
      "Epoch 00021: val_loss did not improve\n",
      "32s - loss: 0.9340 - top_1_error: 0.2980 - top_3_error: 0.0884 - val_loss: 2.1429 - val_top_1_error: 0.5197 - val_top_3_error: 0.2326\n",
      "Epoch 23/100\n",
      "Epoch 00022: val_loss did not improve\n",
      "32s - loss: 0.9567 - top_1_error: 0.2980 - top_3_error: 0.0854 - val_loss: 2.5103 - val_top_1_error: 0.5255 - val_top_3_error: 0.2662\n",
      "Epoch 24/100\n",
      "Epoch 00023: val_loss did not improve\n",
      "32s - loss: 1.0098 - top_1_error: 0.3110 - top_3_error: 0.0903 - val_loss: 2.1297 - val_top_1_error: 0.5081 - val_top_3_error: 0.2384\n",
      "Epoch 25/100\n",
      "Epoch 00024: val_loss did not improve\n",
      "32s - loss: 0.9752 - top_1_error: 0.2967 - top_3_error: 0.0809 - val_loss: 2.2363 - val_top_1_error: 0.5150 - val_top_3_error: 0.2500\n",
      "Epoch 26/100\n",
      "Epoch 00025: val_loss did not improve\n",
      "32s - loss: 0.7189 - top_1_error: 0.2332 - top_3_error: 0.0545 - val_loss: 2.4383 - val_top_1_error: 0.5365 - val_top_3_error: 0.2572\n",
      "Epoch 27/100\n",
      "Epoch 00026: val_loss did not improve\n",
      "32s - loss: 0.7773 - top_1_error: 0.2530 - top_3_error: 0.0629 - val_loss: 2.4148 - val_top_1_error: 0.5220 - val_top_3_error: 0.2708\n",
      "Epoch 28/100\n",
      "Epoch 00027: val_loss did not improve\n",
      "31s - loss: 0.8428 - top_1_error: 0.2660 - top_3_error: 0.0705 - val_loss: 2.4011 - val_top_1_error: 0.5046 - val_top_3_error: 0.2523\n",
      "Epoch 29/100\n",
      "Epoch 00028: val_loss did not improve\n",
      "31s - loss: 0.9390 - top_1_error: 0.2931 - top_3_error: 0.0789 - val_loss: 2.3123 - val_top_1_error: 0.5139 - val_top_3_error: 0.2465\n",
      "Epoch 30/100\n",
      "Epoch 00029: val_loss did not improve\n",
      "32s - loss: 0.9525 - top_1_error: 0.2910 - top_3_error: 0.0877 - val_loss: 2.4419 - val_top_1_error: 0.5319 - val_top_3_error: 0.2677\n",
      "Epoch 00029: early stopping\n"
     ]
    },
    {
     "data": {
      "text/plain": [
       "<keras.callbacks.History at 0x7fa613536470>"
      ]
     },
     "execution_count": 15,
     "metadata": {},
     "output_type": "execute_result"
    }
   ],
   "source": [
    "benchmark_last_layer.fit_generator(generator_train(batch_size), \n",
    "                                   steps_per_epoch=n_train_images/(5*batch_size),\n",
    "                                   epochs=epochs, \n",
    "                                   callbacks = [checkpointer, stopper, \n",
    "                                                get_history(history_last_layer)], \n",
    "                                   validation_data=generator_val(batch_size), \n",
    "                                   validation_steps=n_val_images/(5*batch_size), \n",
    "                                   verbose=2)"
   ]
  },
  {
   "cell_type": "code",
   "execution_count": 16,
   "metadata": {},
   "outputs": [
    {
     "name": "stdout",
     "output_type": "stream",
     "text": [
      "Found 4319 images belonging to 22 classes.\n",
      "Validation loss: 2.020255\n",
      "Validation top-1-error rate: 51.45%\n",
      "Validation top-3-error rate: 23.76%\n"
     ]
    }
   ],
   "source": [
    "benchmark_last_layer.load_weights('./saved_models/benchmark/weights_vgg16_top_only.hdf5')\n",
    "performance_benchmark_last_layer = benchmark_last_layer.evaluate_generator(\n",
    "    generator_val(batch_size, shuffle=False), steps = n_val_images/batch_size)\n",
    "print('Validation loss: {:2f}'.format(performance_benchmark_last_layer[0]))\n",
    "print('Validation top-1-error rate: {:.2f}%'.format(100*performance_benchmark_last_layer[1]))\n",
    "print('Validation top-3-error rate: {:.2f}%'.format(100*performance_benchmark_last_layer[2]))"
   ]
  },
  {
   "cell_type": "markdown",
   "metadata": {},
   "source": [
    "Save the results"
   ]
  },
  {
   "cell_type": "code",
   "execution_count": 17,
   "metadata": {},
   "outputs": [],
   "source": [
    "pd.DataFrame(history_last_layer).to_csv('./results/benchmark/history_last_layer.csv')"
   ]
  },
  {
   "cell_type": "markdown",
   "metadata": {},
   "source": [
    "# Benchmark 2: VGG16 with replaced dense layers\n",
    "Looking at the losses from Benchmark 1, the model is probably not flexible enough but still quickly over-fitting. Lets try to change things up. We exchange the flatten layer for a global average pooling layer and add our own dense layers after that. (We cannot directly re-use the initial layers since the first Dense layer is just too big for our compouter.) We add dropout. The new dense layers are initiated with random weights. "
   ]
  },
  {
   "cell_type": "code",
   "execution_count": 18,
   "metadata": {
    "collapsed": true
   },
   "outputs": [],
   "source": [
    "from keras.layers import Dropout, GlobalAveragePooling2D"
   ]
  },
  {
   "cell_type": "code",
   "execution_count": 19,
   "metadata": {
    "collapsed": true
   },
   "outputs": [],
   "source": [
    "dense = GlobalAveragePooling2D()(base_vgg16.get_layer('block5_pool').output)\n",
    "dense = Dense(2048, activation='relu', name='fc1')(dense)\n",
    "dense = Dropout(0.3)(dense)\n",
    "dense = Dense(2048, activation='relu', name='fc2')(dense)\n",
    "dense = Dropout(0.3)(dense)\n",
    "dense = Dense(22, activation='softmax', name='prediction')(dense)"
   ]
  },
  {
   "cell_type": "code",
   "execution_count": 20,
   "metadata": {
    "collapsed": true
   },
   "outputs": [],
   "source": [
    "benchmark_all_dense_layers = Model(base_vgg16.input, dense)"
   ]
  },
  {
   "cell_type": "code",
   "execution_count": 21,
   "metadata": {},
   "outputs": [
    {
     "name": "stdout",
     "output_type": "stream",
     "text": [
      "_________________________________________________________________\n",
      "Layer (type)                 Output Shape              Param #   \n",
      "=================================================================\n",
      "input_1 (InputLayer)         (None, 224, 224, 3)       0         \n",
      "_________________________________________________________________\n",
      "block1_conv1 (Conv2D)        (None, 224, 224, 64)      1792      \n",
      "_________________________________________________________________\n",
      "block1_conv2 (Conv2D)        (None, 224, 224, 64)      36928     \n",
      "_________________________________________________________________\n",
      "block1_pool (MaxPooling2D)   (None, 112, 112, 64)      0         \n",
      "_________________________________________________________________\n",
      "block2_conv1 (Conv2D)        (None, 112, 112, 128)     73856     \n",
      "_________________________________________________________________\n",
      "block2_conv2 (Conv2D)        (None, 112, 112, 128)     147584    \n",
      "_________________________________________________________________\n",
      "block2_pool (MaxPooling2D)   (None, 56, 56, 128)       0         \n",
      "_________________________________________________________________\n",
      "block3_conv1 (Conv2D)        (None, 56, 56, 256)       295168    \n",
      "_________________________________________________________________\n",
      "block3_conv2 (Conv2D)        (None, 56, 56, 256)       590080    \n",
      "_________________________________________________________________\n",
      "block3_conv3 (Conv2D)        (None, 56, 56, 256)       590080    \n",
      "_________________________________________________________________\n",
      "block3_pool (MaxPooling2D)   (None, 28, 28, 256)       0         \n",
      "_________________________________________________________________\n",
      "block4_conv1 (Conv2D)        (None, 28, 28, 512)       1180160   \n",
      "_________________________________________________________________\n",
      "block4_conv2 (Conv2D)        (None, 28, 28, 512)       2359808   \n",
      "_________________________________________________________________\n",
      "block4_conv3 (Conv2D)        (None, 28, 28, 512)       2359808   \n",
      "_________________________________________________________________\n",
      "block4_pool (MaxPooling2D)   (None, 14, 14, 512)       0         \n",
      "_________________________________________________________________\n",
      "block5_conv1 (Conv2D)        (None, 14, 14, 512)       2359808   \n",
      "_________________________________________________________________\n",
      "block5_conv2 (Conv2D)        (None, 14, 14, 512)       2359808   \n",
      "_________________________________________________________________\n",
      "block5_conv3 (Conv2D)        (None, 14, 14, 512)       2359808   \n",
      "_________________________________________________________________\n",
      "block5_pool (MaxPooling2D)   (None, 7, 7, 512)         0         \n",
      "_________________________________________________________________\n",
      "global_average_pooling2d_1 ( (None, 512)               0         \n",
      "_________________________________________________________________\n",
      "fc1 (Dense)                  (None, 2048)              1050624   \n",
      "_________________________________________________________________\n",
      "dropout_1 (Dropout)          (None, 2048)              0         \n",
      "_________________________________________________________________\n",
      "fc2 (Dense)                  (None, 2048)              4196352   \n",
      "_________________________________________________________________\n",
      "dropout_2 (Dropout)          (None, 2048)              0         \n",
      "_________________________________________________________________\n",
      "prediction (Dense)           (None, 22)                45078     \n",
      "=================================================================\n",
      "Total params: 20,006,742\n",
      "Trainable params: 5,292,054\n",
      "Non-trainable params: 14,714,688\n",
      "_________________________________________________________________\n"
     ]
    }
   ],
   "source": [
    "benchmark_all_dense_layers.summary()"
   ]
  },
  {
   "cell_type": "code",
   "execution_count": 22,
   "metadata": {},
   "outputs": [
    {
     "name": "stdout",
     "output_type": "stream",
     "text": [
      "Which layers are trainable?\n",
      "input_1: False\n",
      "block1_conv1: False\n",
      "block1_conv2: False\n",
      "block1_pool: False\n",
      "block2_conv1: False\n",
      "block2_conv2: False\n",
      "block2_pool: False\n",
      "block3_conv1: False\n",
      "block3_conv2: False\n",
      "block3_conv3: False\n",
      "block3_pool: False\n",
      "block4_conv1: False\n",
      "block4_conv2: False\n",
      "block4_conv3: False\n",
      "block4_pool: False\n",
      "block5_conv1: False\n",
      "block5_conv2: False\n",
      "block5_conv3: False\n",
      "block5_pool: False\n",
      "global_average_pooling2d_1: True\n",
      "fc1: True\n",
      "dropout_1: True\n",
      "fc2: True\n",
      "dropout_2: True\n",
      "prediction: True\n"
     ]
    }
   ],
   "source": [
    "print('Which layers are trainable?')\n",
    "for layer in benchmark_all_dense_layers.layers:\n",
    "    print('{}: {}'.format(layer.name, layer.trainable))"
   ]
  },
  {
   "cell_type": "code",
   "execution_count": 23,
   "metadata": {
    "collapsed": true
   },
   "outputs": [],
   "source": [
    "benchmark_all_dense_layers.compile(loss='categorical_crossentropy', optimizer='adam',\n",
    "                                   metrics=[top_1_error, top_3_error])"
   ]
  },
  {
   "cell_type": "code",
   "execution_count": 24,
   "metadata": {
    "collapsed": true
   },
   "outputs": [],
   "source": [
    "checkpointer = ModelCheckpoint(filepath='./saved_models/benchmark/weights_vgg16_dense.hdf5', \n",
    "                               verbose=1, save_best_only=True)"
   ]
  },
  {
   "cell_type": "code",
   "execution_count": 25,
   "metadata": {
    "collapsed": true
   },
   "outputs": [],
   "source": [
    "history_all_dense_layers = list()"
   ]
  },
  {
   "cell_type": "code",
   "execution_count": 26,
   "metadata": {
    "collapsed": true
   },
   "outputs": [],
   "source": [
    "batch_size=25"
   ]
  },
  {
   "cell_type": "code",
   "execution_count": 27,
   "metadata": {},
   "outputs": [
    {
     "name": "stdout",
     "output_type": "stream",
     "text": [
      "Found 12990 images belonging to 22 classes.\n",
      "Found 4319 images belonging to 22 classes.\n",
      "Epoch 1/100\n",
      "Epoch 00000: val_loss improved from inf to 2.09595, saving model to ./saved_models/benchmark/weights_vgg16_dense.hdf5\n",
      "36s - loss: 5.3808 - top_1_error: 0.7688 - top_3_error: 0.5538 - val_loss: 2.0960 - val_top_1_error: 0.6366 - val_top_3_error: 0.3783\n",
      "Epoch 2/100\n",
      "Epoch 00001: val_loss improved from 2.09595 to 1.87746, saving model to ./saved_models/benchmark/weights_vgg16_dense.hdf5\n",
      "35s - loss: 2.1603 - top_1_error: 0.6515 - top_3_error: 0.3731 - val_loss: 1.8775 - val_top_1_error: 0.6069 - val_top_3_error: 0.3097\n",
      "Epoch 3/100\n",
      "Epoch 00002: val_loss improved from 1.87746 to 1.77648, saving model to ./saved_models/benchmark/weights_vgg16_dense.hdf5\n",
      "35s - loss: 1.9803 - top_1_error: 0.5858 - top_3_error: 0.3285 - val_loss: 1.7765 - val_top_1_error: 0.5463 - val_top_3_error: 0.2731\n",
      "Epoch 4/100\n",
      "Epoch 00003: val_loss improved from 1.77648 to 1.67309, saving model to ./saved_models/benchmark/weights_vgg16_dense.hdf5\n",
      "35s - loss: 1.9766 - top_1_error: 0.5988 - top_3_error: 0.3135 - val_loss: 1.6731 - val_top_1_error: 0.5211 - val_top_3_error: 0.2549\n",
      "Epoch 5/100\n",
      "Epoch 00004: val_loss did not improve\n",
      "36s - loss: 1.8801 - top_1_error: 0.5767 - top_3_error: 0.2913 - val_loss: 1.7266 - val_top_1_error: 0.5566 - val_top_3_error: 0.2537\n",
      "Epoch 6/100\n",
      "Epoch 00005: val_loss improved from 1.67309 to 1.57847, saving model to ./saved_models/benchmark/weights_vgg16_dense.hdf5\n",
      "35s - loss: 1.7019 - top_1_error: 0.5250 - top_3_error: 0.2492 - val_loss: 1.5785 - val_top_1_error: 0.5154 - val_top_3_error: 0.2251\n",
      "Epoch 7/100\n",
      "Epoch 00006: val_loss did not improve\n",
      "35s - loss: 1.7639 - top_1_error: 0.5542 - top_3_error: 0.2723 - val_loss: 1.6675 - val_top_1_error: 0.5383 - val_top_3_error: 0.2320\n",
      "Epoch 8/100\n",
      "Epoch 00007: val_loss did not improve\n",
      "36s - loss: 1.7606 - top_1_error: 0.5427 - top_3_error: 0.2642 - val_loss: 1.6336 - val_top_1_error: 0.5017 - val_top_3_error: 0.2325\n",
      "Epoch 9/100\n",
      "Epoch 00008: val_loss did not improve\n",
      "35s - loss: 1.6656 - top_1_error: 0.5269 - top_3_error: 0.2435 - val_loss: 1.6818 - val_top_1_error: 0.5406 - val_top_3_error: 0.2594\n",
      "Epoch 10/100\n",
      "Epoch 00009: val_loss did not improve\n",
      "35s - loss: 1.7367 - top_1_error: 0.5342 - top_3_error: 0.2678 - val_loss: 1.5958 - val_top_1_error: 0.5166 - val_top_3_error: 0.2320\n",
      "Epoch 11/100\n",
      "Epoch 00010: val_loss improved from 1.57847 to 1.56138, saving model to ./saved_models/benchmark/weights_vgg16_dense.hdf5\n",
      "35s - loss: 1.5516 - top_1_error: 0.4865 - top_3_error: 0.2158 - val_loss: 1.5614 - val_top_1_error: 0.4731 - val_top_3_error: 0.2206\n",
      "Epoch 12/100\n",
      "Epoch 00011: val_loss did not improve\n",
      "35s - loss: 1.6179 - top_1_error: 0.5088 - top_3_error: 0.2435 - val_loss: 1.5832 - val_top_1_error: 0.4799 - val_top_3_error: 0.2163\n",
      "Epoch 13/100\n",
      "Epoch 00012: val_loss did not improve\n",
      "35s - loss: 1.6424 - top_1_error: 0.5127 - top_3_error: 0.2438 - val_loss: 1.5690 - val_top_1_error: 0.4800 - val_top_3_error: 0.2206\n",
      "Epoch 14/100\n",
      "Epoch 00013: val_loss improved from 1.56138 to 1.54755, saving model to ./saved_models/benchmark/weights_vgg16_dense.hdf5\n",
      "35s - loss: 1.6399 - top_1_error: 0.5154 - top_3_error: 0.2523 - val_loss: 1.5475 - val_top_1_error: 0.4754 - val_top_3_error: 0.2034\n",
      "Epoch 15/100\n",
      "Epoch 00014: val_loss did not improve\n",
      "35s - loss: 1.5898 - top_1_error: 0.5089 - top_3_error: 0.2362 - val_loss: 1.5805 - val_top_1_error: 0.5143 - val_top_3_error: 0.2251\n",
      "Epoch 16/100\n",
      "Epoch 00015: val_loss did not improve\n",
      "35s - loss: 1.5031 - top_1_error: 0.4750 - top_3_error: 0.2019 - val_loss: 1.6206 - val_top_1_error: 0.4799 - val_top_3_error: 0.2267\n",
      "Epoch 17/100\n",
      "Epoch 00016: val_loss did not improve\n",
      "35s - loss: 1.5069 - top_1_error: 0.4631 - top_3_error: 0.2042 - val_loss: 1.5567 - val_top_1_error: 0.4971 - val_top_3_error: 0.2160\n",
      "Epoch 18/100\n",
      "Epoch 00017: val_loss did not improve\n",
      "35s - loss: 1.5550 - top_1_error: 0.4800 - top_3_error: 0.2135 - val_loss: 1.5967 - val_top_1_error: 0.4880 - val_top_3_error: 0.2114\n",
      "Epoch 19/100\n",
      "Epoch 00018: val_loss improved from 1.54755 to 1.54719, saving model to ./saved_models/benchmark/weights_vgg16_dense.hdf5\n",
      "35s - loss: 1.5496 - top_1_error: 0.4854 - top_3_error: 0.2265 - val_loss: 1.5472 - val_top_1_error: 0.4891 - val_top_3_error: 0.2160\n",
      "Epoch 20/100\n",
      "Epoch 00019: val_loss improved from 1.54719 to 1.48181, saving model to ./saved_models/benchmark/weights_vgg16_dense.hdf5\n",
      "35s - loss: 1.5904 - top_1_error: 0.4918 - top_3_error: 0.2290 - val_loss: 1.4818 - val_top_1_error: 0.4672 - val_top_3_error: 0.2106\n",
      "Epoch 21/100\n",
      "Epoch 00020: val_loss did not improve\n",
      "35s - loss: 1.3581 - top_1_error: 0.4385 - top_3_error: 0.1712 - val_loss: 1.5231 - val_top_1_error: 0.4686 - val_top_3_error: 0.2000\n",
      "Epoch 22/100\n",
      "Epoch 00021: val_loss did not improve\n",
      "35s - loss: 1.4778 - top_1_error: 0.4715 - top_3_error: 0.1900 - val_loss: 1.6792 - val_top_1_error: 0.5029 - val_top_3_error: 0.2229\n",
      "Epoch 23/100\n",
      "Epoch 00022: val_loss did not improve\n",
      "35s - loss: 1.4773 - top_1_error: 0.4654 - top_3_error: 0.2065 - val_loss: 1.5035 - val_top_1_error: 0.4743 - val_top_3_error: 0.2206\n",
      "Epoch 24/100\n",
      "Epoch 00023: val_loss improved from 1.48181 to 1.45653, saving model to ./saved_models/benchmark/weights_vgg16_dense.hdf5\n",
      "35s - loss: 1.4484 - top_1_error: 0.4469 - top_3_error: 0.1981 - val_loss: 1.4565 - val_top_1_error: 0.4787 - val_top_3_error: 0.2014\n",
      "Epoch 25/100\n",
      "Epoch 00024: val_loss did not improve\n",
      "35s - loss: 1.5714 - top_1_error: 0.4891 - top_3_error: 0.2192 - val_loss: 1.5785 - val_top_1_error: 0.4834 - val_top_3_error: 0.2309\n",
      "Epoch 26/100\n",
      "Epoch 00025: val_loss did not improve\n",
      "35s - loss: 1.3880 - top_1_error: 0.4373 - top_3_error: 0.1781 - val_loss: 1.5677 - val_top_1_error: 0.4674 - val_top_3_error: 0.2229\n",
      "Epoch 27/100\n",
      "Epoch 00026: val_loss did not improve\n",
      "35s - loss: 1.4125 - top_1_error: 0.4469 - top_3_error: 0.1835 - val_loss: 1.5747 - val_top_1_error: 0.4697 - val_top_3_error: 0.2229\n",
      "Epoch 28/100\n",
      "Epoch 00027: val_loss did not improve\n",
      "35s - loss: 1.4249 - top_1_error: 0.4431 - top_3_error: 0.1988 - val_loss: 1.5141 - val_top_1_error: 0.4651 - val_top_3_error: 0.1931\n",
      "Epoch 29/100\n",
      "Epoch 00028: val_loss did not improve\n",
      "35s - loss: 1.4751 - top_1_error: 0.4554 - top_3_error: 0.1954 - val_loss: 1.5774 - val_top_1_error: 0.4857 - val_top_3_error: 0.2171\n",
      "Epoch 30/100\n",
      "Epoch 00029: val_loss did not improve\n",
      "35s - loss: 1.4649 - top_1_error: 0.4646 - top_3_error: 0.2041 - val_loss: 1.5694 - val_top_1_error: 0.4869 - val_top_3_error: 0.2206\n",
      "Epoch 31/100\n",
      "Epoch 00030: val_loss did not improve\n",
      "35s - loss: 1.3158 - top_1_error: 0.4119 - top_3_error: 0.1762 - val_loss: 1.5299 - val_top_1_error: 0.4499 - val_top_3_error: 0.2290\n",
      "Epoch 32/100\n",
      "Epoch 00031: val_loss did not improve\n",
      "35s - loss: 1.3699 - top_1_error: 0.4281 - top_3_error: 0.1804 - val_loss: 1.5526 - val_top_1_error: 0.4869 - val_top_3_error: 0.2046\n",
      "Epoch 33/100\n",
      "Epoch 00032: val_loss did not improve\n",
      "35s - loss: 1.4043 - top_1_error: 0.4319 - top_3_error: 0.1846 - val_loss: 1.5090 - val_top_1_error: 0.4731 - val_top_3_error: 0.2069\n",
      "Epoch 34/100\n",
      "Epoch 00033: val_loss did not improve\n",
      "35s - loss: 1.4219 - top_1_error: 0.4377 - top_3_error: 0.1996 - val_loss: 1.4924 - val_top_1_error: 0.4526 - val_top_3_error: 0.2126\n",
      "Epoch 35/100\n",
      "Epoch 00034: val_loss did not improve\n",
      "35s - loss: 1.4442 - top_1_error: 0.4499 - top_3_error: 0.1932 - val_loss: 1.5887 - val_top_1_error: 0.5086 - val_top_3_error: 0.2221\n",
      "Epoch 36/100\n",
      "Epoch 00035: val_loss did not improve\n",
      "35s - loss: 1.2765 - top_1_error: 0.3962 - top_3_error: 0.1588 - val_loss: 1.6264 - val_top_1_error: 0.4800 - val_top_3_error: 0.2400\n",
      "Epoch 37/100\n",
      "Epoch 00036: val_loss did not improve\n",
      "35s - loss: 1.3601 - top_1_error: 0.4377 - top_3_error: 0.1696 - val_loss: 1.5583 - val_top_1_error: 0.4537 - val_top_3_error: 0.2046\n",
      "Epoch 38/100\n",
      "Epoch 00037: val_loss did not improve\n",
      "35s - loss: 1.3738 - top_1_error: 0.4338 - top_3_error: 0.1788 - val_loss: 1.5541 - val_top_1_error: 0.4846 - val_top_3_error: 0.2091\n",
      "Epoch 39/100\n",
      "Epoch 00038: val_loss did not improve\n",
      "35s - loss: 1.3410 - top_1_error: 0.4277 - top_3_error: 0.1812 - val_loss: 1.5438 - val_top_1_error: 0.4638 - val_top_3_error: 0.1922\n",
      "Epoch 40/100\n",
      "Epoch 00039: val_loss did not improve\n",
      "35s - loss: 1.3824 - top_1_error: 0.4233 - top_3_error: 0.1824 - val_loss: 1.5271 - val_top_1_error: 0.4469 - val_top_3_error: 0.2114\n",
      "Epoch 41/100\n",
      "Epoch 00040: val_loss did not improve\n",
      "35s - loss: 1.2289 - top_1_error: 0.4127 - top_3_error: 0.1519 - val_loss: 1.5198 - val_top_1_error: 0.4560 - val_top_3_error: 0.2011\n",
      "Epoch 42/100\n",
      "Epoch 00041: val_loss did not improve\n",
      "35s - loss: 1.2982 - top_1_error: 0.4142 - top_3_error: 0.1635 - val_loss: 1.6476 - val_top_1_error: 0.4823 - val_top_3_error: 0.2080\n",
      "Epoch 43/100\n",
      "Epoch 00042: val_loss did not improve\n",
      "35s - loss: 1.3102 - top_1_error: 0.4058 - top_3_error: 0.1738 - val_loss: 1.4883 - val_top_1_error: 0.4488 - val_top_3_error: 0.1864\n",
      "Epoch 44/100\n",
      "Epoch 00043: val_loss improved from 1.45653 to 1.45501, saving model to ./saved_models/benchmark/weights_vgg16_dense.hdf5\n",
      "35s - loss: 1.3327 - top_1_error: 0.4288 - top_3_error: 0.1704 - val_loss: 1.4550 - val_top_1_error: 0.4366 - val_top_3_error: 0.2046\n",
      "Epoch 45/100\n",
      "Epoch 00044: val_loss did not improve\n",
      "35s - loss: 1.3537 - top_1_error: 0.4092 - top_3_error: 0.1631 - val_loss: 1.6483 - val_top_1_error: 0.4789 - val_top_3_error: 0.2160\n",
      "Epoch 46/100\n",
      "Epoch 00045: val_loss did not improve\n",
      "35s - loss: 1.1983 - top_1_error: 0.3846 - top_3_error: 0.1485 - val_loss: 1.5486 - val_top_1_error: 0.4617 - val_top_3_error: 0.2114\n",
      "Epoch 47/100\n",
      "Epoch 00046: val_loss did not improve\n",
      "35s - loss: 1.2387 - top_1_error: 0.3915 - top_3_error: 0.1565 - val_loss: 1.6010 - val_top_1_error: 0.4684 - val_top_3_error: 0.2129\n",
      "Epoch 48/100\n",
      "Epoch 00047: val_loss did not improve\n",
      "35s - loss: 1.3095 - top_1_error: 0.4231 - top_3_error: 0.1750 - val_loss: 1.5504 - val_top_1_error: 0.4366 - val_top_3_error: 0.2126\n",
      "Epoch 49/100\n",
      "Epoch 00048: val_loss did not improve\n",
      "35s - loss: 1.2859 - top_1_error: 0.4042 - top_3_error: 0.1658 - val_loss: 1.5937 - val_top_1_error: 0.4903 - val_top_3_error: 0.2229\n",
      "Epoch 50/100\n",
      "Epoch 00049: val_loss did not improve\n",
      "35s - loss: 1.3712 - top_1_error: 0.4194 - top_3_error: 0.1714 - val_loss: 1.6112 - val_top_1_error: 0.5029 - val_top_3_error: 0.2023\n",
      "Epoch 51/100\n",
      "Epoch 00050: val_loss did not improve\n",
      "35s - loss: 1.1977 - top_1_error: 0.3762 - top_3_error: 0.1415 - val_loss: 1.5360 - val_top_1_error: 0.4594 - val_top_3_error: 0.1931\n",
      "Epoch 52/100\n",
      "Epoch 00051: val_loss did not improve\n",
      "35s - loss: 1.2290 - top_1_error: 0.3954 - top_3_error: 0.1446 - val_loss: 1.5925 - val_top_1_error: 0.4583 - val_top_3_error: 0.2229\n",
      "Epoch 53/100\n",
      "Epoch 00052: val_loss did not improve\n",
      "35s - loss: 1.3098 - top_1_error: 0.4150 - top_3_error: 0.1700 - val_loss: 1.5143 - val_top_1_error: 0.4514 - val_top_3_error: 0.1920\n",
      "Epoch 54/100\n",
      "Epoch 00053: val_loss did not improve\n",
      "35s - loss: 1.2628 - top_1_error: 0.3942 - top_3_error: 0.1550 - val_loss: 1.5734 - val_top_1_error: 0.4629 - val_top_3_error: 0.2149\n",
      "Epoch 55/100\n",
      "Epoch 00054: val_loss did not improve\n",
      "35s - loss: 1.2712 - top_1_error: 0.4033 - top_3_error: 0.1565 - val_loss: 1.5416 - val_top_1_error: 0.4606 - val_top_3_error: 0.2103\n",
      "Epoch 56/100\n",
      "Epoch 00055: val_loss did not improve\n",
      "35s - loss: 1.1585 - top_1_error: 0.3735 - top_3_error: 0.1338 - val_loss: 1.4932 - val_top_1_error: 0.4320 - val_top_3_error: 0.1817\n",
      "Epoch 57/100\n",
      "Epoch 00056: val_loss did not improve\n",
      "35s - loss: 1.1820 - top_1_error: 0.3819 - top_3_error: 0.1335 - val_loss: 1.5554 - val_top_1_error: 0.4800 - val_top_3_error: 0.2126\n",
      "Epoch 58/100\n",
      "Epoch 00057: val_loss did not improve\n",
      "35s - loss: 1.3022 - top_1_error: 0.4123 - top_3_error: 0.1600 - val_loss: 1.6337 - val_top_1_error: 0.4603 - val_top_3_error: 0.2209\n",
      "Epoch 59/100\n",
      "Epoch 00058: val_loss did not improve\n",
      "35s - loss: 1.1942 - top_1_error: 0.3746 - top_3_error: 0.1388 - val_loss: 1.5474 - val_top_1_error: 0.4617 - val_top_3_error: 0.2057\n",
      "Epoch 60/100\n",
      "Epoch 00059: val_loss did not improve\n",
      "35s - loss: 1.2817 - top_1_error: 0.4068 - top_3_error: 0.1564 - val_loss: 1.5990 - val_top_1_error: 0.4880 - val_top_3_error: 0.2137\n",
      "Epoch 61/100\n",
      "Epoch 00060: val_loss did not improve\n",
      "35s - loss: 1.0570 - top_1_error: 0.3442 - top_3_error: 0.1262 - val_loss: 1.5135 - val_top_1_error: 0.4549 - val_top_3_error: 0.2126\n",
      "Epoch 62/100\n",
      "Epoch 00061: val_loss did not improve\n",
      "35s - loss: 1.1382 - top_1_error: 0.3635 - top_3_error: 0.1335 - val_loss: 1.5996 - val_top_1_error: 0.4511 - val_top_3_error: 0.2014\n",
      "Epoch 63/100\n",
      "Epoch 00062: val_loss did not improve\n",
      "35s - loss: 1.2284 - top_1_error: 0.3931 - top_3_error: 0.1608 - val_loss: 1.4892 - val_top_1_error: 0.4514 - val_top_3_error: 0.2183\n",
      "Epoch 64/100\n",
      "Epoch 00063: val_loss did not improve\n",
      "35s - loss: 1.1947 - top_1_error: 0.3854 - top_3_error: 0.1350 - val_loss: 1.5604 - val_top_1_error: 0.4606 - val_top_3_error: 0.1966\n",
      "Epoch 65/100\n",
      "Epoch 00064: val_loss did not improve\n",
      "35s - loss: 1.2301 - top_1_error: 0.3885 - top_3_error: 0.1524 - val_loss: 1.5781 - val_top_1_error: 0.4823 - val_top_3_error: 0.2080\n",
      "Epoch 00064: early stopping\n"
     ]
    },
    {
     "data": {
      "text/plain": [
       "<keras.callbacks.History at 0x7fa611ec6dd8>"
      ]
     },
     "execution_count": 27,
     "metadata": {},
     "output_type": "execute_result"
    }
   ],
   "source": [
    "benchmark_all_dense_layers.fit_generator(generator_train(batch_size), \n",
    "                                         steps_per_epoch=n_train_images/(5*batch_size),\n",
    "                                         epochs=epochs, \n",
    "                                         callbacks = [checkpointer, stopper, \n",
    "                                                      get_history(history_all_dense_layers)], \n",
    "                                         validation_data=generator_val(batch_size), \n",
    "                                         validation_steps=n_val_images/(5*batch_size), \n",
    "                                         verbose=2)"
   ]
  },
  {
   "cell_type": "code",
   "execution_count": 28,
   "metadata": {},
   "outputs": [
    {
     "name": "stdout",
     "output_type": "stream",
     "text": [
      "Found 4319 images belonging to 22 classes.\n",
      "Validation loss: 1.564269\n",
      "Validation top-1-error rate: 46.45%\n",
      "Validation top-3-error rate: 20.91%\n"
     ]
    }
   ],
   "source": [
    "benchmark_all_dense_layers.load_weights('./saved_models/benchmark/weights_vgg16_dense.hdf5')\n",
    "performance_benchmark_all_dense_layers = benchmark_all_dense_layers.evaluate_generator(\n",
    "    generator_val(batch_size, shuffle=False), steps = n_val_images/batch_size)\n",
    "print('Validation loss: {:2f}'.format(performance_benchmark_all_dense_layers[0]))\n",
    "print('Validation top-1-error rate: {:.2f}%'.format(100*performance_benchmark_all_dense_layers[1]))\n",
    "print('Validation top-3-error rate: {:.2f}%'.format(100*performance_benchmark_all_dense_layers[2]))"
   ]
  },
  {
   "cell_type": "markdown",
   "metadata": {},
   "source": [
    "Save results"
   ]
  },
  {
   "cell_type": "code",
   "execution_count": 29,
   "metadata": {},
   "outputs": [],
   "source": [
    "pd.DataFrame(history_all_dense_layers).to_csv('./results/benchmark/history_all_dense_layers.csv')"
   ]
  },
  {
   "cell_type": "markdown",
   "metadata": {},
   "source": [
    "# Benchmark 3: VGG16 with replaced dense layers and trained convolutional block\n",
    "Benchmark 2 is doing better on the validation data. Let's try to be even more flexible by allowing the last convolutional block to train as well. Here we are going to use the weights from Benchmark 2 to initialize. We just use the same model and make some more layers trainable. "
   ]
  },
  {
   "cell_type": "code",
   "execution_count": 30,
   "metadata": {},
   "outputs": [],
   "source": [
    "benchmark_dense_and_conv = benchmark_all_dense_layers"
   ]
  },
  {
   "cell_type": "code",
   "execution_count": 31,
   "metadata": {},
   "outputs": [],
   "source": [
    "for layer in benchmark_dense_and_conv.layers[15:]:\n",
    "    layer.trainable = True"
   ]
  },
  {
   "cell_type": "code",
   "execution_count": 32,
   "metadata": {},
   "outputs": [
    {
     "name": "stdout",
     "output_type": "stream",
     "text": [
      "Which layers are trainable?\n",
      "input_1: False\n",
      "block1_conv1: False\n",
      "block1_conv2: False\n",
      "block1_pool: False\n",
      "block2_conv1: False\n",
      "block2_conv2: False\n",
      "block2_pool: False\n",
      "block3_conv1: False\n",
      "block3_conv2: False\n",
      "block3_conv3: False\n",
      "block3_pool: False\n",
      "block4_conv1: False\n",
      "block4_conv2: False\n",
      "block4_conv3: False\n",
      "block4_pool: False\n",
      "block5_conv1: True\n",
      "block5_conv2: True\n",
      "block5_conv3: True\n",
      "block5_pool: True\n",
      "global_average_pooling2d_1: True\n",
      "fc1: True\n",
      "dropout_1: True\n",
      "fc2: True\n",
      "dropout_2: True\n",
      "prediction: True\n"
     ]
    }
   ],
   "source": [
    "print('Which layers are trainable?')\n",
    "for layer in benchmark_dense_and_conv.layers:\n",
    "    print('{}: {}'.format(layer.name, layer.trainable))"
   ]
  },
  {
   "cell_type": "markdown",
   "metadata": {},
   "source": [
    "We use a slower learning rate here for fine-tuning"
   ]
  },
  {
   "cell_type": "code",
   "execution_count": 33,
   "metadata": {
    "collapsed": true
   },
   "outputs": [],
   "source": [
    "from keras.optimizers import SGD\n",
    "sgd = SGD(lr=10e-4, momentum=0.9, nesterov=True)"
   ]
  },
  {
   "cell_type": "code",
   "execution_count": 34,
   "metadata": {
    "collapsed": true
   },
   "outputs": [],
   "source": [
    "benchmark_dense_and_conv.compile(loss='categorical_crossentropy', optimizer=sgd,\n",
    "                                 metrics=[top_1_error, top_3_error])"
   ]
  },
  {
   "cell_type": "code",
   "execution_count": 35,
   "metadata": {
    "collapsed": true
   },
   "outputs": [],
   "source": [
    "checkpointer = ModelCheckpoint(filepath='./saved_models/benchmark/weights_vgg16_conv_and_dense.hdf5', \n",
    "                               verbose=1, save_best_only=True)"
   ]
  },
  {
   "cell_type": "code",
   "execution_count": 36,
   "metadata": {
    "collapsed": true
   },
   "outputs": [],
   "source": [
    "history_dense_and_conv = list()"
   ]
  },
  {
   "cell_type": "code",
   "execution_count": 37,
   "metadata": {
    "collapsed": true
   },
   "outputs": [],
   "source": [
    "batch_size=20"
   ]
  },
  {
   "cell_type": "code",
   "execution_count": 38,
   "metadata": {},
   "outputs": [
    {
     "name": "stdout",
     "output_type": "stream",
     "text": [
      "Found 12990 images belonging to 22 classes.\n",
      "Found 4319 images belonging to 22 classes.\n",
      "Epoch 1/100\n",
      "43s - loss: 1.8375 - top_1_error: 0.5635 - top_3_error: 0.2719 - val_loss: 1.8243 - val_top_1_error: 0.5580 - val_top_3_error: 0.2920\n",
      "Epoch 2/100\n",
      "41s - loss: 1.7299 - top_1_error: 0.5250 - top_3_error: 0.2612 - val_loss: 1.8512 - val_top_1_error: 0.5443 - val_top_3_error: 0.2625\n",
      "Epoch 3/100\n",
      "42s - loss: 1.6476 - top_1_error: 0.5158 - top_3_error: 0.2392 - val_loss: 1.6658 - val_top_1_error: 0.5011 - val_top_3_error: 0.2284\n",
      "Epoch 4/100\n",
      "42s - loss: 1.5973 - top_1_error: 0.5031 - top_3_error: 0.2250 - val_loss: 1.6103 - val_top_1_error: 0.4909 - val_top_3_error: 0.1977\n",
      "Epoch 5/100\n",
      "42s - loss: 1.5871 - top_1_error: 0.4931 - top_3_error: 0.2212 - val_loss: 1.6102 - val_top_1_error: 0.4773 - val_top_3_error: 0.2193\n",
      "Epoch 6/100\n",
      "41s - loss: 1.3977 - top_1_error: 0.4365 - top_3_error: 0.1762 - val_loss: 1.6369 - val_top_1_error: 0.4943 - val_top_3_error: 0.2273\n",
      "Epoch 7/100\n",
      "42s - loss: 1.3474 - top_1_error: 0.4208 - top_3_error: 0.1650 - val_loss: 1.5250 - val_top_1_error: 0.4784 - val_top_3_error: 0.1966\n",
      "Epoch 8/100\n",
      "42s - loss: 1.3230 - top_1_error: 0.4169 - top_3_error: 0.1677 - val_loss: 1.5242 - val_top_1_error: 0.4500 - val_top_3_error: 0.1920\n",
      "Epoch 9/100\n",
      "42s - loss: 1.3400 - top_1_error: 0.4162 - top_3_error: 0.1662 - val_loss: 1.4974 - val_top_1_error: 0.4341 - val_top_3_error: 0.2011\n",
      "Epoch 10/100\n",
      "41s - loss: 1.2985 - top_1_error: 0.4035 - top_3_error: 0.1631 - val_loss: 1.3967 - val_top_1_error: 0.4182 - val_top_3_error: 0.1807\n",
      "Epoch 11/100\n",
      "41s - loss: 1.1010 - top_1_error: 0.3462 - top_3_error: 0.1292 - val_loss: 1.4813 - val_top_1_error: 0.4545 - val_top_3_error: 0.1932\n",
      "Epoch 12/100\n",
      "41s - loss: 1.2195 - top_1_error: 0.3788 - top_3_error: 0.1512 - val_loss: 1.5130 - val_top_1_error: 0.4330 - val_top_3_error: 0.1909\n",
      "Epoch 13/100\n",
      "41s - loss: 1.1572 - top_1_error: 0.3650 - top_3_error: 0.1388 - val_loss: 1.5342 - val_top_1_error: 0.4511 - val_top_3_error: 0.2182\n",
      "Epoch 14/100\n",
      "41s - loss: 1.1954 - top_1_error: 0.3738 - top_3_error: 0.1392 - val_loss: 1.4212 - val_top_1_error: 0.4205 - val_top_3_error: 0.1682\n",
      "Epoch 15/100\n",
      "41s - loss: 1.1363 - top_1_error: 0.3615 - top_3_error: 0.1358 - val_loss: 1.3819 - val_top_1_error: 0.4239 - val_top_3_error: 0.1773\n",
      "Epoch 16/100\n",
      "41s - loss: 0.9541 - top_1_error: 0.3092 - top_3_error: 0.0969 - val_loss: 1.5414 - val_top_1_error: 0.4420 - val_top_3_error: 0.1761\n",
      "Epoch 17/100\n",
      "41s - loss: 1.0449 - top_1_error: 0.3412 - top_3_error: 0.1127 - val_loss: 1.4792 - val_top_1_error: 0.4420 - val_top_3_error: 0.1898\n",
      "Epoch 18/100\n",
      "41s - loss: 1.0415 - top_1_error: 0.3250 - top_3_error: 0.1165 - val_loss: 1.3957 - val_top_1_error: 0.4261 - val_top_3_error: 0.1955\n",
      "Epoch 19/100\n",
      "41s - loss: 1.0290 - top_1_error: 0.3346 - top_3_error: 0.1154 - val_loss: 1.3955 - val_top_1_error: 0.4034 - val_top_3_error: 0.1591\n",
      "Epoch 20/100\n",
      "41s - loss: 1.0428 - top_1_error: 0.3354 - top_3_error: 0.1115 - val_loss: 1.4653 - val_top_1_error: 0.4216 - val_top_3_error: 0.1795\n",
      "Epoch 21/100\n",
      "41s - loss: 0.8654 - top_1_error: 0.2796 - top_3_error: 0.0862 - val_loss: 1.4796 - val_top_1_error: 0.4398 - val_top_3_error: 0.1909\n",
      "Epoch 22/100\n",
      "41s - loss: 0.9652 - top_1_error: 0.3146 - top_3_error: 0.1019 - val_loss: 1.4913 - val_top_1_error: 0.4261 - val_top_3_error: 0.1795\n",
      "Epoch 23/100\n",
      "42s - loss: 0.9456 - top_1_error: 0.2912 - top_3_error: 0.1042 - val_loss: 1.3370 - val_top_1_error: 0.4182 - val_top_3_error: 0.1648\n",
      "Epoch 24/100\n",
      "41s - loss: 0.9418 - top_1_error: 0.3123 - top_3_error: 0.0958 - val_loss: 1.4272 - val_top_1_error: 0.4045 - val_top_3_error: 0.1693\n",
      "Epoch 25/100\n",
      "41s - loss: 0.8903 - top_1_error: 0.3015 - top_3_error: 0.0865 - val_loss: 1.4265 - val_top_1_error: 0.4159 - val_top_3_error: 0.1636\n",
      "Epoch 26/100\n",
      "41s - loss: 0.7917 - top_1_error: 0.2531 - top_3_error: 0.0773 - val_loss: 1.5623 - val_top_1_error: 0.4568 - val_top_3_error: 0.2068\n",
      "Epoch 27/100\n",
      "41s - loss: 0.8585 - top_1_error: 0.2838 - top_3_error: 0.0835 - val_loss: 1.4806 - val_top_1_error: 0.4284 - val_top_3_error: 0.1807\n",
      "Epoch 28/100\n",
      "41s - loss: 0.8585 - top_1_error: 0.2746 - top_3_error: 0.0877 - val_loss: 1.4310 - val_top_1_error: 0.4023 - val_top_3_error: 0.1636\n",
      "Epoch 29/100\n",
      "41s - loss: 0.8733 - top_1_error: 0.2819 - top_3_error: 0.0862 - val_loss: 1.4224 - val_top_1_error: 0.3977 - val_top_3_error: 0.1670\n",
      "Epoch 30/100\n",
      "41s - loss: 0.8733 - top_1_error: 0.2950 - top_3_error: 0.0831 - val_loss: 1.5282 - val_top_1_error: 0.4216 - val_top_3_error: 0.1795\n",
      "Epoch 31/100\n",
      "41s - loss: 0.6788 - top_1_error: 0.2296 - top_3_error: 0.0585 - val_loss: 1.6249 - val_top_1_error: 0.4318 - val_top_3_error: 0.1784\n",
      "Epoch 32/100\n",
      "41s - loss: 0.7455 - top_1_error: 0.2465 - top_3_error: 0.0700 - val_loss: 1.5232 - val_top_1_error: 0.4068 - val_top_3_error: 0.1932\n",
      "Epoch 33/100\n",
      "41s - loss: 0.7672 - top_1_error: 0.2465 - top_3_error: 0.0696 - val_loss: 1.5803 - val_top_1_error: 0.4432 - val_top_3_error: 0.2068\n",
      "Epoch 34/100\n",
      "41s - loss: 0.8051 - top_1_error: 0.2700 - top_3_error: 0.0735 - val_loss: 1.4296 - val_top_1_error: 0.4125 - val_top_3_error: 0.1864\n",
      "Epoch 35/100\n",
      "41s - loss: 0.7806 - top_1_error: 0.2665 - top_3_error: 0.0719 - val_loss: 1.3783 - val_top_1_error: 0.3909 - val_top_3_error: 0.1852\n",
      "Epoch 36/100\n",
      "41s - loss: 0.6555 - top_1_error: 0.2258 - top_3_error: 0.0535 - val_loss: 1.5561 - val_top_1_error: 0.4170 - val_top_3_error: 0.1830\n",
      "Epoch 37/100\n",
      "41s - loss: 0.6564 - top_1_error: 0.2212 - top_3_error: 0.0481 - val_loss: 1.5146 - val_top_1_error: 0.4000 - val_top_3_error: 0.1909\n",
      "Epoch 38/100\n",
      "41s - loss: 0.7122 - top_1_error: 0.2419 - top_3_error: 0.0612 - val_loss: 1.5003 - val_top_1_error: 0.3852 - val_top_3_error: 0.1761\n",
      "Epoch 39/100\n",
      "41s - loss: 0.7284 - top_1_error: 0.2423 - top_3_error: 0.0619 - val_loss: 1.6195 - val_top_1_error: 0.4341 - val_top_3_error: 0.1784\n",
      "Epoch 40/100\n",
      "41s - loss: 0.6989 - top_1_error: 0.2396 - top_3_error: 0.0596 - val_loss: 1.3338 - val_top_1_error: 0.3977 - val_top_3_error: 0.1670\n",
      "Epoch 41/100\n",
      "41s - loss: 0.6086 - top_1_error: 0.2108 - top_3_error: 0.0512 - val_loss: 1.4737 - val_top_1_error: 0.4307 - val_top_3_error: 0.1545\n",
      "Epoch 42/100\n",
      "41s - loss: 0.6247 - top_1_error: 0.2081 - top_3_error: 0.0527 - val_loss: 1.6342 - val_top_1_error: 0.4625 - val_top_3_error: 0.2193\n",
      "Epoch 43/100\n",
      "41s - loss: 0.6121 - top_1_error: 0.2077 - top_3_error: 0.0492 - val_loss: 1.5992 - val_top_1_error: 0.4307 - val_top_3_error: 0.1761\n",
      "Epoch 44/100\n",
      "41s - loss: 0.6325 - top_1_error: 0.2092 - top_3_error: 0.0469 - val_loss: 1.3453 - val_top_1_error: 0.3841 - val_top_3_error: 0.1557\n",
      "Epoch 45/100\n",
      "41s - loss: 0.7066 - top_1_error: 0.2392 - top_3_error: 0.0688 - val_loss: 1.4599 - val_top_1_error: 0.4068 - val_top_3_error: 0.1705\n",
      "Epoch 46/100\n",
      "41s - loss: 0.5747 - top_1_error: 0.1992 - top_3_error: 0.0415 - val_loss: 1.5965 - val_top_1_error: 0.4125 - val_top_3_error: 0.1693\n",
      "Epoch 47/100\n",
      "41s - loss: 0.6094 - top_1_error: 0.1946 - top_3_error: 0.0442 - val_loss: 1.4749 - val_top_1_error: 0.4023 - val_top_3_error: 0.1886\n",
      "Epoch 48/100\n",
      "41s - loss: 0.5618 - top_1_error: 0.1869 - top_3_error: 0.0465 - val_loss: 1.5886 - val_top_1_error: 0.3989 - val_top_3_error: 0.1727\n",
      "Epoch 49/100\n",
      "41s - loss: 0.6058 - top_1_error: 0.2108 - top_3_error: 0.0462 - val_loss: 1.4979 - val_top_1_error: 0.3943 - val_top_3_error: 0.1739\n",
      "Epoch 50/100\n",
      "41s - loss: 0.6029 - top_1_error: 0.2019 - top_3_error: 0.0465 - val_loss: 1.6101 - val_top_1_error: 0.4318 - val_top_3_error: 0.2057\n",
      "Epoch 51/100\n",
      "41s - loss: 0.5106 - top_1_error: 0.1681 - top_3_error: 0.0392 - val_loss: 1.5770 - val_top_1_error: 0.4034 - val_top_3_error: 0.1886\n",
      "Epoch 52/100\n",
      "41s - loss: 0.5910 - top_1_error: 0.1962 - top_3_error: 0.0442 - val_loss: 1.6144 - val_top_1_error: 0.4170 - val_top_3_error: 0.1784\n",
      "Epoch 53/100\n",
      "41s - loss: 0.5476 - top_1_error: 0.1812 - top_3_error: 0.0404 - val_loss: 1.5862 - val_top_1_error: 0.3966 - val_top_3_error: 0.1727\n",
      "Epoch 54/100\n",
      "41s - loss: 0.5503 - top_1_error: 0.1838 - top_3_error: 0.0400 - val_loss: 1.5056 - val_top_1_error: 0.3955 - val_top_3_error: 0.1580\n",
      "Epoch 55/100\n",
      "41s - loss: 0.5744 - top_1_error: 0.1877 - top_3_error: 0.0419 - val_loss: 1.6226 - val_top_1_error: 0.4216 - val_top_3_error: 0.1977\n",
      "Epoch 56/100\n",
      "41s - loss: 0.5262 - top_1_error: 0.1781 - top_3_error: 0.0362 - val_loss: 1.7215 - val_top_1_error: 0.4432 - val_top_3_error: 0.1977\n",
      "Epoch 57/100\n",
      "41s - loss: 0.5126 - top_1_error: 0.1658 - top_3_error: 0.0362 - val_loss: 1.6515 - val_top_1_error: 0.4250 - val_top_3_error: 0.1898\n",
      "Epoch 58/100\n",
      "41s - loss: 0.5460 - top_1_error: 0.1858 - top_3_error: 0.0373 - val_loss: 1.5295 - val_top_1_error: 0.4227 - val_top_3_error: 0.1670\n",
      "Epoch 59/100\n",
      "41s - loss: 0.5358 - top_1_error: 0.1919 - top_3_error: 0.0412 - val_loss: 1.6790 - val_top_1_error: 0.4352 - val_top_3_error: 0.1773\n",
      "Epoch 60/100\n",
      "41s - loss: 0.5211 - top_1_error: 0.1719 - top_3_error: 0.0388 - val_loss: 1.5098 - val_top_1_error: 0.4182 - val_top_3_error: 0.1955\n",
      "Epoch 61/100\n",
      "41s - loss: 0.4350 - top_1_error: 0.1546 - top_3_error: 0.0265 - val_loss: 1.6123 - val_top_1_error: 0.4102 - val_top_3_error: 0.1727\n",
      "Epoch 00060: early stopping\n"
     ]
    },
    {
     "data": {
      "text/plain": [
       "<keras.callbacks.History at 0x7fa613adedd8>"
      ]
     },
     "execution_count": 38,
     "metadata": {},
     "output_type": "execute_result"
    }
   ],
   "source": [
    "benchmark_dense_and_conv.fit_generator(generator_train(batch_size), \n",
    "                                       steps_per_epoch=n_train_images/(5*batch_size),\n",
    "                                       epochs=epochs, \n",
    "                                       callbacks = [checkpointer, stopper, \n",
    "                                                    get_history(history_dense_and_conv)], \n",
    "                                       validation_data=generator_val(batch_size), \n",
    "                                       validation_steps=n_val_images/(5*batch_size), \n",
    "                                       verbose=2)"
   ]
  },
  {
   "cell_type": "code",
   "execution_count": 39,
   "metadata": {},
   "outputs": [
    {
     "name": "stdout",
     "output_type": "stream",
     "text": [
      "Found 4319 images belonging to 22 classes.\n",
      "Validation loss: 1.483656\n",
      "Validation top-1-error rate: 42.12%\n",
      "Validation top-3-error rate: 18.41%\n"
     ]
    }
   ],
   "source": [
    "benchmark_dense_and_conv.load_weights('./saved_models/benchmark/weights_vgg16_conv_and_dense.hdf5')\n",
    "performance_benchmark_conv_and_dense_layers = benchmark_dense_and_conv.evaluate_generator(\n",
    "    generator_val(batch_size, shuffle=False), steps = n_val_images/batch_size)\n",
    "print('Validation loss: {:2f}'.format(performance_benchmark_conv_and_dense_layers[0]))\n",
    "print('Validation top-1-error rate: {:.2f}%'.format(100*performance_benchmark_conv_and_dense_layers[1]))\n",
    "print('Validation top-3-error rate: {:.2f}%'.format(100*performance_benchmark_conv_and_dense_layers[2]))"
   ]
  },
  {
   "cell_type": "markdown",
   "metadata": {},
   "source": [
    "Doing better than the previous models :)."
   ]
  },
  {
   "cell_type": "markdown",
   "metadata": {},
   "source": [
    "Save results"
   ]
  },
  {
   "cell_type": "code",
   "execution_count": 40,
   "metadata": {
    "collapsed": true
   },
   "outputs": [],
   "source": [
    "pd.DataFrame(history_dense_and_conv).to_csv('./results/benchmark/history_dense_and_conv.csv')"
   ]
  },
  {
   "cell_type": "code",
   "execution_count": 1,
   "metadata": {},
   "outputs": [
    {
     "name": "stdout",
     "output_type": "stream",
     "text": [
      "_________________________________________________________________\n",
      "Layer (type)                 Output Shape              Param #   \n",
      "=================================================================\n",
      "input_1 (InputLayer)         (None, 224, 224, 3)       0         \n",
      "_________________________________________________________________\n",
      "block1_conv1 (Conv2D)        (None, 224, 224, 64)      1792      \n",
      "_________________________________________________________________\n",
      "block1_conv2 (Conv2D)        (None, 224, 224, 64)      36928     \n",
      "_________________________________________________________________\n",
      "block1_pool (MaxPooling2D)   (None, 112, 112, 64)      0         \n",
      "_________________________________________________________________\n",
      "block2_conv1 (Conv2D)        (None, 112, 112, 128)     73856     \n",
      "_________________________________________________________________\n",
      "block2_conv2 (Conv2D)        (None, 112, 112, 128)     147584    \n",
      "_________________________________________________________________\n",
      "block2_pool (MaxPooling2D)   (None, 56, 56, 128)       0         \n",
      "_________________________________________________________________\n",
      "block3_conv1 (Conv2D)        (None, 56, 56, 256)       295168    \n",
      "_________________________________________________________________\n",
      "block3_conv2 (Conv2D)        (None, 56, 56, 256)       590080    \n",
      "_________________________________________________________________\n",
      "block3_conv3 (Conv2D)        (None, 56, 56, 256)       590080    \n",
      "_________________________________________________________________\n",
      "block3_pool (MaxPooling2D)   (None, 28, 28, 256)       0         \n",
      "_________________________________________________________________\n",
      "block4_conv1 (Conv2D)        (None, 28, 28, 512)       1180160   \n",
      "_________________________________________________________________\n",
      "block4_conv2 (Conv2D)        (None, 28, 28, 512)       2359808   \n",
      "_________________________________________________________________\n",
      "block4_conv3 (Conv2D)        (None, 28, 28, 512)       2359808   \n",
      "_________________________________________________________________\n",
      "block4_pool (MaxPooling2D)   (None, 14, 14, 512)       0         \n",
      "_________________________________________________________________\n",
      "block5_conv1 (Conv2D)        (None, 14, 14, 512)       2359808   \n",
      "_________________________________________________________________\n",
      "block5_conv2 (Conv2D)        (None, 14, 14, 512)       2359808   \n",
      "_________________________________________________________________\n",
      "block5_conv3 (Conv2D)        (None, 14, 14, 512)       2359808   \n",
      "_________________________________________________________________\n",
      "block5_pool (MaxPooling2D)   (None, 7, 7, 512)         0         \n",
      "_________________________________________________________________\n",
      "global_average_pooling2d_1 ( (None, 512)               0         \n",
      "_________________________________________________________________\n",
      "fc1 (Dense)                  (None, 2048)              1050624   \n",
      "_________________________________________________________________\n",
      "dropout_1 (Dropout)          (None, 2048)              0         \n",
      "_________________________________________________________________\n",
      "fc2 (Dense)                  (None, 2048)              4196352   \n",
      "_________________________________________________________________\n",
      "dropout_2 (Dropout)          (None, 2048)              0         \n",
      "_________________________________________________________________\n",
      "prediction (Dense)           (None, 22)                45078     \n",
      "=================================================================\n",
      "Total params: 20,006,742\n",
      "Trainable params: 12,371,478\n",
      "Non-trainable params: 7,635,264\n",
      "_________________________________________________________________\n"
     ]
    }
   ],
   "source": [
    "from keras.models import load_model\n",
    "load_model('./saved_models/benchmark/weights_vgg16_conv_and_dense.hdf5', compile=False).summary()"
   ]
  }
 ],
 "metadata": {
  "kernelspec": {
   "display_name": "Python 3",
   "language": "python",
   "name": "python3"
  },
  "language_info": {
   "codemirror_mode": {
    "name": "ipython",
    "version": 3
   },
   "file_extension": ".py",
   "mimetype": "text/x-python",
   "name": "python",
   "nbconvert_exporter": "python",
   "pygments_lexer": "ipython3",
   "version": "3.6.2"
  }
 },
 "nbformat": 4,
 "nbformat_minor": 2
}
