{
 "cells": [
  {
   "cell_type": "code",
   "execution_count": 1,
   "metadata": {},
   "outputs": [],
   "source": [
    "import pandas as pd\n",
    "import matplotlib.pyplot as plt"
   ]
  },
  {
   "cell_type": "code",
   "execution_count": 2,
   "metadata": {},
   "outputs": [],
   "source": [
    "#plt.style.use('ggplot')"
   ]
  },
  {
   "cell_type": "code",
   "execution_count": 3,
   "metadata": {},
   "outputs": [],
   "source": [
    "%matplotlib inline"
   ]
  },
  {
   "cell_type": "markdown",
   "metadata": {},
   "source": [
    "# F-RCNN Second stage"
   ]
  },
  {
   "cell_type": "code",
   "execution_count": 4,
   "metadata": {},
   "outputs": [
    {
     "data": {
      "image/png": "[encoded data removed]",
      "text/plain": [
       "<matplotlib.figure.Figure at 0x7f4926f43dd8>"
      ]
     },
     "metadata": {},
     "output_type": "display_data"
    }
   ],
   "source": [
    "second_stage_last = pd.read_csv('./results/f_rcnn/second_stage/history_last_layer.csv', index_col=[0])\n",
    "second_stage_last.set_index(second_stage_last.index + 1, inplace=True)\n",
    "second_stage_dense = pd.read_csv('./results/f_rcnn/second_stage/history_all_dense_layers.csv', index_col=[0])\n",
    "second_stage_dense.set_index(second_stage_dense.index + 1, inplace=True)\n",
    "second_stage_conv_and_dense = pd.read_csv('./results/f_rcnn/second_stage/history_dense_and_conv.csv', index_col=[0])\n",
    "second_stage_conv_and_dense.set_index(second_stage_conv_and_dense.index + 1, inplace=True)\n",
    "second_stage_loss_cols = [colname for colname in second_stage_conv_and_dense.columns if 'loss' in colname]\n",
    "second_stage_top_1_error_cols = [colname for colname in second_stage_conv_and_dense.columns if '1_error' in colname]\n",
    "second_stage_top_3_error_cols = [colname for colname in second_stage_conv_and_dense.columns if '3_error' in colname]\n",
    "fig_second_stage, ax_second_stage = plt.subplots(nrows=1, ncols=3, figsize=(6.17,2.7))\n",
    "\n",
    "pd.concat([second_stage_last[second_stage_loss_cols], \n",
    "           second_stage_dense[second_stage_loss_cols], \n",
    "           second_stage_conv_and_dense[second_stage_loss_cols]], axis=1).plot(ax=ax_second_stage[0],\n",
    "                                                                        color= sorted(['b', 'g', 'r']*2), \n",
    "                                                                        style= ['-', ':'] * 3,\n",
    "                                                                        legend=False)\n",
    "\n",
    "pd.concat([second_stage_last[second_stage_top_1_error_cols], \n",
    "           second_stage_dense[second_stage_top_1_error_cols], \n",
    "           second_stage_conv_and_dense[second_stage_top_1_error_cols]], axis=1).plot(ax=ax_second_stage[1],\n",
    "                                                                               color= sorted(['b', 'g', 'r']*2), \n",
    "                                                                               style= ['-', ':'] * 3, \n",
    "                                                                               legend=False)\n",
    "\n",
    "pd.concat([second_stage_last[second_stage_top_3_error_cols], \n",
    "           second_stage_dense[second_stage_top_3_error_cols], \n",
    "           second_stage_conv_and_dense[second_stage_top_3_error_cols]], axis=1).plot(ax=ax_second_stage[2],\n",
    "                                                                               color= sorted(['b', 'g', 'r']*2), \n",
    "                                                                               style= ['-', ':'] * 3, \n",
    "                                                                               legend=False)\n",
    "\n",
    "for ax in ax_second_stage:\n",
    "    ax.set_xlabel('Epoch')\n",
    "    \n",
    "ax_second_stage[0].set_title('Loss')\n",
    "ax_second_stage[1].set_title('Top-1-Error')\n",
    "ax_second_stage[2].set_title('Top-3-Error')\n",
    "\n",
    "#ax_second_stage[0].set_ylim(1,4)\n",
    "#ax_second_stage[1].set_ylim(0.25,1)\n",
    "#ax_second_stage[2].set_ylim(0,0.75)\n",
    "\n",
    "lines = ax_second_stage[0].legend().legendHandles\n",
    "ax_second_stage[0].legend_.remove()\n",
    "\n",
    "lgd = fig_second_stage.legend(lines, \n",
    "                     ('Specification 1 (train)', 'Specification 1 (val)', 'Specification 2 (train)', 'Specification 2 (val)', 'Specification 3 (train)', 'Specification 3 (val)'), \n",
    "                     bbox_to_anchor=(0.02, 0.09, 0.97, .102), loc=1, mode=\"expand\", borderaxespad=0., ncol=3)\n",
    "\n",
    "fig_second_stage.tight_layout()\n",
    "fig_second_stage.subplots_adjust(bottom=0.35)\n",
    "fig_second_stage.savefig('./results/f_rcnn/second_stage/plots/loss_error_plot.png', bbox_extra_artists=(lgd,), bbox_inches='tight', dpi=300)"
   ]
  },
  {
   "cell_type": "code",
   "execution_count": 15,
   "metadata": {},
   "outputs": [
    {
     "data": {
      "text/plain": [
       "loss               1.381092\n",
       "top_1_error        0.400152\n",
       "top_3_error        0.172637\n",
       "val_loss           1.909832\n",
       "val_top_1_error    0.469907\n",
       "val_top_3_error    0.216435\n",
       "Name: 6, dtype: float64"
      ]
     },
     "metadata": {},
     "output_type": "display_data"
    },
    {
     "name": "stdout",
     "output_type": "stream",
     "text": [
      "Training stopped after 27 epochs\n"
     ]
    }
   ],
   "source": [
    "display(second_stage_last.loc[second_stage_last['val_loss'].idxmin(),:])\n",
    "print('Training stopped after {} epochs'.format(second_stage_last.shape[0]))"
   ]
  },
  {
   "cell_type": "code",
   "execution_count": 16,
   "metadata": {},
   "outputs": [
    {
     "data": {
      "text/plain": [
       "loss               1.184218\n",
       "top_1_error        0.378462\n",
       "top_3_error        0.134615\n",
       "val_loss           1.375825\n",
       "val_top_1_error    0.417143\n",
       "val_top_3_error    0.180571\n",
       "Name: 61, dtype: float64"
      ]
     },
     "metadata": {},
     "output_type": "display_data"
    },
    {
     "name": "stdout",
     "output_type": "stream",
     "text": [
      "Training stopped after 82 epochs\n"
     ]
    }
   ],
   "source": [
    "display(second_stage_dense.loc[second_stage_dense['val_loss'].idxmin(),:])\n",
    "print('Training stopped after {} epochs'.format(second_stage_dense.shape[0]))"
   ]
  },
  {
   "cell_type": "code",
   "execution_count": 17,
   "metadata": {},
   "outputs": [
    {
     "data": {
      "text/plain": [
       "loss               1.044933\n",
       "top_1_error        0.344615\n",
       "top_3_error        0.115385\n",
       "val_loss           1.314995\n",
       "val_top_1_error    0.376136\n",
       "val_top_3_error    0.146591\n",
       "Name: 19, dtype: float64"
      ]
     },
     "metadata": {},
     "output_type": "display_data"
    },
    {
     "name": "stdout",
     "output_type": "stream",
     "text": [
      "Training stopped after 40 epochs\n"
     ]
    }
   ],
   "source": [
    "display(second_stage_conv_and_dense.loc[second_stage_conv_and_dense['val_loss'].idxmin(),:])\n",
    "print('Training stopped after {} epochs'.format(second_stage_conv_and_dense.shape[0]))"
   ]
  }
 ],
 "metadata": {
  "kernelspec": {
   "display_name": "Python 3",
   "language": "python",
   "name": "python3"
  },
  "language_info": {
   "codemirror_mode": {
    "name": "ipython",
    "version": 3
   },
   "file_extension": ".py",
   "mimetype": "text/x-python",
   "name": "python",
   "nbconvert_exporter": "python",
   "pygments_lexer": "ipython3",
   "version": "3.6.2"
  }
 },
 "nbformat": 4,
 "nbformat_minor": 2
}
