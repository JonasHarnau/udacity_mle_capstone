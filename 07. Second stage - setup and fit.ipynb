{
 "cells": [
  {
   "cell_type": "markdown",
   "metadata": {},
   "source": [
    "We replicate exactly the benchmark models to allow for the best direct comparison"
   ]
  },
  {
   "cell_type": "code",
   "execution_count": 1,
   "metadata": {},
   "outputs": [
    {
     "name": "stderr",
     "output_type": "stream",
     "text": [
      "Using TensorFlow backend.\n"
     ]
    }
   ],
   "source": [
    "from keras.applications.vgg16 import VGG16, preprocess_input\n",
    "from keras.preprocessing.image import ImageDataGenerator\n",
    "import numpy as np"
   ]
  },
  {
   "cell_type": "code",
   "execution_count": 2,
   "metadata": {},
   "outputs": [],
   "source": [
    "base_vgg16 = VGG16(weights='imagenet')"
   ]
  },
  {
   "cell_type": "markdown",
   "metadata": {},
   "source": [
    "# Second Stage 1: VGG16 with replaced last layer"
   ]
  },
  {
   "cell_type": "code",
   "execution_count": 3,
   "metadata": {
    "collapsed": true
   },
   "outputs": [],
   "source": [
    "from keras.models import Model\n",
    "from keras.layers import Dense"
   ]
  },
  {
   "cell_type": "markdown",
   "metadata": {},
   "source": [
    "Replace the layer"
   ]
  },
  {
   "cell_type": "code",
   "execution_count": 4,
   "metadata": {
    "collapsed": true
   },
   "outputs": [],
   "source": [
    "final_layer = Dense(22, activation='softmax')(base_vgg16.get_layer('fc2').output)\n",
    "second_stage_last_layer = Model(base_vgg16.input, final_layer)"
   ]
  },
  {
   "cell_type": "code",
   "execution_count": 5,
   "metadata": {},
   "outputs": [
    {
     "name": "stdout",
     "output_type": "stream",
     "text": [
      "_________________________________________________________________\n",
      "Layer (type)                 Output Shape              Param #   \n",
      "=================================================================\n",
      "input_1 (InputLayer)         (None, 224, 224, 3)       0         \n",
      "_________________________________________________________________\n",
      "block1_conv1 (Conv2D)        (None, 224, 224, 64)      1792      \n",
      "_________________________________________________________________\n",
      "block1_conv2 (Conv2D)        (None, 224, 224, 64)      36928     \n",
      "_________________________________________________________________\n",
      "block1_pool (MaxPooling2D)   (None, 112, 112, 64)      0         \n",
      "_________________________________________________________________\n",
      "block2_conv1 (Conv2D)        (None, 112, 112, 128)     73856     \n",
      "_________________________________________________________________\n",
      "block2_conv2 (Conv2D)        (None, 112, 112, 128)     147584    \n",
      "_________________________________________________________________\n",
      "block2_pool (MaxPooling2D)   (None, 56, 56, 128)       0         \n",
      "_________________________________________________________________\n",
      "block3_conv1 (Conv2D)        (None, 56, 56, 256)       295168    \n",
      "_________________________________________________________________\n",
      "block3_conv2 (Conv2D)        (None, 56, 56, 256)       590080    \n",
      "_________________________________________________________________\n",
      "block3_conv3 (Conv2D)        (None, 56, 56, 256)       590080    \n",
      "_________________________________________________________________\n",
      "block3_pool (MaxPooling2D)   (None, 28, 28, 256)       0         \n",
      "_________________________________________________________________\n",
      "block4_conv1 (Conv2D)        (None, 28, 28, 512)       1180160   \n",
      "_________________________________________________________________\n",
      "block4_conv2 (Conv2D)        (None, 28, 28, 512)       2359808   \n",
      "_________________________________________________________________\n",
      "block4_conv3 (Conv2D)        (None, 28, 28, 512)       2359808   \n",
      "_________________________________________________________________\n",
      "block4_pool (MaxPooling2D)   (None, 14, 14, 512)       0         \n",
      "_________________________________________________________________\n",
      "block5_conv1 (Conv2D)        (None, 14, 14, 512)       2359808   \n",
      "_________________________________________________________________\n",
      "block5_conv2 (Conv2D)        (None, 14, 14, 512)       2359808   \n",
      "_________________________________________________________________\n",
      "block5_conv3 (Conv2D)        (None, 14, 14, 512)       2359808   \n",
      "_________________________________________________________________\n",
      "block5_pool (MaxPooling2D)   (None, 7, 7, 512)         0         \n",
      "_________________________________________________________________\n",
      "flatten (Flatten)            (None, 25088)             0         \n",
      "_________________________________________________________________\n",
      "fc1 (Dense)                  (None, 4096)              102764544 \n",
      "_________________________________________________________________\n",
      "fc2 (Dense)                  (None, 4096)              16781312  \n",
      "_________________________________________________________________\n",
      "dense_1 (Dense)              (None, 22)                90134     \n",
      "=================================================================\n",
      "Total params: 134,350,678\n",
      "Trainable params: 134,350,678\n",
      "Non-trainable params: 0\n",
      "_________________________________________________________________\n"
     ]
    }
   ],
   "source": [
    "second_stage_last_layer.summary()"
   ]
  },
  {
   "cell_type": "markdown",
   "metadata": {},
   "source": [
    "Make all other layers not trainable"
   ]
  },
  {
   "cell_type": "code",
   "execution_count": 6,
   "metadata": {
    "collapsed": true
   },
   "outputs": [],
   "source": [
    "for layer in second_stage_last_layer.layers[:-1]:\n",
    "    layer.trainable = False"
   ]
  },
  {
   "cell_type": "code",
   "execution_count": 7,
   "metadata": {
    "collapsed": true
   },
   "outputs": [],
   "source": [
    "from keras.metrics import top_k_categorical_accuracy\n",
    "def top_1_error(y_true, y_pred):\n",
    "    return 1-top_k_categorical_accuracy(y_true, y_pred, k=1)\n",
    "\n",
    "def top_3_error(y_true, y_pred):\n",
    "    return 1-top_k_categorical_accuracy(y_true, y_pred, k=3)"
   ]
  },
  {
   "cell_type": "code",
   "execution_count": 8,
   "metadata": {
    "collapsed": true
   },
   "outputs": [],
   "source": [
    "second_stage_last_layer.compile(loss='categorical_crossentropy', optimizer='adam',\n",
    "                                metrics=[top_1_error, top_3_error]) "
   ]
  },
  {
   "cell_type": "markdown",
   "metadata": {},
   "source": [
    "Data generators for preprocessed data"
   ]
  },
  {
   "cell_type": "code",
   "execution_count": 9,
   "metadata": {},
   "outputs": [],
   "source": [
    "def preprocess_img(img):\n",
    "    img = np.expand_dims(img, axis=0)\n",
    "    return preprocess_input(img)\n",
    "\n",
    "datagen_train = ImageDataGenerator(preprocessing_function=preprocess_img,\n",
    "                                   horizontal_flip=True)\n",
    "\n",
    "def generator_train(batch_size):\n",
    "    return datagen_train.flow_from_directory(\n",
    "        './data/f_rcnn_second_stage/train', target_size=(224, 224),\n",
    "        batch_size=batch_size, class_mode='categorical')\n",
    "\n",
    "datagen_val = ImageDataGenerator(preprocessing_function=preprocess_img)\n",
    "\n",
    "def generator_val(batch_size, shuffle=True):\n",
    "    return datagen_val.flow_from_directory(\n",
    "        './data/f_rcnn_second_stage/val', target_size=(224, 224),\n",
    "        batch_size=batch_size, class_mode='categorical', \n",
    "        shuffle=shuffle)"
   ]
  },
  {
   "cell_type": "code",
   "execution_count": 10,
   "metadata": {
    "collapsed": true
   },
   "outputs": [],
   "source": [
    "import pandas as pd\n",
    "image_level_statistics = pd.read_csv('./results/data_analysis/image_level_statistics.csv')\n",
    "n_train_images = (image_level_statistics['sample'] == 'train').sum()\n",
    "n_val_images = (image_level_statistics['sample'] == 'val').sum()"
   ]
  },
  {
   "cell_type": "markdown",
   "metadata": {},
   "source": [
    "Some callbacks. We save the model with the lowest validation loss, stop if there was no decrease in 20 epochs, and track the history of losses and errors."
   ]
  },
  {
   "cell_type": "code",
   "execution_count": 11,
   "metadata": {
    "collapsed": true
   },
   "outputs": [],
   "source": [
    "from keras.callbacks import ModelCheckpoint, EarlyStopping, LambdaCallback\n",
    "checkpointer = ModelCheckpoint(filepath='./saved_models/f_rcnn/second_stage/weights_vgg16_top_only.hdf5', \n",
    "                               verbose=1, save_best_only=True)\n",
    "stopper = EarlyStopping(monitor='val_loss', min_delta=0, patience=20, verbose=1, mode='auto')"
   ]
  },
  {
   "cell_type": "code",
   "execution_count": 12,
   "metadata": {
    "collapsed": true
   },
   "outputs": [],
   "source": [
    "history_last_layer = list()\n",
    "def get_history(history_dict):\n",
    "    historian = LambdaCallback(\n",
    "        on_epoch_end=lambda epoch, logs:  history_dict.append(\n",
    "            {'loss': logs['loss'], \n",
    "             'top_1_error': logs['top_1_error'],\n",
    "             'top_3_error': logs['top_3_error'], \n",
    "             'val_loss': logs['val_loss'],  \n",
    "             'val_top_1_error': logs['val_top_1_error'], \n",
    "             'val_top_3_error': logs['val_top_3_error']}\n",
    "        )\n",
    "    )\n",
    "    return historian"
   ]
  },
  {
   "cell_type": "code",
   "execution_count": 13,
   "metadata": {},
   "outputs": [],
   "source": [
    "epochs = 100"
   ]
  },
  {
   "cell_type": "code",
   "execution_count": 14,
   "metadata": {},
   "outputs": [],
   "source": [
    "batch_size = 32"
   ]
  },
  {
   "cell_type": "code",
   "execution_count": 15,
   "metadata": {},
   "outputs": [
    {
     "name": "stdout",
     "output_type": "stream",
     "text": [
      "Found 12990 images belonging to 22 classes.\n",
      "Found 4319 images belonging to 22 classes.\n",
      "Epoch 1/100\n",
      "Epoch 00000: val_loss improved from inf to 2.11749, saving model to ./saved_models/f_rcnn/second_stage/weights_vgg16_top_only.hdf5\n",
      "32s - loss: 2.6063 - top_1_error: 0.6646 - top_3_error: 0.3982 - val_loss: 2.1175 - val_top_1_error: 0.5706 - val_top_3_error: 0.2685\n",
      "Epoch 2/100\n",
      "Epoch 00001: val_loss improved from 2.11749 to 2.11080, saving model to ./saved_models/f_rcnn/second_stage/weights_vgg16_top_only.hdf5\n",
      "31s - loss: 2.0760 - top_1_error: 0.5499 - top_3_error: 0.2923 - val_loss: 2.1108 - val_top_1_error: 0.5081 - val_top_3_error: 0.2894\n",
      "Epoch 3/100\n",
      "Epoch 00002: val_loss improved from 2.11080 to 2.03129, saving model to ./saved_models/f_rcnn/second_stage/weights_vgg16_top_only.hdf5\n",
      "31s - loss: 2.0648 - top_1_error: 0.5343 - top_3_error: 0.2645 - val_loss: 2.0313 - val_top_1_error: 0.5093 - val_top_3_error: 0.2847\n",
      "Epoch 4/100\n",
      "Epoch 00003: val_loss improved from 2.03129 to 1.95914, saving model to ./saved_models/f_rcnn/second_stage/weights_vgg16_top_only.hdf5\n",
      "33s - loss: 2.1190 - top_1_error: 0.5347 - top_3_error: 0.2710 - val_loss: 1.9591 - val_top_1_error: 0.5133 - val_top_3_error: 0.2538\n",
      "Epoch 5/100\n",
      "Epoch 00004: val_loss did not improve\n",
      "32s - loss: 1.9512 - top_1_error: 0.5076 - top_3_error: 0.2513 - val_loss: 1.9972 - val_top_1_error: 0.5104 - val_top_3_error: 0.2384\n",
      "Epoch 6/100\n",
      "Epoch 00005: val_loss improved from 1.95914 to 1.90983, saving model to ./saved_models/f_rcnn/second_stage/weights_vgg16_top_only.hdf5\n",
      "31s - loss: 1.3811 - top_1_error: 0.4002 - top_3_error: 0.1726 - val_loss: 1.9098 - val_top_1_error: 0.4699 - val_top_3_error: 0.2164\n",
      "Epoch 7/100\n",
      "Epoch 00006: val_loss did not improve\n",
      "30s - loss: 1.4359 - top_1_error: 0.4234 - top_3_error: 0.1677 - val_loss: 1.9474 - val_top_1_error: 0.5127 - val_top_3_error: 0.2211\n",
      "Epoch 8/100\n",
      "Epoch 00007: val_loss did not improve\n",
      "31s - loss: 1.4929 - top_1_error: 0.4310 - top_3_error: 0.1681 - val_loss: 2.0168 - val_top_1_error: 0.5052 - val_top_3_error: 0.2341\n",
      "Epoch 9/100\n",
      "Epoch 00008: val_loss did not improve\n",
      "31s - loss: 1.6154 - top_1_error: 0.4554 - top_3_error: 0.1898 - val_loss: 2.1226 - val_top_1_error: 0.5197 - val_top_3_error: 0.2685\n",
      "Epoch 10/100\n",
      "Epoch 00009: val_loss did not improve\n",
      "31s - loss: 1.5947 - top_1_error: 0.4508 - top_3_error: 0.1815 - val_loss: 1.9479 - val_top_1_error: 0.5035 - val_top_3_error: 0.2118\n",
      "Epoch 11/100\n",
      "Epoch 00010: val_loss did not improve\n",
      "31s - loss: 1.1034 - top_1_error: 0.3399 - top_3_error: 0.1147 - val_loss: 1.9530 - val_top_1_error: 0.4803 - val_top_3_error: 0.2280\n",
      "Epoch 12/100\n",
      "Epoch 00011: val_loss did not improve\n",
      "31s - loss: 1.1820 - top_1_error: 0.3655 - top_3_error: 0.1261 - val_loss: 1.9650 - val_top_1_error: 0.4977 - val_top_3_error: 0.2280\n",
      "Epoch 13/100\n",
      "Epoch 00012: val_loss did not improve\n",
      "31s - loss: 1.2969 - top_1_error: 0.3796 - top_3_error: 0.1486 - val_loss: 1.9179 - val_top_1_error: 0.4653 - val_top_3_error: 0.2373\n",
      "Epoch 14/100\n",
      "Epoch 00013: val_loss did not improve\n",
      "31s - loss: 1.3014 - top_1_error: 0.3876 - top_3_error: 0.1383 - val_loss: 1.9402 - val_top_1_error: 0.4907 - val_top_3_error: 0.2199\n",
      "Epoch 15/100\n",
      "Epoch 00014: val_loss did not improve\n",
      "31s - loss: 1.2170 - top_1_error: 0.3570 - top_3_error: 0.1209 - val_loss: 2.1000 - val_top_1_error: 0.5098 - val_top_3_error: 0.2248\n",
      "Epoch 16/100\n",
      "Epoch 00015: val_loss did not improve\n",
      "31s - loss: 0.9264 - top_1_error: 0.2854 - top_3_error: 0.0850 - val_loss: 1.9403 - val_top_1_error: 0.4653 - val_top_3_error: 0.2350\n",
      "Epoch 17/100\n",
      "Epoch 00016: val_loss did not improve\n",
      "31s - loss: 1.0113 - top_1_error: 0.3163 - top_3_error: 0.0945 - val_loss: 2.0173 - val_top_1_error: 0.4919 - val_top_3_error: 0.2176\n",
      "Epoch 18/100\n",
      "Epoch 00017: val_loss did not improve\n",
      "31s - loss: 1.0301 - top_1_error: 0.3346 - top_3_error: 0.1006 - val_loss: 1.9206 - val_top_1_error: 0.4757 - val_top_3_error: 0.2176\n",
      "Epoch 19/100\n",
      "Epoch 00018: val_loss did not improve\n",
      "31s - loss: 1.1095 - top_1_error: 0.3323 - top_3_error: 0.1052 - val_loss: 1.9825 - val_top_1_error: 0.4867 - val_top_3_error: 0.2317\n",
      "Epoch 20/100\n",
      "Epoch 00019: val_loss did not improve\n",
      "31s - loss: 1.0524 - top_1_error: 0.3265 - top_3_error: 0.1057 - val_loss: 1.9521 - val_top_1_error: 0.4676 - val_top_3_error: 0.2153\n",
      "Epoch 21/100\n",
      "Epoch 00020: val_loss did not improve\n",
      "31s - loss: 0.8183 - top_1_error: 0.2599 - top_3_error: 0.0694 - val_loss: 2.0987 - val_top_1_error: 0.4988 - val_top_3_error: 0.2350\n",
      "Epoch 22/100\n",
      "Epoch 00021: val_loss did not improve\n",
      "31s - loss: 0.8584 - top_1_error: 0.2793 - top_3_error: 0.0732 - val_loss: 1.9543 - val_top_1_error: 0.4583 - val_top_3_error: 0.2002\n",
      "Epoch 23/100\n",
      "Epoch 00022: val_loss did not improve\n",
      "31s - loss: 0.9244 - top_1_error: 0.2995 - top_3_error: 0.0877 - val_loss: 2.2417 - val_top_1_error: 0.5046 - val_top_3_error: 0.2535\n",
      "Epoch 24/100\n",
      "Epoch 00023: val_loss did not improve\n",
      "31s - loss: 1.0143 - top_1_error: 0.3155 - top_3_error: 0.0934 - val_loss: 2.3641 - val_top_1_error: 0.5035 - val_top_3_error: 0.2523\n",
      "Epoch 25/100\n",
      "Epoch 00024: val_loss did not improve\n",
      "31s - loss: 0.9751 - top_1_error: 0.2998 - top_3_error: 0.0904 - val_loss: 2.1812 - val_top_1_error: 0.5197 - val_top_3_error: 0.2164\n",
      "Epoch 26/100\n",
      "Epoch 00025: val_loss did not improve\n",
      "31s - loss: 0.7209 - top_1_error: 0.2275 - top_3_error: 0.0537 - val_loss: 2.2422 - val_top_1_error: 0.5133 - val_top_3_error: 0.2445\n",
      "Epoch 27/100\n",
      "Epoch 00026: val_loss did not improve\n",
      "31s - loss: 0.8016 - top_1_error: 0.2641 - top_3_error: 0.0614 - val_loss: 2.1709 - val_top_1_error: 0.4919 - val_top_3_error: 0.2245\n",
      "Epoch 00026: early stopping\n"
     ]
    },
    {
     "data": {
      "text/plain": [
       "<keras.callbacks.History at 0x7f27b4377470>"
      ]
     },
     "execution_count": 15,
     "metadata": {},
     "output_type": "execute_result"
    }
   ],
   "source": [
    "second_stage_last_layer.fit_generator(generator_train(batch_size), \n",
    "                                   steps_per_epoch=n_train_images/(5*batch_size),\n",
    "                                   epochs=epochs, \n",
    "                                   callbacks = [checkpointer, stopper, \n",
    "                                                get_history(history_last_layer)], \n",
    "                                   validation_data=generator_val(batch_size), \n",
    "                                   validation_steps=n_val_images/(5*batch_size), \n",
    "                                   verbose=2)"
   ]
  },
  {
   "cell_type": "code",
   "execution_count": 16,
   "metadata": {},
   "outputs": [
    {
     "name": "stdout",
     "output_type": "stream",
     "text": [
      "Found 4319 images belonging to 22 classes.\n",
      "Validation loss: 1.860133\n",
      "Validation top-1-error rate: 47.67%\n",
      "Validation top-3-error rate: 22.18%\n"
     ]
    }
   ],
   "source": [
    "second_stage_last_layer.load_weights('./saved_models/f_rcnn/second_stage/weights_vgg16_top_only.hdf5')\n",
    "performance_second_stage_last_layer = second_stage_last_layer.evaluate_generator(\n",
    "    generator_val(batch_size, shuffle=False), steps = n_val_images/batch_size)\n",
    "print('Validation loss: {:2f}'.format(performance_second_stage_last_layer[0]))\n",
    "print('Validation top-1-error rate: {:.2f}%'.format(100*performance_second_stage_last_layer[1]))\n",
    "print('Validation top-3-error rate: {:.2f}%'.format(100*performance_second_stage_last_layer[2]))"
   ]
  },
  {
   "cell_type": "markdown",
   "metadata": {},
   "source": [
    "Save the results"
   ]
  },
  {
   "cell_type": "code",
   "execution_count": 17,
   "metadata": {},
   "outputs": [],
   "source": [
    "pd.DataFrame(history_last_layer).to_csv('./results/f_rcnn/second_stage/history_last_layer.csv')"
   ]
  },
  {
   "cell_type": "markdown",
   "metadata": {},
   "source": [
    "# Second Stage 2: VGG16 with replaced dense layers\n"
   ]
  },
  {
   "cell_type": "code",
   "execution_count": 18,
   "metadata": {
    "collapsed": true
   },
   "outputs": [],
   "source": [
    "from keras.layers import Dropout, GlobalAveragePooling2D"
   ]
  },
  {
   "cell_type": "code",
   "execution_count": 19,
   "metadata": {
    "collapsed": true
   },
   "outputs": [],
   "source": [
    "dense = GlobalAveragePooling2D()(base_vgg16.get_layer('block5_pool').output)\n",
    "dense = Dense(2048, activation='relu', name='fc1')(dense)\n",
    "dense = Dropout(0.3)(dense)\n",
    "dense = Dense(2048, activation='relu', name='fc2')(dense)\n",
    "dense = Dropout(0.3)(dense)\n",
    "dense = Dense(22, activation='softmax', name='prediction')(dense)"
   ]
  },
  {
   "cell_type": "code",
   "execution_count": 20,
   "metadata": {
    "collapsed": true
   },
   "outputs": [],
   "source": [
    "second_stage_all_dense_layers = Model(base_vgg16.input, dense)"
   ]
  },
  {
   "cell_type": "code",
   "execution_count": 21,
   "metadata": {},
   "outputs": [
    {
     "name": "stdout",
     "output_type": "stream",
     "text": [
      "_________________________________________________________________\n",
      "Layer (type)                 Output Shape              Param #   \n",
      "=================================================================\n",
      "input_1 (InputLayer)         (None, 224, 224, 3)       0         \n",
      "_________________________________________________________________\n",
      "block1_conv1 (Conv2D)        (None, 224, 224, 64)      1792      \n",
      "_________________________________________________________________\n",
      "block1_conv2 (Conv2D)        (None, 224, 224, 64)      36928     \n",
      "_________________________________________________________________\n",
      "block1_pool (MaxPooling2D)   (None, 112, 112, 64)      0         \n",
      "_________________________________________________________________\n",
      "block2_conv1 (Conv2D)        (None, 112, 112, 128)     73856     \n",
      "_________________________________________________________________\n",
      "block2_conv2 (Conv2D)        (None, 112, 112, 128)     147584    \n",
      "_________________________________________________________________\n",
      "block2_pool (MaxPooling2D)   (None, 56, 56, 128)       0         \n",
      "_________________________________________________________________\n",
      "block3_conv1 (Conv2D)        (None, 56, 56, 256)       295168    \n",
      "_________________________________________________________________\n",
      "block3_conv2 (Conv2D)        (None, 56, 56, 256)       590080    \n",
      "_________________________________________________________________\n",
      "block3_conv3 (Conv2D)        (None, 56, 56, 256)       590080    \n",
      "_________________________________________________________________\n",
      "block3_pool (MaxPooling2D)   (None, 28, 28, 256)       0         \n",
      "_________________________________________________________________\n",
      "block4_conv1 (Conv2D)        (None, 28, 28, 512)       1180160   \n",
      "_________________________________________________________________\n",
      "block4_conv2 (Conv2D)        (None, 28, 28, 512)       2359808   \n",
      "_________________________________________________________________\n",
      "block4_conv3 (Conv2D)        (None, 28, 28, 512)       2359808   \n",
      "_________________________________________________________________\n",
      "block4_pool (MaxPooling2D)   (None, 14, 14, 512)       0         \n",
      "_________________________________________________________________\n",
      "block5_conv1 (Conv2D)        (None, 14, 14, 512)       2359808   \n",
      "_________________________________________________________________\n",
      "block5_conv2 (Conv2D)        (None, 14, 14, 512)       2359808   \n",
      "_________________________________________________________________\n",
      "block5_conv3 (Conv2D)        (None, 14, 14, 512)       2359808   \n",
      "_________________________________________________________________\n",
      "block5_pool (MaxPooling2D)   (None, 7, 7, 512)         0         \n",
      "_________________________________________________________________\n",
      "global_average_pooling2d_1 ( (None, 512)               0         \n",
      "_________________________________________________________________\n",
      "fc1 (Dense)                  (None, 2048)              1050624   \n",
      "_________________________________________________________________\n",
      "dropout_1 (Dropout)          (None, 2048)              0         \n",
      "_________________________________________________________________\n",
      "fc2 (Dense)                  (None, 2048)              4196352   \n",
      "_________________________________________________________________\n",
      "dropout_2 (Dropout)          (None, 2048)              0         \n",
      "_________________________________________________________________\n",
      "prediction (Dense)           (None, 22)                45078     \n",
      "=================================================================\n",
      "Total params: 20,006,742\n",
      "Trainable params: 5,292,054\n",
      "Non-trainable params: 14,714,688\n",
      "_________________________________________________________________\n"
     ]
    }
   ],
   "source": [
    "second_stage_all_dense_layers.summary()"
   ]
  },
  {
   "cell_type": "code",
   "execution_count": 22,
   "metadata": {},
   "outputs": [
    {
     "name": "stdout",
     "output_type": "stream",
     "text": [
      "Which layers are trainable?\n",
      "input_1: False\n",
      "block1_conv1: False\n",
      "block1_conv2: False\n",
      "block1_pool: False\n",
      "block2_conv1: False\n",
      "block2_conv2: False\n",
      "block2_pool: False\n",
      "block3_conv1: False\n",
      "block3_conv2: False\n",
      "block3_conv3: False\n",
      "block3_pool: False\n",
      "block4_conv1: False\n",
      "block4_conv2: False\n",
      "block4_conv3: False\n",
      "block4_pool: False\n",
      "block5_conv1: False\n",
      "block5_conv2: False\n",
      "block5_conv3: False\n",
      "block5_pool: False\n",
      "global_average_pooling2d_1: True\n",
      "fc1: True\n",
      "dropout_1: True\n",
      "fc2: True\n",
      "dropout_2: True\n",
      "prediction: True\n"
     ]
    }
   ],
   "source": [
    "print('Which layers are trainable?')\n",
    "for layer in second_stage_all_dense_layers.layers:\n",
    "    print('{}: {}'.format(layer.name, layer.trainable))"
   ]
  },
  {
   "cell_type": "code",
   "execution_count": 23,
   "metadata": {
    "collapsed": true
   },
   "outputs": [],
   "source": [
    "second_stage_all_dense_layers.compile(loss='categorical_crossentropy', optimizer='adam',\n",
    "                                   metrics=[top_1_error, top_3_error])"
   ]
  },
  {
   "cell_type": "code",
   "execution_count": 24,
   "metadata": {
    "collapsed": true
   },
   "outputs": [],
   "source": [
    "checkpointer = ModelCheckpoint(filepath='./saved_models/f_rcnn/second_stage/weights_vgg16_dense.hdf5', \n",
    "                               verbose=1, save_best_only=True)"
   ]
  },
  {
   "cell_type": "code",
   "execution_count": 25,
   "metadata": {
    "collapsed": true
   },
   "outputs": [],
   "source": [
    "history_all_dense_layers = list()"
   ]
  },
  {
   "cell_type": "code",
   "execution_count": 26,
   "metadata": {
    "collapsed": true
   },
   "outputs": [],
   "source": [
    "batch_size=25"
   ]
  },
  {
   "cell_type": "code",
   "execution_count": 27,
   "metadata": {},
   "outputs": [
    {
     "name": "stdout",
     "output_type": "stream",
     "text": [
      "Found 12990 images belonging to 22 classes.\n",
      "Found 4319 images belonging to 22 classes.\n",
      "Epoch 1/100\n",
      "Epoch 00000: val_loss improved from inf to 1.87255, saving model to ./saved_models/f_rcnn/second_stage/weights_vgg16_dense.hdf5\n",
      "36s - loss: 4.9774 - top_1_error: 0.7496 - top_3_error: 0.5273 - val_loss: 1.8725 - val_top_1_error: 0.5771 - val_top_3_error: 0.2926\n",
      "Epoch 2/100\n",
      "Epoch 00001: val_loss improved from 1.87255 to 1.85063, saving model to ./saved_models/f_rcnn/second_stage/weights_vgg16_dense.hdf5\n",
      "35s - loss: 2.0243 - top_1_error: 0.6046 - top_3_error: 0.3377 - val_loss: 1.8506 - val_top_1_error: 0.5611 - val_top_3_error: 0.2949\n",
      "Epoch 3/100\n",
      "Epoch 00002: val_loss improved from 1.85063 to 1.81115, saving model to ./saved_models/f_rcnn/second_stage/weights_vgg16_dense.hdf5\n",
      "35s - loss: 1.9835 - top_1_error: 0.5965 - top_3_error: 0.3246 - val_loss: 1.8111 - val_top_1_error: 0.5497 - val_top_3_error: 0.2777\n",
      "Epoch 4/100\n",
      "Epoch 00003: val_loss improved from 1.81115 to 1.59850, saving model to ./saved_models/f_rcnn/second_stage/weights_vgg16_dense.hdf5\n",
      "35s - loss: 1.8799 - top_1_error: 0.5696 - top_3_error: 0.3019 - val_loss: 1.5985 - val_top_1_error: 0.4937 - val_top_3_error: 0.2400\n",
      "Epoch 5/100\n",
      "Epoch 00004: val_loss did not improve\n",
      "35s - loss: 1.8330 - top_1_error: 0.5531 - top_3_error: 0.2823 - val_loss: 1.6236 - val_top_1_error: 0.4903 - val_top_3_error: 0.2217\n",
      "Epoch 6/100\n",
      "Epoch 00005: val_loss did not improve\n",
      "34s - loss: 1.7089 - top_1_error: 0.5323 - top_3_error: 0.2569 - val_loss: 1.6445 - val_top_1_error: 0.5051 - val_top_3_error: 0.2331\n",
      "Epoch 7/100\n",
      "Epoch 00006: val_loss did not improve\n",
      "35s - loss: 1.7085 - top_1_error: 0.5273 - top_3_error: 0.2465 - val_loss: 1.6935 - val_top_1_error: 0.5143 - val_top_3_error: 0.2491\n",
      "Epoch 8/100\n",
      "Epoch 00007: val_loss improved from 1.59850 to 1.55341, saving model to ./saved_models/f_rcnn/second_stage/weights_vgg16_dense.hdf5\n",
      "36s - loss: 1.6612 - top_1_error: 0.5208 - top_3_error: 0.2381 - val_loss: 1.5534 - val_top_1_error: 0.4661 - val_top_3_error: 0.2152\n",
      "Epoch 9/100\n",
      "Epoch 00008: val_loss did not improve\n",
      "35s - loss: 1.6983 - top_1_error: 0.5150 - top_3_error: 0.2665 - val_loss: 1.5887 - val_top_1_error: 0.4651 - val_top_3_error: 0.2171\n",
      "Epoch 10/100\n",
      "Epoch 00009: val_loss did not improve\n",
      "35s - loss: 1.7236 - top_1_error: 0.5350 - top_3_error: 0.2537 - val_loss: 1.5968 - val_top_1_error: 0.4891 - val_top_3_error: 0.2286\n",
      "Epoch 11/100\n",
      "Epoch 00010: val_loss improved from 1.55341 to 1.54719, saving model to ./saved_models/f_rcnn/second_stage/weights_vgg16_dense.hdf5\n",
      "35s - loss: 1.5446 - top_1_error: 0.4815 - top_3_error: 0.2208 - val_loss: 1.5472 - val_top_1_error: 0.4549 - val_top_3_error: 0.2320\n",
      "Epoch 12/100\n",
      "Epoch 00011: val_loss did not improve\n",
      "35s - loss: 1.5475 - top_1_error: 0.4769 - top_3_error: 0.2173 - val_loss: 1.6424 - val_top_1_error: 0.5029 - val_top_3_error: 0.2313\n",
      "Epoch 13/100\n",
      "Epoch 00012: val_loss did not improve\n",
      "35s - loss: 1.5790 - top_1_error: 0.4935 - top_3_error: 0.2319 - val_loss: 1.5667 - val_top_1_error: 0.4720 - val_top_3_error: 0.2046\n",
      "Epoch 14/100\n",
      "Epoch 00013: val_loss improved from 1.54719 to 1.47198, saving model to ./saved_models/f_rcnn/second_stage/weights_vgg16_dense.hdf5\n",
      "35s - loss: 1.6082 - top_1_error: 0.4873 - top_3_error: 0.2315 - val_loss: 1.4720 - val_top_1_error: 0.4674 - val_top_3_error: 0.1886\n",
      "Epoch 15/100\n",
      "Epoch 00014: val_loss improved from 1.47198 to 1.42577, saving model to ./saved_models/f_rcnn/second_stage/weights_vgg16_dense.hdf5\n",
      "35s - loss: 1.6217 - top_1_error: 0.4945 - top_3_error: 0.2287 - val_loss: 1.4258 - val_top_1_error: 0.4309 - val_top_3_error: 0.2114\n",
      "Epoch 16/100\n",
      "Epoch 00015: val_loss did not improve\n",
      "35s - loss: 1.4937 - top_1_error: 0.4754 - top_3_error: 0.2119 - val_loss: 1.5426 - val_top_1_error: 0.4914 - val_top_3_error: 0.2002\n",
      "Epoch 17/100\n",
      "Epoch 00016: val_loss did not improve\n",
      "34s - loss: 1.5252 - top_1_error: 0.4765 - top_3_error: 0.2115 - val_loss: 1.5679 - val_top_1_error: 0.4789 - val_top_3_error: 0.2206\n",
      "Epoch 18/100\n",
      "Epoch 00017: val_loss did not improve\n",
      "35s - loss: 1.5001 - top_1_error: 0.4646 - top_3_error: 0.2058 - val_loss: 1.4893 - val_top_1_error: 0.4389 - val_top_3_error: 0.2126\n",
      "Epoch 19/100\n",
      "Epoch 00018: val_loss did not improve\n",
      "34s - loss: 1.5098 - top_1_error: 0.4738 - top_3_error: 0.2131 - val_loss: 1.5114 - val_top_1_error: 0.4651 - val_top_3_error: 0.2091\n",
      "Epoch 20/100\n",
      "Epoch 00019: val_loss did not improve\n",
      "34s - loss: 1.5413 - top_1_error: 0.4688 - top_3_error: 0.2203 - val_loss: 1.5783 - val_top_1_error: 0.4845 - val_top_3_error: 0.2198\n",
      "Epoch 21/100\n",
      "Epoch 00020: val_loss did not improve\n",
      "34s - loss: 1.4268 - top_1_error: 0.4423 - top_3_error: 0.1912 - val_loss: 1.4935 - val_top_1_error: 0.4469 - val_top_3_error: 0.2057\n",
      "Epoch 22/100\n",
      "Epoch 00021: val_loss did not improve\n",
      "34s - loss: 1.4328 - top_1_error: 0.4396 - top_3_error: 0.2004 - val_loss: 1.5025 - val_top_1_error: 0.4571 - val_top_3_error: 0.2046\n",
      "Epoch 23/100\n",
      "Epoch 00022: val_loss did not improve\n",
      "34s - loss: 1.4840 - top_1_error: 0.4515 - top_3_error: 0.2073 - val_loss: 1.4927 - val_top_1_error: 0.4491 - val_top_3_error: 0.1977\n",
      "Epoch 24/100\n",
      "Epoch 00023: val_loss did not improve\n",
      "34s - loss: 1.5189 - top_1_error: 0.4696 - top_3_error: 0.2008 - val_loss: 1.4730 - val_top_1_error: 0.4442 - val_top_3_error: 0.1864\n",
      "Epoch 25/100\n",
      "Epoch 00024: val_loss did not improve\n",
      "34s - loss: 1.4917 - top_1_error: 0.4677 - top_3_error: 0.1981 - val_loss: 1.5233 - val_top_1_error: 0.4571 - val_top_3_error: 0.2194\n",
      "Epoch 26/100\n",
      "Epoch 00025: val_loss did not improve\n",
      "34s - loss: 1.3650 - top_1_error: 0.4381 - top_3_error: 0.1831 - val_loss: 1.4492 - val_top_1_error: 0.4297 - val_top_3_error: 0.2000\n",
      "Epoch 27/100\n",
      "Epoch 00026: val_loss did not improve\n",
      "35s - loss: 1.4230 - top_1_error: 0.4423 - top_3_error: 0.1846 - val_loss: 1.4523 - val_top_1_error: 0.4606 - val_top_3_error: 0.1954\n",
      "Epoch 28/100\n",
      "Epoch 00027: val_loss did not improve\n",
      "34s - loss: 1.4396 - top_1_error: 0.4562 - top_3_error: 0.1892 - val_loss: 1.5091 - val_top_1_error: 0.4400 - val_top_3_error: 0.2000\n",
      "Epoch 29/100\n",
      "Epoch 00028: val_loss did not improve\n",
      "34s - loss: 1.4360 - top_1_error: 0.4496 - top_3_error: 0.1942 - val_loss: 1.5427 - val_top_1_error: 0.4560 - val_top_3_error: 0.2057\n",
      "Epoch 30/100\n",
      "Epoch 00029: val_loss did not improve\n",
      "34s - loss: 1.4710 - top_1_error: 0.4454 - top_3_error: 0.1973 - val_loss: 1.4650 - val_top_1_error: 0.4320 - val_top_3_error: 0.2011\n",
      "Epoch 31/100\n",
      "Epoch 00030: val_loss did not improve\n",
      "34s - loss: 1.3501 - top_1_error: 0.4269 - top_3_error: 0.1827 - val_loss: 1.4511 - val_top_1_error: 0.4442 - val_top_3_error: 0.1887\n",
      "Epoch 32/100\n",
      "Epoch 00031: val_loss improved from 1.42577 to 1.42236, saving model to ./saved_models/f_rcnn/second_stage/weights_vgg16_dense.hdf5\n",
      "35s - loss: 1.3617 - top_1_error: 0.4419 - top_3_error: 0.1742 - val_loss: 1.4224 - val_top_1_error: 0.4331 - val_top_3_error: 0.2034\n",
      "Epoch 33/100\n",
      "Epoch 00032: val_loss did not improve\n",
      "34s - loss: 1.4386 - top_1_error: 0.4512 - top_3_error: 0.2000 - val_loss: 1.4904 - val_top_1_error: 0.4549 - val_top_3_error: 0.2011\n",
      "Epoch 34/100\n",
      "Epoch 00033: val_loss did not improve\n",
      "34s - loss: 1.4185 - top_1_error: 0.4281 - top_3_error: 0.2000 - val_loss: 1.4463 - val_top_1_error: 0.4274 - val_top_3_error: 0.1886\n",
      "Epoch 35/100\n",
      "Epoch 00034: val_loss did not improve\n",
      "34s - loss: 1.3998 - top_1_error: 0.4253 - top_3_error: 0.1905 - val_loss: 1.5820 - val_top_1_error: 0.4856 - val_top_3_error: 0.2186\n",
      "Epoch 36/100\n",
      "Epoch 00035: val_loss did not improve\n",
      "34s - loss: 1.3228 - top_1_error: 0.4100 - top_3_error: 0.1638 - val_loss: 1.5173 - val_top_1_error: 0.4491 - val_top_3_error: 0.1966\n",
      "Epoch 37/100\n",
      "Epoch 00036: val_loss did not improve\n",
      "34s - loss: 1.3459 - top_1_error: 0.4262 - top_3_error: 0.1700 - val_loss: 1.4254 - val_top_1_error: 0.4251 - val_top_3_error: 0.1749\n",
      "Epoch 38/100\n",
      "Epoch 00037: val_loss did not improve\n",
      "34s - loss: 1.3584 - top_1_error: 0.4235 - top_3_error: 0.1742 - val_loss: 1.5017 - val_top_1_error: 0.4251 - val_top_3_error: 0.1806\n",
      "Epoch 39/100\n",
      "Epoch 00038: val_loss did not improve\n",
      "34s - loss: 1.3615 - top_1_error: 0.4246 - top_3_error: 0.1808 - val_loss: 1.4802 - val_top_1_error: 0.4235 - val_top_3_error: 0.1979\n",
      "Epoch 40/100\n",
      "Epoch 00039: val_loss did not improve\n",
      "34s - loss: 1.3850 - top_1_error: 0.4317 - top_3_error: 0.1823 - val_loss: 1.5132 - val_top_1_error: 0.4537 - val_top_3_error: 0.2080\n",
      "Epoch 41/100\n",
      "Epoch 00040: val_loss did not improve\n",
      "34s - loss: 1.2819 - top_1_error: 0.4127 - top_3_error: 0.1681 - val_loss: 1.6086 - val_top_1_error: 0.4480 - val_top_3_error: 0.2057\n",
      "Epoch 42/100\n",
      "Epoch 00041: val_loss did not improve\n",
      "34s - loss: 1.2889 - top_1_error: 0.3946 - top_3_error: 0.1596 - val_loss: 1.4621 - val_top_1_error: 0.4434 - val_top_3_error: 0.1897\n",
      "Epoch 43/100\n",
      "Epoch 00042: val_loss did not improve\n",
      "34s - loss: 1.3524 - top_1_error: 0.4238 - top_3_error: 0.1769 - val_loss: 1.4895 - val_top_1_error: 0.4304 - val_top_3_error: 0.2014\n",
      "Epoch 44/100\n",
      "Epoch 00043: val_loss did not improve\n",
      "35s - loss: 1.3537 - top_1_error: 0.4215 - top_3_error: 0.1673 - val_loss: 1.4880 - val_top_1_error: 0.4446 - val_top_3_error: 0.1886\n",
      "Epoch 45/100\n",
      "Epoch 00044: val_loss did not improve\n",
      "34s - loss: 1.3007 - top_1_error: 0.4180 - top_3_error: 0.1621 - val_loss: 1.5358 - val_top_1_error: 0.4663 - val_top_3_error: 0.2320\n",
      "Epoch 46/100\n",
      "Epoch 00045: val_loss did not improve\n",
      "34s - loss: 1.2575 - top_1_error: 0.3962 - top_3_error: 0.1542 - val_loss: 1.4325 - val_top_1_error: 0.4297 - val_top_3_error: 0.1794\n",
      "Epoch 47/100\n",
      "Epoch 00046: val_loss did not improve\n",
      "34s - loss: 1.3009 - top_1_error: 0.4108 - top_3_error: 0.1631 - val_loss: 1.4717 - val_top_1_error: 0.4338 - val_top_3_error: 0.2025\n",
      "Epoch 48/100\n",
      "Epoch 00047: val_loss did not improve\n",
      "35s - loss: 1.2702 - top_1_error: 0.3931 - top_3_error: 0.1577 - val_loss: 1.5186 - val_top_1_error: 0.4480 - val_top_3_error: 0.1989\n",
      "Epoch 49/100\n",
      "Epoch 00048: val_loss did not improve\n",
      "34s - loss: 1.3800 - top_1_error: 0.4281 - top_3_error: 0.1750 - val_loss: 1.4783 - val_top_1_error: 0.4320 - val_top_3_error: 0.1943\n",
      "Epoch 50/100\n",
      "Epoch 00049: val_loss did not improve\n",
      "34s - loss: 1.3253 - top_1_error: 0.4074 - top_3_error: 0.1688 - val_loss: 1.5337 - val_top_1_error: 0.4274 - val_top_3_error: 0.1977\n",
      "Epoch 51/100\n",
      "Epoch 00050: val_loss improved from 1.42236 to 1.41005, saving model to ./saved_models/f_rcnn/second_stage/weights_vgg16_dense.hdf5\n",
      "35s - loss: 1.2739 - top_1_error: 0.3950 - top_3_error: 0.1596 - val_loss: 1.4101 - val_top_1_error: 0.4000 - val_top_3_error: 0.1566\n",
      "Epoch 52/100\n",
      "Epoch 00051: val_loss did not improve\n",
      "34s - loss: 1.2343 - top_1_error: 0.4000 - top_3_error: 0.1369 - val_loss: 1.6278 - val_top_1_error: 0.4937 - val_top_3_error: 0.2160\n",
      "Epoch 53/100\n",
      "Epoch 00052: val_loss did not improve\n",
      "35s - loss: 1.2402 - top_1_error: 0.3881 - top_3_error: 0.1604 - val_loss: 1.5414 - val_top_1_error: 0.4594 - val_top_3_error: 0.1989\n",
      "Epoch 54/100\n",
      "Epoch 00053: val_loss did not improve\n",
      "35s - loss: 1.3260 - top_1_error: 0.3931 - top_3_error: 0.1604 - val_loss: 1.4839 - val_top_1_error: 0.4389 - val_top_3_error: 0.2091\n",
      "Epoch 55/100\n",
      "Epoch 00054: val_loss did not improve\n",
      "34s - loss: 1.3519 - top_1_error: 0.4261 - top_3_error: 0.1826 - val_loss: 1.5691 - val_top_1_error: 0.4457 - val_top_3_error: 0.2069\n",
      "Epoch 56/100\n",
      "Epoch 00055: val_loss did not improve\n",
      "35s - loss: 1.1583 - top_1_error: 0.3692 - top_3_error: 0.1415 - val_loss: 1.5169 - val_top_1_error: 0.4617 - val_top_3_error: 0.1966\n",
      "Epoch 57/100\n",
      "Epoch 00056: val_loss did not improve\n",
      "35s - loss: 1.2333 - top_1_error: 0.3869 - top_3_error: 0.1519 - val_loss: 1.5811 - val_top_1_error: 0.4731 - val_top_3_error: 0.2011\n",
      "Epoch 58/100\n",
      "Epoch 00057: val_loss did not improve\n",
      "34s - loss: 1.2725 - top_1_error: 0.3988 - top_3_error: 0.1615 - val_loss: 1.4241 - val_top_1_error: 0.4327 - val_top_3_error: 0.1887\n",
      "Epoch 59/100\n",
      "Epoch 00058: val_loss did not improve\n",
      "34s - loss: 1.2933 - top_1_error: 0.3888 - top_3_error: 0.1585 - val_loss: 1.5410 - val_top_1_error: 0.4503 - val_top_3_error: 0.2046\n",
      "Epoch 60/100\n",
      "Epoch 00059: val_loss did not improve\n",
      "34s - loss: 1.3316 - top_1_error: 0.4183 - top_3_error: 0.1737 - val_loss: 1.4141 - val_top_1_error: 0.4400 - val_top_3_error: 0.1851\n",
      "Epoch 61/100\n",
      "Epoch 00060: val_loss improved from 1.41005 to 1.37582, saving model to ./saved_models/f_rcnn/second_stage/weights_vgg16_dense.hdf5\n",
      "35s - loss: 1.1842 - top_1_error: 0.3785 - top_3_error: 0.1346 - val_loss: 1.3758 - val_top_1_error: 0.4171 - val_top_3_error: 0.1806\n",
      "Epoch 62/100\n",
      "Epoch 00061: val_loss did not improve\n",
      "34s - loss: 1.2556 - top_1_error: 0.3996 - top_3_error: 0.1535 - val_loss: 1.6787 - val_top_1_error: 0.5213 - val_top_3_error: 0.2532\n",
      "Epoch 63/100\n",
      "Epoch 00062: val_loss did not improve\n",
      "35s - loss: 1.2550 - top_1_error: 0.4023 - top_3_error: 0.1562 - val_loss: 1.4655 - val_top_1_error: 0.4171 - val_top_3_error: 0.1806\n",
      "Epoch 64/100\n",
      "Epoch 00063: val_loss did not improve\n",
      "35s - loss: 1.2092 - top_1_error: 0.3831 - top_3_error: 0.1385 - val_loss: 1.4893 - val_top_1_error: 0.4389 - val_top_3_error: 0.1966\n",
      "Epoch 65/100\n",
      "Epoch 00064: val_loss did not improve\n",
      "34s - loss: 1.2765 - top_1_error: 0.3931 - top_3_error: 0.1549 - val_loss: 1.5875 - val_top_1_error: 0.4709 - val_top_3_error: 0.1989\n",
      "Epoch 66/100\n",
      "Epoch 00065: val_loss did not improve\n",
      "34s - loss: 1.1723 - top_1_error: 0.3650 - top_3_error: 0.1385 - val_loss: 1.5475 - val_top_1_error: 0.4465 - val_top_3_error: 0.2152\n",
      "Epoch 67/100\n",
      "Epoch 00066: val_loss did not improve\n",
      "34s - loss: 1.2134 - top_1_error: 0.3842 - top_3_error: 0.1504 - val_loss: 1.5219 - val_top_1_error: 0.4629 - val_top_3_error: 0.1989\n",
      "Epoch 68/100\n",
      "Epoch 00067: val_loss did not improve\n",
      "34s - loss: 1.2221 - top_1_error: 0.3904 - top_3_error: 0.1481 - val_loss: 1.4723 - val_top_1_error: 0.4263 - val_top_3_error: 0.1989\n",
      "Epoch 69/100\n",
      "Epoch 00068: val_loss did not improve\n",
      "35s - loss: 1.2224 - top_1_error: 0.3788 - top_3_error: 0.1488 - val_loss: 1.5221 - val_top_1_error: 0.4423 - val_top_3_error: 0.2137\n",
      "Epoch 70/100\n",
      "Epoch 00069: val_loss did not improve\n",
      "34s - loss: 1.2593 - top_1_error: 0.3892 - top_3_error: 0.1562 - val_loss: 1.5038 - val_top_1_error: 0.4522 - val_top_3_error: 0.1991\n",
      "Epoch 71/100\n",
      "Epoch 00070: val_loss did not improve\n",
      "35s - loss: 1.1307 - top_1_error: 0.3562 - top_3_error: 0.1369 - val_loss: 1.4221 - val_top_1_error: 0.4126 - val_top_3_error: 0.1897\n",
      "Epoch 72/100\n",
      "Epoch 00071: val_loss did not improve\n",
      "34s - loss: 1.2623 - top_1_error: 0.3742 - top_3_error: 0.1462 - val_loss: 1.6091 - val_top_1_error: 0.4709 - val_top_3_error: 0.2320\n",
      "Epoch 73/100\n",
      "Epoch 00072: val_loss did not improve\n",
      "35s - loss: 1.1901 - top_1_error: 0.3723 - top_3_error: 0.1327 - val_loss: 1.5540 - val_top_1_error: 0.4331 - val_top_3_error: 0.1840\n",
      "Epoch 74/100\n",
      "Epoch 00073: val_loss did not improve\n",
      "34s - loss: 1.2832 - top_1_error: 0.4112 - top_3_error: 0.1538 - val_loss: 1.4598 - val_top_1_error: 0.4246 - val_top_3_error: 0.1749\n",
      "Epoch 75/100\n",
      "Epoch 00074: val_loss did not improve\n",
      "34s - loss: 1.1981 - top_1_error: 0.3715 - top_3_error: 0.1417 - val_loss: 1.5737 - val_top_1_error: 0.4411 - val_top_3_error: 0.1863\n",
      "Epoch 76/100\n",
      "Epoch 00075: val_loss did not improve\n",
      "35s - loss: 1.1360 - top_1_error: 0.3642 - top_3_error: 0.1342 - val_loss: 1.5222 - val_top_1_error: 0.4137 - val_top_3_error: 0.1886\n",
      "Epoch 77/100\n",
      "Epoch 00076: val_loss did not improve\n",
      "35s - loss: 1.1621 - top_1_error: 0.3738 - top_3_error: 0.1412 - val_loss: 1.6321 - val_top_1_error: 0.4709 - val_top_3_error: 0.2046\n",
      "Epoch 78/100\n",
      "Epoch 00077: val_loss did not improve\n",
      "35s - loss: 1.2039 - top_1_error: 0.3792 - top_3_error: 0.1442 - val_loss: 1.5601 - val_top_1_error: 0.4320 - val_top_3_error: 0.1897\n",
      "Epoch 79/100\n",
      "Epoch 00078: val_loss did not improve\n",
      "34s - loss: 1.2042 - top_1_error: 0.3754 - top_3_error: 0.1408 - val_loss: 1.5099 - val_top_1_error: 0.4537 - val_top_3_error: 0.1874\n",
      "Epoch 80/100\n",
      "Epoch 00079: val_loss did not improve\n",
      "34s - loss: 1.2225 - top_1_error: 0.3781 - top_3_error: 0.1480 - val_loss: 1.6452 - val_top_1_error: 0.4686 - val_top_3_error: 0.2046\n",
      "Epoch 81/100\n",
      "Epoch 00080: val_loss did not improve\n",
      "34s - loss: 1.1295 - top_1_error: 0.3538 - top_3_error: 0.1215 - val_loss: 1.4495 - val_top_1_error: 0.4120 - val_top_3_error: 0.1933\n",
      "Epoch 82/100\n",
      "Epoch 00081: val_loss did not improve\n",
      "35s - loss: 1.1426 - top_1_error: 0.3650 - top_3_error: 0.1323 - val_loss: 1.5583 - val_top_1_error: 0.4709 - val_top_3_error: 0.1897\n",
      "Epoch 00081: early stopping\n"
     ]
    },
    {
     "data": {
      "text/plain": [
       "<keras.callbacks.History at 0x7f27b42788d0>"
      ]
     },
     "execution_count": 27,
     "metadata": {},
     "output_type": "execute_result"
    }
   ],
   "source": [
    "second_stage_all_dense_layers.fit_generator(generator_train(batch_size), \n",
    "                                         steps_per_epoch=n_train_images/(5*batch_size),\n",
    "                                         epochs=epochs, \n",
    "                                         callbacks = [checkpointer, stopper, \n",
    "                                                      get_history(history_all_dense_layers)], \n",
    "                                         validation_data=generator_val(batch_size), \n",
    "                                         validation_steps=n_val_images/(5*batch_size), \n",
    "                                         verbose=2)"
   ]
  },
  {
   "cell_type": "code",
   "execution_count": 28,
   "metadata": {},
   "outputs": [
    {
     "name": "stdout",
     "output_type": "stream",
     "text": [
      "Found 4319 images belonging to 22 classes.\n",
      "Validation loss: 1.483330\n",
      "Validation top-1-error rate: 43.11%\n",
      "Validation top-3-error rate: 19.40%\n"
     ]
    }
   ],
   "source": [
    "second_stage_all_dense_layers.load_weights('./saved_models/f_rcnn/second_stage/weights_vgg16_dense.hdf5')\n",
    "performance_second_stage_all_dense_layers = second_stage_all_dense_layers.evaluate_generator(\n",
    "    generator_val(batch_size, shuffle=False), steps = n_val_images/batch_size)\n",
    "print('Validation loss: {:2f}'.format(performance_second_stage_all_dense_layers[0]))\n",
    "print('Validation top-1-error rate: {:.2f}%'.format(100*performance_second_stage_all_dense_layers[1]))\n",
    "print('Validation top-3-error rate: {:.2f}%'.format(100*performance_second_stage_all_dense_layers[2]))"
   ]
  },
  {
   "cell_type": "markdown",
   "metadata": {},
   "source": [
    "Save results"
   ]
  },
  {
   "cell_type": "code",
   "execution_count": 29,
   "metadata": {},
   "outputs": [],
   "source": [
    "pd.DataFrame(history_all_dense_layers).to_csv('./results/f_rcnn/second_stage/history_all_dense_layers.csv')"
   ]
  },
  {
   "cell_type": "markdown",
   "metadata": {},
   "source": [
    "# Second Stage 3: VGG16 with replaced dense layers and trained convolutional block"
   ]
  },
  {
   "cell_type": "code",
   "execution_count": 30,
   "metadata": {},
   "outputs": [],
   "source": [
    "second_stage_dense_and_conv = second_stage_all_dense_layers"
   ]
  },
  {
   "cell_type": "code",
   "execution_count": 31,
   "metadata": {},
   "outputs": [],
   "source": [
    "for layer in second_stage_dense_and_conv.layers[15:]:\n",
    "    layer.trainable = True"
   ]
  },
  {
   "cell_type": "code",
   "execution_count": 32,
   "metadata": {},
   "outputs": [
    {
     "name": "stdout",
     "output_type": "stream",
     "text": [
      "Which layers are trainable?\n",
      "input_1: False\n",
      "block1_conv1: False\n",
      "block1_conv2: False\n",
      "block1_pool: False\n",
      "block2_conv1: False\n",
      "block2_conv2: False\n",
      "block2_pool: False\n",
      "block3_conv1: False\n",
      "block3_conv2: False\n",
      "block3_conv3: False\n",
      "block3_pool: False\n",
      "block4_conv1: False\n",
      "block4_conv2: False\n",
      "block4_conv3: False\n",
      "block4_pool: False\n",
      "block5_conv1: True\n",
      "block5_conv2: True\n",
      "block5_conv3: True\n",
      "block5_pool: True\n",
      "global_average_pooling2d_1: True\n",
      "fc1: True\n",
      "dropout_1: True\n",
      "fc2: True\n",
      "dropout_2: True\n",
      "prediction: True\n"
     ]
    }
   ],
   "source": [
    "print('Which layers are trainable?')\n",
    "for layer in second_stage_dense_and_conv.layers:\n",
    "    print('{}: {}'.format(layer.name, layer.trainable))"
   ]
  },
  {
   "cell_type": "markdown",
   "metadata": {},
   "source": [
    "We use a slower learning rate here for fine-tuning"
   ]
  },
  {
   "cell_type": "code",
   "execution_count": 33,
   "metadata": {
    "collapsed": true
   },
   "outputs": [],
   "source": [
    "from keras.optimizers import SGD\n",
    "sgd = SGD(lr=10e-4, momentum=0.9, nesterov=True)"
   ]
  },
  {
   "cell_type": "code",
   "execution_count": 34,
   "metadata": {
    "collapsed": true
   },
   "outputs": [],
   "source": [
    "second_stage_dense_and_conv.compile(loss='categorical_crossentropy', optimizer=sgd,\n",
    "                                 metrics=[top_1_error, top_3_error])"
   ]
  },
  {
   "cell_type": "code",
   "execution_count": 35,
   "metadata": {
    "collapsed": true
   },
   "outputs": [],
   "source": [
    "checkpointer = ModelCheckpoint(filepath='./saved_models/f_rcnn/second_stage/weights_vgg16_conv_and_dense.hdf5', \n",
    "                               verbose=1, save_best_only=True)"
   ]
  },
  {
   "cell_type": "code",
   "execution_count": 36,
   "metadata": {
    "collapsed": true
   },
   "outputs": [],
   "source": [
    "history_dense_and_conv = list()"
   ]
  },
  {
   "cell_type": "code",
   "execution_count": 37,
   "metadata": {
    "collapsed": true
   },
   "outputs": [],
   "source": [
    "batch_size=20"
   ]
  },
  {
   "cell_type": "code",
   "execution_count": 38,
   "metadata": {},
   "outputs": [
    {
     "name": "stdout",
     "output_type": "stream",
     "text": [
      "Found 12990 images belonging to 22 classes.\n",
      "Found 4319 images belonging to 22 classes.\n",
      "Epoch 1/100\n",
      "Epoch 00000: val_loss improved from inf to 1.85537, saving model to ./saved_models/f_rcnn/second_stage/weights_vgg16_conv_and_dense.hdf5\n",
      "42s - loss: 2.0202 - top_1_error: 0.6138 - top_3_error: 0.3419 - val_loss: 1.8554 - val_top_1_error: 0.5500 - val_top_3_error: 0.2636\n",
      "Epoch 2/100\n",
      "Epoch 00001: val_loss improved from 1.85537 to 1.77311, saving model to ./saved_models/f_rcnn/second_stage/weights_vgg16_conv_and_dense.hdf5\n",
      "41s - loss: 1.7809 - top_1_error: 0.5454 - top_3_error: 0.2754 - val_loss: 1.7731 - val_top_1_error: 0.5341 - val_top_3_error: 0.2500\n",
      "Epoch 3/100\n",
      "Epoch 00002: val_loss improved from 1.77311 to 1.70867, saving model to ./saved_models/f_rcnn/second_stage/weights_vgg16_conv_and_dense.hdf5\n",
      "41s - loss: 1.6679 - top_1_error: 0.5008 - top_3_error: 0.2192 - val_loss: 1.7087 - val_top_1_error: 0.5114 - val_top_3_error: 0.2511\n",
      "Epoch 4/100\n",
      "Epoch 00003: val_loss improved from 1.70867 to 1.63373, saving model to ./saved_models/f_rcnn/second_stage/weights_vgg16_conv_and_dense.hdf5\n",
      "41s - loss: 1.6106 - top_1_error: 0.4812 - top_3_error: 0.2285 - val_loss: 1.6337 - val_top_1_error: 0.4614 - val_top_3_error: 0.2193\n",
      "Epoch 5/100\n",
      "Epoch 00004: val_loss improved from 1.63373 to 1.61155, saving model to ./saved_models/f_rcnn/second_stage/weights_vgg16_conv_and_dense.hdf5\n",
      "42s - loss: 1.6021 - top_1_error: 0.4877 - top_3_error: 0.2165 - val_loss: 1.6115 - val_top_1_error: 0.4966 - val_top_3_error: 0.2330\n",
      "Epoch 6/100\n",
      "Epoch 00005: val_loss improved from 1.61155 to 1.50368, saving model to ./saved_models/f_rcnn/second_stage/weights_vgg16_conv_and_dense.hdf5\n",
      "41s - loss: 1.4065 - top_1_error: 0.4238 - top_3_error: 0.1915 - val_loss: 1.5037 - val_top_1_error: 0.4477 - val_top_3_error: 0.1989\n",
      "Epoch 7/100\n",
      "Epoch 00006: val_loss improved from 1.50368 to 1.49115, saving model to ./saved_models/f_rcnn/second_stage/weights_vgg16_conv_and_dense.hdf5\n",
      "41s - loss: 1.4130 - top_1_error: 0.4385 - top_3_error: 0.1923 - val_loss: 1.4912 - val_top_1_error: 0.4602 - val_top_3_error: 0.2011\n",
      "Epoch 8/100\n",
      "Epoch 00007: val_loss did not improve\n",
      "41s - loss: 1.3616 - top_1_error: 0.4227 - top_3_error: 0.1692 - val_loss: 1.5691 - val_top_1_error: 0.4693 - val_top_3_error: 0.2250\n",
      "Epoch 9/100\n",
      "Epoch 00008: val_loss improved from 1.49115 to 1.43083, saving model to ./saved_models/f_rcnn/second_stage/weights_vgg16_conv_and_dense.hdf5\n",
      "41s - loss: 1.3996 - top_1_error: 0.4335 - top_3_error: 0.1858 - val_loss: 1.4308 - val_top_1_error: 0.4102 - val_top_3_error: 0.1784\n",
      "Epoch 10/100\n",
      "Epoch 00009: val_loss did not improve\n",
      "41s - loss: 1.3451 - top_1_error: 0.4185 - top_3_error: 0.1708 - val_loss: 1.5386 - val_top_1_error: 0.4568 - val_top_3_error: 0.2193\n",
      "Epoch 11/100\n",
      "Epoch 00010: val_loss improved from 1.43083 to 1.38850, saving model to ./saved_models/f_rcnn/second_stage/weights_vgg16_conv_and_dense.hdf5\n",
      "41s - loss: 1.1995 - top_1_error: 0.3658 - top_3_error: 0.1400 - val_loss: 1.3885 - val_top_1_error: 0.4148 - val_top_3_error: 0.1523\n",
      "Epoch 12/100\n",
      "Epoch 00011: val_loss did not improve\n",
      "41s - loss: 1.1975 - top_1_error: 0.3758 - top_3_error: 0.1419 - val_loss: 1.5112 - val_top_1_error: 0.4330 - val_top_3_error: 0.2011\n",
      "Epoch 13/100\n",
      "Epoch 00012: val_loss improved from 1.38850 to 1.32084, saving model to ./saved_models/f_rcnn/second_stage/weights_vgg16_conv_and_dense.hdf5\n",
      "41s - loss: 1.2122 - top_1_error: 0.3846 - top_3_error: 0.1600 - val_loss: 1.3208 - val_top_1_error: 0.3830 - val_top_3_error: 0.1716\n",
      "Epoch 14/100\n",
      "Epoch 00013: val_loss did not improve\n",
      "41s - loss: 1.1608 - top_1_error: 0.3596 - top_3_error: 0.1369 - val_loss: 1.3711 - val_top_1_error: 0.3966 - val_top_3_error: 0.1761\n",
      "Epoch 15/100\n",
      "Epoch 00014: val_loss did not improve\n",
      "41s - loss: 1.2191 - top_1_error: 0.3796 - top_3_error: 0.1342 - val_loss: 1.5068 - val_top_1_error: 0.4330 - val_top_3_error: 0.2034\n",
      "Epoch 16/100\n",
      "Epoch 00015: val_loss did not improve\n",
      "41s - loss: 1.0592 - top_1_error: 0.3315 - top_3_error: 0.1192 - val_loss: 1.5521 - val_top_1_error: 0.4580 - val_top_3_error: 0.1989\n",
      "Epoch 17/100\n",
      "Epoch 00016: val_loss did not improve\n",
      "41s - loss: 1.0475 - top_1_error: 0.3331 - top_3_error: 0.1219 - val_loss: 1.3617 - val_top_1_error: 0.3932 - val_top_3_error: 0.1739\n",
      "Epoch 18/100\n",
      "Epoch 00017: val_loss did not improve\n",
      "41s - loss: 1.1271 - top_1_error: 0.3542 - top_3_error: 0.1365 - val_loss: 1.4255 - val_top_1_error: 0.4261 - val_top_3_error: 0.2114\n",
      "Epoch 19/100\n",
      "Epoch 00018: val_loss improved from 1.32084 to 1.31500, saving model to ./saved_models/f_rcnn/second_stage/weights_vgg16_conv_and_dense.hdf5\n",
      "41s - loss: 1.0449 - top_1_error: 0.3446 - top_3_error: 0.1154 - val_loss: 1.3150 - val_top_1_error: 0.3761 - val_top_3_error: 0.1466\n",
      "Epoch 20/100\n",
      "Epoch 00019: val_loss did not improve\n",
      "41s - loss: 1.0931 - top_1_error: 0.3469 - top_3_error: 0.1215 - val_loss: 1.3584 - val_top_1_error: 0.3932 - val_top_3_error: 0.1716\n",
      "Epoch 21/100\n",
      "Epoch 00020: val_loss did not improve\n",
      "41s - loss: 0.9151 - top_1_error: 0.2988 - top_3_error: 0.0969 - val_loss: 1.4093 - val_top_1_error: 0.4011 - val_top_3_error: 0.1591\n",
      "Epoch 22/100\n",
      "Epoch 00021: val_loss did not improve\n",
      "41s - loss: 0.9289 - top_1_error: 0.3062 - top_3_error: 0.1004 - val_loss: 1.4061 - val_top_1_error: 0.4125 - val_top_3_error: 0.1830\n",
      "Epoch 23/100\n",
      "Epoch 00022: val_loss did not improve\n",
      "41s - loss: 0.9830 - top_1_error: 0.3038 - top_3_error: 0.1088 - val_loss: 1.3762 - val_top_1_error: 0.4057 - val_top_3_error: 0.1795\n",
      "Epoch 24/100\n",
      "Epoch 00023: val_loss did not improve\n",
      "41s - loss: 0.9716 - top_1_error: 0.3065 - top_3_error: 0.0950 - val_loss: 1.4110 - val_top_1_error: 0.4045 - val_top_3_error: 0.1761\n",
      "Epoch 25/100\n",
      "Epoch 00024: val_loss did not improve\n",
      "41s - loss: 0.9959 - top_1_error: 0.3223 - top_3_error: 0.1104 - val_loss: 1.4428 - val_top_1_error: 0.4352 - val_top_3_error: 0.2023\n",
      "Epoch 26/100\n",
      "Epoch 00025: val_loss did not improve\n",
      "41s - loss: 0.8897 - top_1_error: 0.2942 - top_3_error: 0.0854 - val_loss: 1.3958 - val_top_1_error: 0.4080 - val_top_3_error: 0.1682\n",
      "Epoch 27/100\n",
      "Epoch 00026: val_loss did not improve\n",
      "41s - loss: 0.8638 - top_1_error: 0.2842 - top_3_error: 0.0850 - val_loss: 1.4440 - val_top_1_error: 0.4057 - val_top_3_error: 0.1670\n",
      "Epoch 28/100\n",
      "Epoch 00027: val_loss did not improve\n",
      "41s - loss: 0.9312 - top_1_error: 0.3088 - top_3_error: 0.0923 - val_loss: 1.4656 - val_top_1_error: 0.4114 - val_top_3_error: 0.1841\n",
      "Epoch 29/100\n",
      "Epoch 00028: val_loss did not improve\n",
      "41s - loss: 0.9092 - top_1_error: 0.2954 - top_3_error: 0.0919 - val_loss: 1.4565 - val_top_1_error: 0.4227 - val_top_3_error: 0.1795\n",
      "Epoch 30/100\n",
      "Epoch 00029: val_loss did not improve\n",
      "41s - loss: 0.9493 - top_1_error: 0.2973 - top_3_error: 0.0958 - val_loss: 1.3270 - val_top_1_error: 0.3818 - val_top_3_error: 0.1614\n",
      "Epoch 31/100\n",
      "Epoch 00030: val_loss did not improve\n",
      "41s - loss: 0.7694 - top_1_error: 0.2681 - top_3_error: 0.0750 - val_loss: 1.3606 - val_top_1_error: 0.4239 - val_top_3_error: 0.1716\n",
      "Epoch 32/100\n",
      "Epoch 00031: val_loss did not improve\n",
      "41s - loss: 0.7733 - top_1_error: 0.2550 - top_3_error: 0.0723 - val_loss: 1.3740 - val_top_1_error: 0.3864 - val_top_3_error: 0.1682\n",
      "Epoch 33/100\n",
      "Epoch 00032: val_loss did not improve\n",
      "41s - loss: 0.7594 - top_1_error: 0.2477 - top_3_error: 0.0677 - val_loss: 1.4656 - val_top_1_error: 0.4250 - val_top_3_error: 0.1875\n",
      "Epoch 34/100\n",
      "Epoch 00033: val_loss did not improve\n",
      "41s - loss: 0.8418 - top_1_error: 0.2800 - top_3_error: 0.0823 - val_loss: 1.4921 - val_top_1_error: 0.4125 - val_top_3_error: 0.1795\n",
      "Epoch 35/100\n",
      "Epoch 00034: val_loss did not improve\n",
      "41s - loss: 0.9003 - top_1_error: 0.2862 - top_3_error: 0.0923 - val_loss: 1.4234 - val_top_1_error: 0.3989 - val_top_3_error: 0.1727\n",
      "Epoch 36/100\n",
      "Epoch 00035: val_loss did not improve\n",
      "41s - loss: 0.7467 - top_1_error: 0.2435 - top_3_error: 0.0696 - val_loss: 1.4222 - val_top_1_error: 0.4057 - val_top_3_error: 0.1739\n",
      "Epoch 37/100\n",
      "Epoch 00036: val_loss did not improve\n",
      "41s - loss: 0.7509 - top_1_error: 0.2469 - top_3_error: 0.0723 - val_loss: 1.3525 - val_top_1_error: 0.3773 - val_top_3_error: 0.1625\n",
      "Epoch 38/100\n",
      "Epoch 00037: val_loss did not improve\n",
      "41s - loss: 0.7686 - top_1_error: 0.2523 - top_3_error: 0.0754 - val_loss: 1.4034 - val_top_1_error: 0.4057 - val_top_3_error: 0.1773\n",
      "Epoch 39/100\n",
      "Epoch 00038: val_loss did not improve\n",
      "41s - loss: 0.7556 - top_1_error: 0.2477 - top_3_error: 0.0638 - val_loss: 1.4341 - val_top_1_error: 0.4068 - val_top_3_error: 0.1739\n",
      "Epoch 40/100\n",
      "Epoch 00039: val_loss did not improve\n",
      "41s - loss: 0.7552 - top_1_error: 0.2465 - top_3_error: 0.0696 - val_loss: 1.3783 - val_top_1_error: 0.3807 - val_top_3_error: 0.1659\n",
      "Epoch 00039: early stopping\n"
     ]
    },
    {
     "data": {
      "text/plain": [
       "<keras.callbacks.History at 0x7f27af1cc6d8>"
      ]
     },
     "execution_count": 38,
     "metadata": {},
     "output_type": "execute_result"
    }
   ],
   "source": [
    "second_stage_dense_and_conv.fit_generator(generator_train(batch_size), \n",
    "                                       steps_per_epoch=n_train_images/(5*batch_size),\n",
    "                                       epochs=epochs, \n",
    "                                       callbacks = [checkpointer, stopper, \n",
    "                                                    get_history(history_dense_and_conv)], \n",
    "                                       validation_data=generator_val(batch_size), \n",
    "                                       validation_steps=n_val_images/(5*batch_size), \n",
    "                                       verbose=2)"
   ]
  },
  {
   "cell_type": "code",
   "execution_count": 39,
   "metadata": {},
   "outputs": [
    {
     "name": "stdout",
     "output_type": "stream",
     "text": [
      "Found 4319 images belonging to 22 classes.\n",
      "Validation loss: 1.341645\n",
      "Validation top-1-error rate: 38.64%\n",
      "Validation top-3-error rate: 16.46%\n"
     ]
    }
   ],
   "source": [
    "second_stage_dense_and_conv.load_weights('./saved_models/f_rcnn/second_stage/weights_vgg16_conv_and_dense.hdf5')\n",
    "performance_second_stage_conv_and_dense_layers = second_stage_dense_and_conv.evaluate_generator(\n",
    "    generator_val(batch_size, shuffle=False), steps = n_val_images/batch_size)\n",
    "print('Validation loss: {:2f}'.format(performance_second_stage_conv_and_dense_layers[0]))\n",
    "print('Validation top-1-error rate: {:.2f}%'.format(100*performance_second_stage_conv_and_dense_layers[1]))\n",
    "print('Validation top-3-error rate: {:.2f}%'.format(100*performance_second_stage_conv_and_dense_layers[2]))"
   ]
  },
  {
   "cell_type": "markdown",
   "metadata": {},
   "source": [
    "Save results"
   ]
  },
  {
   "cell_type": "code",
   "execution_count": 40,
   "metadata": {
    "collapsed": true
   },
   "outputs": [],
   "source": [
    "pd.DataFrame(history_dense_and_conv).to_csv('./results/f_rcnn/second_stage/history_dense_and_conv.csv')"
   ]
  }
 ],
 "metadata": {
  "kernelspec": {
   "display_name": "Python 3",
   "language": "python",
   "name": "python3"
  },
  "language_info": {
   "codemirror_mode": {
    "name": "ipython",
    "version": 3
   },
   "file_extension": ".py",
   "mimetype": "text/x-python",
   "name": "python",
   "nbconvert_exporter": "python",
   "pygments_lexer": "ipython3",
   "version": "3.6.2"
  }
 },
 "nbformat": 4,
 "nbformat_minor": 2
}
