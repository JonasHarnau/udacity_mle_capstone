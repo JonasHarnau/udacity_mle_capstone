{
 "cells": [
  {
   "cell_type": "code",
   "execution_count": 11,
   "metadata": {},
   "outputs": [],
   "source": [
    "import pandas as pd\n",
    "import matplotlib.pyplot as plt"
   ]
  },
  {
   "cell_type": "code",
   "execution_count": 12,
   "metadata": {},
   "outputs": [],
   "source": [
    "#plt.style.use('ggplot')"
   ]
  },
  {
   "cell_type": "code",
   "execution_count": 13,
   "metadata": {},
   "outputs": [],
   "source": [
    "%matplotlib inline"
   ]
  },
  {
   "cell_type": "markdown",
   "metadata": {},
   "source": [
    "# Benchmark training plots"
   ]
  },
  {
   "cell_type": "code",
   "execution_count": 14,
   "metadata": {},
   "outputs": [],
   "source": [
    "benchmark_last = pd.read_csv('./results/benchmark/history_last_layer.csv', index_col=[0])\n",
    "benchmark_last.set_index(benchmark_last.index + 1, inplace=True)\n",
    "benchmark_dense = pd.read_csv('./results/benchmark/history_all_dense_layers.csv', index_col=[0])\n",
    "benchmark_dense.set_index(benchmark_dense.index + 1, inplace=True)\n",
    "benchmark_conv_and_dense = pd.read_csv('./results/benchmark/history_dense_and_conv.csv', index_col=[0])\n",
    "benchmark_conv_and_dense.set_index(benchmark_conv_and_dense.index + 1, inplace=True)"
   ]
  },
  {
   "cell_type": "code",
   "execution_count": 5,
   "metadata": {},
   "outputs": [],
   "source": [
    "benchmark_loss_cols = [colname for colname in benchmark_conv_and_dense.columns if 'loss' in colname]\n",
    "benchmark_top_1_error_cols = [colname for colname in benchmark_conv_and_dense.columns if '1_error' in colname]\n",
    "benchmark_top_3_error_cols = [colname for colname in benchmark_conv_and_dense.columns if '3_error' in colname]"
   ]
  },
  {
   "cell_type": "code",
   "execution_count": 10,
   "metadata": {},
   "outputs": [
    {
     "data": {
      "image/png": "[encoded data removed]",
      "text/plain": [
       "<matplotlib.figure.Figure at 0x7fda6f800e48>"
      ]
     },
     "metadata": {},
     "output_type": "display_data"
    }
   ],
   "source": [
    "fig_benchmark, ax_benchmark = plt.subplots(nrows=1, ncols=3, figsize=(6.17,2.7))\n",
    "\n",
    "pd.concat([benchmark_last[benchmark_loss_cols], \n",
    "           benchmark_dense[benchmark_loss_cols], \n",
    "           benchmark_conv_and_dense[benchmark_loss_cols]], axis=1).plot(ax=ax_benchmark[0],\n",
    "                                                                        color= sorted(['b', 'g', 'r']*2), \n",
    "                                                                        style= ['-', ':'] * 3,\n",
    "                                                                        legend=False)\n",
    "\n",
    "pd.concat([benchmark_last[benchmark_top_1_error_cols], \n",
    "           benchmark_dense[benchmark_top_1_error_cols], \n",
    "           benchmark_conv_and_dense[benchmark_top_1_error_cols]], axis=1).plot(ax=ax_benchmark[1],\n",
    "                                                                               color= sorted(['b', 'g', 'r']*2), \n",
    "                                                                               style= ['-', ':'] * 3, \n",
    "                                                                               legend=False)\n",
    "\n",
    "pd.concat([benchmark_last[benchmark_top_3_error_cols], \n",
    "           benchmark_dense[benchmark_top_3_error_cols], \n",
    "           benchmark_conv_and_dense[benchmark_top_3_error_cols]], axis=1).plot(ax=ax_benchmark[2],\n",
    "                                                                               color= sorted(['b', 'g', 'r']*2), \n",
    "                                                                               style= ['-', ':'] * 3, \n",
    "                                                                               legend=False)\n",
    "\n",
    "for ax in ax_benchmark:\n",
    "    ax.set_xlabel('Epoch')\n",
    "    \n",
    "ax_benchmark[0].set_title('Loss')\n",
    "ax_benchmark[1].set_title('Top-1-Error')\n",
    "ax_benchmark[2].set_title('Top-3-Error')\n",
    "\n",
    "#ax_benchmark[0].set_ylim(1,4)\n",
    "#ax_benchmark[1].set_ylim(0.25,1)\n",
    "#ax_benchmark[2].set_ylim(0,0.75)\n",
    "\n",
    "lines = ax_benchmark[0].legend().legendHandles\n",
    "ax_benchmark[0].legend_.remove()\n",
    "\n",
    "lgd = fig_benchmark.legend(lines, \n",
    "                     ('Specification 1 (train)', 'Specification 1 (val)', 'Specification 2 (train)', 'Specification 2 (val)', 'Specification 3 (train)', 'Specification 3 (val)'), \n",
    "                     bbox_to_anchor=(0.02, 0.09, 0.97, .102), loc=1, mode=\"expand\", borderaxespad=0., ncol=3)\n",
    "\n",
    "fig_benchmark.tight_layout()\n",
    "fig_benchmark.subplots_adjust(bottom=0.35)\n",
    "fig_benchmark.savefig('./results/benchmark/plots/loss_error_plot.png', bbox_extra_artists=(lgd,), bbox_inches='tight', dpi=300)"
   ]
  },
  {
   "cell_type": "markdown",
   "metadata": {},
   "source": [
    "# Analysis"
   ]
  },
  {
   "cell_type": "code",
   "execution_count": 29,
   "metadata": {},
   "outputs": [
    {
     "data": {
      "text/plain": [
       "loss               1.647631\n",
       "top_1_error        0.458841\n",
       "top_3_error        0.196265\n",
       "val_loss           1.916871\n",
       "val_top_1_error    0.501157\n",
       "val_top_3_error    0.221065\n",
       "Name: 9, dtype: float64"
      ]
     },
     "metadata": {},
     "output_type": "display_data"
    },
    {
     "name": "stdout",
     "output_type": "stream",
     "text": [
      "Training stopped after 30 epochs\n"
     ]
    }
   ],
   "source": [
    "display(benchmark_last.loc[benchmark_last['val_loss'].idxmin(),:])\n",
    "print('Training stopped after {} epochs'.format(benchmark_last.shape[0]))"
   ]
  },
  {
   "cell_type": "code",
   "execution_count": 30,
   "metadata": {},
   "outputs": [
    {
     "data": {
      "text/plain": [
       "loss               1.332694\n",
       "top_1_error        0.428846\n",
       "top_3_error        0.170385\n",
       "val_loss           1.455010\n",
       "val_top_1_error    0.436571\n",
       "val_top_3_error    0.204571\n",
       "Name: 44, dtype: float64"
      ]
     },
     "metadata": {},
     "output_type": "display_data"
    },
    {
     "name": "stdout",
     "output_type": "stream",
     "text": [
      "Training stopped after 65 epochs\n"
     ]
    }
   ],
   "source": [
    "display(benchmark_dense.loc[benchmark_dense['val_loss'].idxmin(),:])\n",
    "print('Training stopped after {} epochs'.format(benchmark_dense.shape[0]))"
   ]
  },
  {
   "cell_type": "code",
   "execution_count": 31,
   "metadata": {},
   "outputs": [
    {
     "data": {
      "text/plain": [
       "loss               0.695915\n",
       "top_1_error        0.238996\n",
       "top_3_error        0.059073\n",
       "val_loss           1.333819\n",
       "val_top_1_error    0.397727\n",
       "val_top_3_error    0.167045\n",
       "Name: 40, dtype: float64"
      ]
     },
     "metadata": {},
     "output_type": "display_data"
    },
    {
     "name": "stdout",
     "output_type": "stream",
     "text": [
      "Training stopped after 61 epochs\n"
     ]
    }
   ],
   "source": [
    "display(benchmark_conv_and_dense.loc[benchmark_conv_and_dense['val_loss'].idxmin(),:])\n",
    "print('Training stopped after {} epochs'.format(benchmark_conv_and_dense.shape[0]))"
   ]
  }
 ],
 "metadata": {
  "kernelspec": {
   "display_name": "Python 3",
   "language": "python",
   "name": "python3"
  },
  "language_info": {
   "codemirror_mode": {
    "name": "ipython",
    "version": 3
   },
   "file_extension": ".py",
   "mimetype": "text/x-python",
   "name": "python",
   "nbconvert_exporter": "python",
   "pygments_lexer": "ipython3",
   "version": "3.6.2"
  }
 },
 "nbformat": 4,
 "nbformat_minor": 2
}
